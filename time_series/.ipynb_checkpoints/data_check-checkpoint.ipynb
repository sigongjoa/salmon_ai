{
 "cells": [
  {
   "cell_type": "markdown",
   "id": "aaca9d2e",
   "metadata": {},
   "source": [
    "*  KU-MWQ A Dataset for Monitoring Water Quality Using Digital Sensors\n",
    "> https://data.mendeley.com/datasets/34rczh25kc/4\n",
    "\n",
    "* Sensor Based Aquaponics Fish Pond Datasets\n",
    "> https://www.kaggle.com/datasets/e81da8b7666dc7af41cdc3aa5ef96c5547e4f412598a030f40d444550965e34f\n",
    "\n",
    "* fish-weight-prediction\n",
    "> https://www.kaggle.com/code/ybifoundation/fish-weight-prediction\n",
    "\n",
    "* Feeding and growth dataset of Gilthead Seabream (Sparus aurata) fed with local shellfish in diets of juvenile\n",
    "> https://entrepot.recherche.data.gouv.fr/dataset.xhtml?persistentId=doi:10.57745/FPSH2TFeeding%20and%20growth%20dataset%20of%20Gilthead%20Seabream%20(Sparus%20aurata)%20fed%20with%20local%20shellfish%20in%20diets%20of%20juvenile\n",
    "\n",
    "* Data from: High summer macrophyte cover increases abundance, growth and feeding of juvenile Atlantic salmon\n",
    "> https://datadryad.org/stash/dataset/doi:10.5061/dryad.612jm643t"
   ]
  },
  {
   "cell_type": "code",
   "execution_count": null,
   "id": "0aeae096",
   "metadata": {},
   "outputs": [],
   "source": []
  }
 ],
 "metadata": {
  "kernelspec": {
   "display_name": "Python 3",
   "language": "python",
   "name": "python3"
  },
  "language_info": {
   "codemirror_mode": {
    "name": "ipython",
    "version": 3
   },
   "file_extension": ".py",
   "mimetype": "text/x-python",
   "name": "python",
   "nbconvert_exporter": "python",
   "pygments_lexer": "ipython3",
   "version": "3.8.10"
  }
 },
 "nbformat": 4,
 "nbformat_minor": 5
}
