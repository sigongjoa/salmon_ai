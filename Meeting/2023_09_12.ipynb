{
 "cells": [
  {
   "cell_type": "markdown",
   "id": "d0187d16",
   "metadata": {},
   "source": [
    "# 2023_09_12\n",
    "\n",
    "### vir data\n",
    "\n",
    "> http://202.31.200.194:8888/notebooks/NPLAB-NAS/Members/SEO/salom_ai/Dataset/salmon_time_series/vir_data/2023_09_06_vir_data_generate.ipynb\n",
    "\n",
    "현재 논문에서 FL(fork length)에 대한 생장곡선을 정의함  \n",
    "예측을 위해서는 FL와 BD(body depth)에 대한 정보가 필요하지만 데이터가 없으므로 우선은 간단하게 BD/FL로 계산을함  \n",
    "추후에는 regression을 통해서 제대로된 관계를 파악해야함  \n",
    "\n",
    "FL , BD에 대해서는 생장곡선을 mean, 생장 곡선의 기울기 곡선을 std를 하는 가상의 데이터를 생성함  \n",
    "생성된 두 가상의 데이터에 대해서 기존의 poly regression의 수식을 이용해서 weight 데이터를 생성함  "
   ]
  },
  {
   "cell_type": "code",
   "execution_count": null,
   "id": "fc66f19e",
   "metadata": {},
   "outputs": [],
   "source": []
  }
 ],
 "metadata": {
  "kernelspec": {
   "display_name": "Python 3",
   "language": "python",
   "name": "python3"
  },
  "language_info": {
   "codemirror_mode": {
    "name": "ipython",
    "version": 3
   },
   "file_extension": ".py",
   "mimetype": "text/x-python",
   "name": "python",
   "nbconvert_exporter": "python",
   "pygments_lexer": "ipython3",
   "version": "3.8.10"
  }
 },
 "nbformat": 4,
 "nbformat_minor": 5
}
