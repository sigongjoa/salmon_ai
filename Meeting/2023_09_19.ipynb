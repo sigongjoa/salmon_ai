{
 "cells": [
  {
   "cell_type": "markdown",
   "id": "77ccaa19",
   "metadata": {},
   "source": [
    "# 2023_09_19\n",
    "\n",
    "\n",
    "### scatter plot\n",
    "\n",
    "기존의 line plot은 성장곡선이 잘 만들어졌는지 아닌지에 대한 파악을 하기가 힘듦  \n",
    "이를 scatter plot으로 변경  \n",
    "\n",
    "기울기가 너무 이상하지 않는지 확인이 필요함  \n",
    "\n",
    "아래 그림과 같이 scatter plot으로 변경  \n",
    "![](./img/2023_09_14_scatter_plot.jpg)\n",
    "\n",
    "\n",
    "### real data fit\n",
    "\n",
    "실제 계체 실측 데이터와 3D 데이터에 대해서 앞에서 만든 가상의 성장 곡선을 fitting 해야함  \n",
    "실제 데이터를 받은 이후에 진행  \n",
    "\n",
    "\n"
   ]
  },
  {
   "cell_type": "markdown",
   "id": "78ad6b79",
   "metadata": {},
   "source": [
    "### scatter plot result\n",
    "\n",
    "개체측정(1920) 및 중량 측정(480)개의 time \n",
    "scatter plot 및 변화량을 더 잘아보기 위해서 line plot을 추가해서 동시에 볼 수 있도록 만듬  \n",
    "\n",
    "> noteobook : http://202.31.200.194:8888/notebooks/NPLAB-NAS/Members/SEO/salom_ai/Dataset/salmon_time_series/vir_data/2023_09_15_vir_data_generate.ipynb\n",
    "\n",
    "\n",
    "> 480 : http://202.31.200.194:8888/view/NPLAB-NAS/Members/SEO/salom_ai/Dataset/salmon_time_series/vir_data/2023_09_15_Various_Plots_with_Different_Axis_Combinations_480.html\n",
    "\n",
    "> 1920 : http://202.31.200.194:8888/view/NPLAB-NAS/Members/SEO/salom_ai/Dataset/salmon_time_series/vir_data/2023_09_15_Various_Plots_with_Different_Axis_Combinations_1920.html\n",
    "\n",
    "\n",
    "![](./img/2023_09_15_plot_anaysis.png)\n",
    "\n",
    "* 중량에 대해서는 noise가 더 많아 보임  \n",
    "이는 중량은 FL, BD의 noise가 들어간 가상의 데이터에 noise를 한 번더 추가해서 noise가 더 커보임  \n",
    "\n",
    "\n",
    "* BD vs. FL\n",
    "두 변수들의 관계가 선형을 이루고 있기 때문에 plot도 이처럼 직선의 식으로 보임  \n",
    "BD의 정보는 알기가 어려워서 FL* $\\alpha$로 정의해서 사용하고 있음  \n",
    "\n",
    "\n",
    "* BL vs. weight , FL vs. weight\n",
    "두 plot은 지금 지수적으로 증가하는 곡선처럼 보이는데 \n",
    "이는 BL, FL의 증가량이 weight보다 크기 때문에 이렇게 보이는 것 같음  \n",
    "실제로 wieight는 BL * FL * $\\alpha$ 로 정의 되어 있어서 weight의 기울기는 BL, FL에 비해서 작음  "
   ]
  },
  {
   "cell_type": "code",
   "execution_count": 9,
   "id": "e23e8e54",
   "metadata": {},
   "outputs": [
    {
     "data": {
      "text/html": [
       "\n",
       "        <iframe\n",
       "            width=\"1000\"\n",
       "            height=\"1400\"\n",
       "            src=\"../Dataset/salmon_time_series/vir_data/2023_09_15_Various_Plots_with_Different_Axis_Combinations_1920.html\"\n",
       "            frameborder=\"0\"\n",
       "            allowfullscreen\n",
       "        ></iframe>\n",
       "        "
      ],
      "text/plain": [
       "<IPython.lib.display.IFrame at 0x7f83acf02790>"
      ]
     },
     "metadata": {},
     "output_type": "display_data"
    },
    {
     "data": {
      "text/html": [
       "\n",
       "        <iframe\n",
       "            width=\"1000\"\n",
       "            height=\"1400\"\n",
       "            src=\"../Dataset/salmon_time_series/vir_data/2023_09_15_Various_Plots_with_Different_Axis_Combinations_480.html\"\n",
       "            frameborder=\"0\"\n",
       "            allowfullscreen\n",
       "        ></iframe>\n",
       "        "
      ],
      "text/plain": [
       "<IPython.lib.display.IFrame at 0x7f83ad766760>"
      ]
     },
     "metadata": {},
     "output_type": "display_data"
    }
   ],
   "source": [
    "from IPython.display import IFrame\n",
    "\n",
    "file_names = [\n",
    " '../Dataset/salmon_time_series/vir_data/2023_09_15_Various_Plots_with_Different_Axis_Combinations_1920.html',\n",
    " '../Dataset/salmon_time_series/vir_data/2023_09_15_Various_Plots_with_Different_Axis_Combinations_480.html',\n",
    "]\n",
    "\n",
    "for file_name in file_names:\n",
    "    display(IFrame(src=file_name, width=1000, height=1400))\n"
   ]
  },
  {
   "cell_type": "code",
   "execution_count": null,
   "id": "504f3055",
   "metadata": {},
   "outputs": [],
   "source": []
  }
 ],
 "metadata": {
  "kernelspec": {
   "display_name": "Python 3",
   "language": "python",
   "name": "python3"
  },
  "language_info": {
   "codemirror_mode": {
    "name": "ipython",
    "version": 3
   },
   "file_extension": ".py",
   "mimetype": "text/x-python",
   "name": "python",
   "nbconvert_exporter": "python",
   "pygments_lexer": "ipython3",
   "version": "3.8.10"
  }
 },
 "nbformat": 4,
 "nbformat_minor": 5
}
