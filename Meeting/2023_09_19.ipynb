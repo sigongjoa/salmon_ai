{
 "cells": [
  {
   "cell_type": "markdown",
   "id": "32e1bb3f",
   "metadata": {},
   "source": [
    "# 2023_09_19\n",
    "\n",
    "\n",
    "### scatter plot\n",
    "\n",
    "기존의 line plot은 성장곡선이 잘 만들어졌는지 아닌지에 대한 파악을 하기가 힘듦  \n",
    "이를 scatter plot으로 변경  \n",
    "\n",
    "기울기가 너무 이상하지 않는지 확인이 필요함  \n",
    "\n",
    "\n",
    "### real data fit\n",
    "\n",
    "실제 계체 실측 데이터와 3D 데이터에 대해서 앞에서 만든 가상의 성장 곡선을 fitting 해야함  \n",
    "실제 데이터를 받은 이후에 진행  \n",
    "\n",
    "\n"
   ]
  },
  {
   "cell_type": "code",
   "execution_count": null,
   "id": "e917091c",
   "metadata": {},
   "outputs": [],
   "source": []
  }
 ],
 "metadata": {
  "kernelspec": {
   "display_name": "Python 3 (ipykernel)",
   "language": "python",
   "name": "python3"
  },
  "language_info": {
   "codemirror_mode": {
    "name": "ipython",
    "version": 3
   },
   "file_extension": ".py",
   "mimetype": "text/x-python",
   "name": "python",
   "nbconvert_exporter": "python",
   "pygments_lexer": "ipython3",
   "version": "3.8.10"
  }
 },
 "nbformat": 4,
 "nbformat_minor": 5
}
