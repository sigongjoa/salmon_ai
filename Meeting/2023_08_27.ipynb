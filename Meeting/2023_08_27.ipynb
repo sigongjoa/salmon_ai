{
 "cells": [
  {
   "cell_type": "markdown",
   "id": "5fc2c27e",
   "metadata": {},
   "source": [
    "# 2023_08_27\n",
    "\n",
    "\n",
    "### lightGBM\n",
    "\n",
    "현재 lightGBM의 모델을 사용할 때 hparams의 설정이 잘못되어 있어서 성능이 이상하게 나오는 듯함  \n",
    "\n",
    "### init time series\n",
    "데이터 분리 후에 학습을 진행하고 tuning을 해서 학습을 진행  "
   ]
  },
  {
   "cell_type": "markdown",
   "id": "78339401",
   "metadata": {},
   "source": [
    "### lightGBM\n",
    "\n",
    "> http://202.31.200.194:8888/notebooks/NPLAB-NAS/Members/SEO/salom_ai/regression/fish_weight_regression.ipynb\n",
    "\n",
    "\"num_iterations\": 10 으로 파라미터가 셋팅되어 있어서 모델이 학습을 제대로 하지 못하고 있는 상태였음  \n",
    "위 파라미터를 주석으 처리하니 어느정도 예측을 하는 모습을 보임  \n",
    "데이터가 6개의 생선과 150개의 row로 이루어져 있는데 이거를 모두 학습을 했을 때 학습을 하고 있고\n",
    "실제 각각의 생선에 대해서는 파리미터를 바꿔가면서 학습을 진행했으나 값이 바뀌지 않는 것을 봤을 때 학습을 하기 위해나 데이터의 양이 적음  "
   ]
  },
  {
   "cell_type": "code",
   "execution_count": null,
   "id": "7422e042",
   "metadata": {},
   "outputs": [],
   "source": []
  }
 ],
 "metadata": {
  "kernelspec": {
   "display_name": "Python 3",
   "language": "python",
   "name": "python3"
  },
  "language_info": {
   "codemirror_mode": {
    "name": "ipython",
    "version": 3
   },
   "file_extension": ".py",
   "mimetype": "text/x-python",
   "name": "python",
   "nbconvert_exporter": "python",
   "pygments_lexer": "ipython3",
   "version": "3.8.10"
  }
 },
 "nbformat": 4,
 "nbformat_minor": 5
}
