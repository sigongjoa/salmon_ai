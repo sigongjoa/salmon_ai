{
 "cells": [
  {
   "cell_type": "markdown",
   "id": "ca1f8a84",
   "metadata": {},
   "source": [
    "# 2023_08_07\n",
    "\n",
    "### dataloader view\n",
    "\n",
    "현재 확인 결과 segformer의 SegformerFeatureExtractor로 이미지의 크기를 변경하는데 문제는 없어 보임  \n",
    "sparse 하지 않을까 함 \n",
    "\n",
    "> notebook : http://202.31.200.194:8888/notebooks/NPLAB-NAS/Members/SEO/salom_ai/dataloader_check.ipynb\n",
    "\n",
    "### fine-tuning\n",
    "\n",
    "> fine-tuning code : http://202.31.200.194:8888/edit/NPLAB-NAS/Members/SEO/salom_ai/training.py\n",
    "\n",
    "> infernce : http://202.31.200.194:8888/notebooks/NPLAB-NAS/Members/SEO/salom_ai/infernce.ipynb#fine-tuning\n",
    "\n",
    "결과가 좋지 않음  \n",
    "\n",
    "### no fine-tuning\n",
    "\n",
    "pre trained을 하지 않고 DeepFish dataset에 대해서 학습 진행  \n",
    "\n",
    "\n",
    "### dataloder fix\n",
    "backgourd랑 target(salmon)이 거꾸로 들어가서 loss가 크게 나온것 같음  \n",
    "datloadert을 수정하고 다시 학습  \n",
    "\n",
    "> dataloader check : http://202.31.200.194:8888/notebooks/NPLAB-NAS/Members/SEO/salom_ai/dataloader_check.ipynb\n",
    "\n",
    "> tensorboard : http://202.31.200.70:8888/notebooks/NPLAB-NAS/Members/SEO/salom_ai/tensorboard.ipynb\n",
    "\n",
    "> result : http://202.31.200.194:8888/notebooks/NPLAB-NAS/Members/SEO/salom_ai/infernce.ipynb#fix-dataloader\n",
    "\n",
    "예측값이 정상적으로 이루어짐  \n",
    "\n",
    "### salmon prediction\n",
    "\n",
    "> http://202.31.200.194:8888/notebooks/NPLAB-NAS/Members/SEO/salom_ai/infernce.ipynb#salmon-prediction\n",
    "\n",
    "실제 연어 데이터를 사용해서 예측  \n",
    "`feature_extractor`때문에 일부 영역에 대해서만 추론을 진행함  "
   ]
  },
  {
   "cell_type": "markdown",
   "id": "5bedb7f1",
   "metadata": {},
   "source": [
    "## Todo\n",
    "\n",
    "* feature_extractor 대신에 resize를 이용해서 학습 진행  \n",
    "* pre-trained model tuning\n",
    "* Data augmentation\n",
    "* hparams tuning"
   ]
  },
  {
   "cell_type": "code",
   "execution_count": null,
   "id": "615a29ba",
   "metadata": {},
   "outputs": [],
   "source": []
  }
 ],
 "metadata": {
  "kernelspec": {
   "display_name": "Python 3",
   "language": "python",
   "name": "python3"
  },
  "language_info": {
   "codemirror_mode": {
    "name": "ipython",
    "version": 3
   },
   "file_extension": ".py",
   "mimetype": "text/x-python",
   "name": "python",
   "nbconvert_exporter": "python",
   "pygments_lexer": "ipython3",
   "version": "3.8.10"
  }
 },
 "nbformat": 4,
 "nbformat_minor": 5
}
