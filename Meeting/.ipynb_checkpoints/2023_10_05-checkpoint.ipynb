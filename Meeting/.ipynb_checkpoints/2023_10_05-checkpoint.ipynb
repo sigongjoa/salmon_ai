{
 "cells": [
  {
   "cell_type": "markdown",
   "id": "26157875",
   "metadata": {},
   "source": [
    "# 2023_10_05 "
   ]
  },
  {
   "cell_type": "markdown",
   "id": "952ea8e3",
   "metadata": {},
   "source": [
    "### 개체 측정 모델 수정 사항\n",
    "\n",
    "* multi target\n",
    "\n",
    "target값을 현재 weight로 하고 있음  \n",
    "이렇게 되면 개체 크기 즉정 모데로가 lightGBM을 이용한 중량 측정 모델의 차이가 없음   \n",
    "target 값을 fork length , body depth로 mulit target으로 변경\n",
    "\n",
    "\n",
    "* nrmse \n",
    "기존에는 전체 데이터셋에 대해서 nrmse를 계산함   \n",
    "마지막의 prediction에 대해서만 nrmse가 필요함  \n",
    "\n"
   ]
  },
  {
   "cell_type": "markdown",
   "id": "23bcac78",
   "metadata": {},
   "source": [
    "###  데이터 수정 사항\n",
    "\n",
    "* data split\n",
    "\n",
    "기존에는 그냥 성장곡선을 그대로 사용하고 있음  \n",
    "이를 현재 데이터의 셋팅에 맞게 각 수조별로 데이터를 생성함  \n",
    "치어/성어 별로 수조가 셋팅되어 있으므로 이와 비슷하게 치어(210 ~ 329일) , 성어(930 ~ 1049일) 사이에서 생장곡선을 샘플링함  \n"
   ]
  },
  {
   "cell_type": "markdown",
   "id": "fdac4577",
   "metadata": {},
   "source": [
    "### 중량 측정 모델\n",
    "\n",
    "기존의 nrmse 계산시에 분모를 나는 부분을 real.mean값으로 변경  \n",
    "중량 측정 모델은 데이터럴 1920개 사용을 하는데 이때 치어 : 성어 = 8 : 2 로 해서 학습 진행  "
   ]
  },
  {
   "cell_type": "markdown",
   "id": "c3403915",
   "metadata": {},
   "source": [
    "### 02.개체실측 데이터\n",
    "\n",
    "현재 개체 실측 데이터의 분포를 바탕으로 성장곡선의 파라미터를 수정해서  \n",
    "실제 데이터와 유사한 패턴의 생장곡선 정의  "
   ]
  },
  {
   "cell_type": "markdown",
   "id": "361fba99",
   "metadata": {},
   "source": [
    "### 03. 수질관측 데이터\n",
    "\n",
    "현재 수질관측 데이터의 포멧이 달라서 결측치로 처리되는 부분이 있음  \n",
    "이를 수정  \n",
    "\n",
    "각 tank별로 데이터를시각화하고 전체 데이터에 대해서 비교를 위해서 tank별 데이터를 하나의 plot에서 비교  "
   ]
  },
  {
   "cell_type": "markdown",
   "id": "57d359e5",
   "metadata": {},
   "source": [
    "### 02.개체실측 데이터\n",
    "\n",
    "> review : http://202.31.200.194:8888/notebooks/NPLAB-NAS/Members/SEO/salom_ai/Dataset/real_data/02-%EA%B0%9C%EC%B2%B4%EC%8B%A4%EC%B8%A1%EB%8D%B0%EC%9D%B4%ED%84%B0/data_review_0927.ipynb\n",
    "\n",
    "기존의 log 함수를 이용한 생장곡선의 정의는 시간에 따라서 물고기의 분산이 줄어드는 것을 예상하고 있음  \n",
    "하지만 실제로 데이터를 처리해보니 시간이 따라서 분산이 커지고 있음  \n",
    "현재 가정이 틀린건지 , 아니면 데이터의 수가 부족해서 이러한 상황이 생긴건지 확인이 필요함  \n",
    "\n",
    "\n",
    "scipy의 curve_fit을 이용해서 초기값에 대해서 생장곡선의 최적의 params를 찾음  \n",
    "\n",
    "```python\n",
    "fork_length = [1.13695275e+05 7.66971536e+01 2.97321191e-06]\n",
    "body_depth = [[2.62861878e+04 1.42618931e+01 2.95842864e-06]\n",
    "```\n",
    "\n",
    "이는 거의 직선이여서 사용하기가 애매함  "
   ]
  },
  {
   "cell_type": "code",
   "execution_count": null,
   "id": "83d10c36",
   "metadata": {},
   "outputs": [],
   "source": []
  }
 ],
 "metadata": {
  "kernelspec": {
   "display_name": "Python 3",
   "language": "python",
   "name": "python3"
  },
  "language_info": {
   "codemirror_mode": {
    "name": "ipython",
    "version": 3
   },
   "file_extension": ".py",
   "mimetype": "text/x-python",
   "name": "python",
   "nbconvert_exporter": "python",
   "pygments_lexer": "ipython3",
   "version": "3.8.10"
  }
 },
 "nbformat": 4,
 "nbformat_minor": 5
}
