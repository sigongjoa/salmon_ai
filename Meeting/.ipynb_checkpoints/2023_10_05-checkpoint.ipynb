{
 "cells": [
  {
   "cell_type": "markdown",
   "id": "91a5d0d1",
   "metadata": {},
   "source": [
    "# 2023_10_05 "
   ]
  },
  {
   "cell_type": "markdown",
   "id": "bd5cae21",
   "metadata": {},
   "source": [
    "### 개체 측정 모델 수정 사항\n",
    "\n",
    "* multi target\n",
    "\n",
    "target값을 현재 weight로 하고 있음  \n",
    "이렇게 되면 개체 크기 즉정 모데로가 lightGBM을 이용한 중량 측정 모델의 차이가 없음   \n",
    "target 값을 fork length , body depth로 mulit target으로 변경\n",
    "\n",
    "\n",
    "* nrmse \n",
    "기존에는 전체 데이터셋에 대해서 nrmse를 계산함   \n",
    "마지막의 prediction에 대해서만 nrmse가 필요함  \n",
    "\n"
   ]
  },
  {
   "cell_type": "markdown",
   "id": "c77dc450",
   "metadata": {},
   "source": [
    "###  데이터 수정 사항\n",
    "\n",
    "* data split\n",
    "\n",
    "기존에는 그냥 성장곡선을 그대로 사용하고 있음  \n",
    "이를 현재 데이터의 셋팅에 맞게 각 수조별로 데이터를 생성함  \n",
    "치어/성어 별로 수조가 셋팅되어 있으므로 이와 비슷하게 치어(210~329일) , 성어(930~1049일) 사이에서 생장곡선을 샘플링함  \n"
   ]
  },
  {
   "cell_type": "markdown",
   "id": "9f3abbc9",
   "metadata": {},
   "source": [
    "### 중량 측정 모델\n",
    "\n",
    "기존의 nrmse 계산시에 분모를 나는 부분을 real.mean값으로 변경  \n",
    "중량 측정 모델은 데이터럴 1920개 사용을 하는데 이때 치어 : 성어 = 8 : 2 로 해서 학습 진행  "
   ]
  },
  {
   "cell_type": "markdown",
   "id": "d8989c01",
   "metadata": {},
   "source": [
    "### 02.개체실측 데이터\n",
    "\n",
    "현재 개체 실측 데이터의 분포를 바탕으로 성장곡선의 파라미터를 수정해서  \n",
    "실제 데이터와 유사한 패턴의 생장곡선 정의  "
   ]
  },
  {
   "cell_type": "markdown",
   "id": "a49e9e9b",
   "metadata": {},
   "source": [
    "### 03. 수질관측 데이터\n",
    "\n",
    "현재 수질관측 데이터의 포멧이 달라서 결측치로 처리되는 부분이 있음  \n",
    "이를 수정  \n",
    "\n",
    "각 tank별로 데이터를시각화하고 전체 데이터에 대해서 비교를 위해서 tank별 데이터를 하나의 plot에서 비교  "
   ]
  },
  {
   "cell_type": "code",
   "execution_count": null,
   "id": "824a6af0",
   "metadata": {},
   "outputs": [],
   "source": []
  }
 ],
 "metadata": {
  "kernelspec": {
   "display_name": "Python 3",
   "language": "python",
   "name": "python3"
  },
  "language_info": {
   "codemirror_mode": {
    "name": "ipython",
    "version": 3
   },
   "file_extension": ".py",
   "mimetype": "text/x-python",
   "name": "python",
   "nbconvert_exporter": "python",
   "pygments_lexer": "ipython3",
   "version": "3.8.10"
  }
 },
 "nbformat": 4,
 "nbformat_minor": 5
}
