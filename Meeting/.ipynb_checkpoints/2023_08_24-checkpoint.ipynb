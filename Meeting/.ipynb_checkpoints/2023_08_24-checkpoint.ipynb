{
 "cells": [
  {
   "cell_type": "markdown",
   "id": "2358edec",
   "metadata": {},
   "source": [
    "# 2023_08_24\n",
    "\n"
   ]
  },
  {
   "cell_type": "markdown",
   "id": "bbbafdab",
   "metadata": {},
   "source": [
    "### regression\n",
    "\n",
    "현재 regression을 모델을 이용해서 연어의 중량 측정하는 모델을 만들었다.  \n",
    "사용하는 모델은 `linear regression` , `ploy_regression` , `decision_tree` , `random forest` 4개의 모델으 사용함  \n",
    "\n",
    "* fix regression\n",
    "\n",
    "일반적인 regression의 경우에는 변수를 사용하면 할 수록 예측을 잘해서 error가 낮아져야 하는데 지금 결과를 그렇지 않음  \n",
    "이를 확인해서 고칠 필요가 있음  \n",
    "\n",
    "* LightGBM\n",
    "현재 사업 계획서 상에서 사용하는 모델인 LightGBM에 대해서 test에 대한 NRMSE를 계산하는 plot도 추가가 필요함  "
   ]
  },
  {
   "cell_type": "code",
   "execution_count": null,
   "id": "84b7f332",
   "metadata": {},
   "outputs": [],
   "source": []
  }
 ],
 "metadata": {
  "kernelspec": {
   "display_name": "Python 3",
   "language": "python",
   "name": "python3"
  },
  "language_info": {
   "codemirror_mode": {
    "name": "ipython",
    "version": 3
   },
   "file_extension": ".py",
   "mimetype": "text/x-python",
   "name": "python",
   "nbconvert_exporter": "python",
   "pygments_lexer": "ipython3",
   "version": "3.8.10"
  }
 },
 "nbformat": 4,
 "nbformat_minor": 5
}
