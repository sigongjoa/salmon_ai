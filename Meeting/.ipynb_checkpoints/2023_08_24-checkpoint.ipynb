{
 "cells": [
  {
   "cell_type": "markdown",
   "id": "8e7ad874",
   "metadata": {},
   "source": [
    "# 2023_08_24\n",
    "\n"
   ]
  },
  {
   "cell_type": "markdown",
   "id": "7afdaa66",
   "metadata": {},
   "source": [
    "### regression\n",
    "\n",
    "현재 regression을 모델을 이용해서 연어의 중량 측정하는 모델을 만들었다.  \n",
    "사용하는 모델은 `linear regression` , `ploy_regression` , `decision_tree` , `random forest` 4개의 모델으 사용함  \n",
    "\n",
    "* fix regression\n",
    "\n",
    "일반적인 regression의 경우에는 변수를 사용하면 할 수록 예측을 잘해서 error가 낮아져야 하는데 지금 결과를 그렇지 않음  \n",
    "이를 확인해서 고칠 필요가 있음  \n",
    "\n",
    "* LightGBM\n",
    "현재 사업 계획서 상에서 사용하는 모델인 LightGBM에 대해서 test에 대한 NRMSE를 계산하는 plot도 추가가 필요함  \n"
   ]
  },
  {
   "cell_type": "markdown",
   "id": "07e9b56c",
   "metadata": {},
   "source": [
    "* fix regression\n",
    "\n",
    "> http://202.31.200.194:8888/notebooks/NPLAB-NAS/Members/SEO/salom_ai/regression/fish_weight_regression.ipynb#nrmse-%EA%B3%84%EC%82%B0-%EB%B0%8F-%EC%8B%9C%EA%B0%81%ED%99%94\n",
    "\n",
    "corr을 확인해본 결과 \n",
    "corr이 높아서 다중공산성의 문제가 발생한 듯함  \n",
    "아래 table을 각 변수별로 regression의 결과인데  \n",
    "예상처럼 nrmse가 줄어드는 경우도 있지만 대부분이 줄어들지 않음  "
   ]
  },
  {
   "cell_type": "markdown",
   "id": "54f27628",
   "metadata": {},
   "source": [
    "<table border=\"1\" class=\"dataframe\">  <thead>    <tr style=\"text-align: right;\">      <th></th>      <th>Variables</th>      <th>linear_regression_NRMSE</th>    </tr>  </thead>  <tbody>    <tr>      <th>0</th>      <td>SL</td>      <td>0.154105</td>    </tr>    <tr>      <th>1</th>      <td>FL</td>      <td>0.142477</td>    </tr>    <tr>      <th>2</th>      <td>TL</td>      <td>0.138350</td>    </tr>    <tr>      <th>3</th>      <td>BD</td>      <td>0.076932</td>    </tr>    <tr>      <th>4</th>      <td>BT</td>      <td>0.072074</td>    </tr>    <tr>      <th>5</th>      <td>(\\'SL\\', \\'FL\\')</td>      <td>0.132207</td>    </tr>    <tr>      <th>6</th>      <td>(\\'SL\\', \\'TL\\')</td>      <td>0.132316</td>    </tr>    <tr>      <th>7</th>      <td>(\\'SL\\', \\'BD\\')</td>      <td>0.079082</td>    </tr>    <tr>      <th>8</th>      <td>(\\'SL\\', \\'BT\\')</td>      <td>0.114035</td>    </tr>    <tr>      <th>9</th>      <td>(\\'FL\\', \\'TL\\')</td>      <td>0.145082</td>    </tr>    <tr>      <th>10</th>      <td>(\\'FL\\', \\'BD\\')</td>      <td>0.082370</td>    </tr>    <tr>      <th>11</th>      <td>(\\'FL\\', \\'BT\\')</td>      <td>0.116226</td>    </tr>    <tr>      <th>12</th>      <td>(\\'TL\\', \\'BD\\')</td>      <td>0.080129</td>    </tr>    <tr>      <th>13</th>      <td>(\\'TL\\', \\'BT\\')</td>      <td>0.113961</td>    </tr>    <tr>      <th>14</th>      <td>(\\'BD\\', \\'BT\\')</td>      <td>0.062440</td>    </tr>    <tr>      <th>15</th>      <td>(\\'SL\\', \\'FL\\', \\'TL\\')</td>      <td>0.135658</td>    </tr>    <tr>      <th>16</th>      <td>(\\'SL\\', \\'FL\\', \\'BD\\')</td>      <td>0.084905</td>    </tr>    <tr>      <th>17</th>      <td>(\\'SL\\', \\'FL\\', \\'BT\\')</td>      <td>0.119876</td>    </tr>    <tr>      <th>18</th>      <td>(\\'SL\\', \\'TL\\', \\'BD\\')</td>      <td>0.080100</td>    </tr>    <tr>      <th>19</th>      <td>(\\'SL\\', \\'TL\\', \\'BT\\')</td>      <td>0.113750</td>    </tr>    <tr>      <th>20</th>      <td>(\\'SL\\', \\'BD\\', \\'BT\\')</td>      <td>0.070811</td>    </tr>    <tr>      <th>21</th>      <td>(\\'FL\\', \\'TL\\', \\'BD\\')</td>      <td>0.088716</td>    </tr>    <tr>      <th>22</th>      <td>(\\'FL\\', \\'TL\\', \\'BT\\')</td>      <td>0.124388</td>    </tr>    <tr>      <th>23</th>      <td>(\\'FL\\', \\'BD\\', \\'BT\\')</td>      <td>0.076000</td>    </tr>    <tr>      <th>24</th>      <td>(\\'TL\\', \\'BD\\', \\'BT\\')</td>      <td>0.073919</td>    </tr>    <tr>      <th>25</th>      <td>(\\'SL\\', \\'FL\\', \\'TL\\', \\'BD\\')</td>      <td>0.092046</td>    </tr>    <tr>      <th>26</th>      <td>(\\'SL\\', \\'FL\\', \\'TL\\', \\'BT\\')</td>      <td>0.125461</td>    </tr>    <tr>      <th>27</th>      <td>(\\'SL\\', \\'FL\\', \\'BD\\', \\'BT\\')</td>      <td>0.082119</td>    </tr>    <tr>      <th>28</th>      <td>(\\'SL\\', \\'TL\\', \\'BD\\', \\'BT\\')</td>      <td>0.070061</td>    </tr>    <tr>      <th>29</th>      <td>(\\'FL\\', \\'TL\\', \\'BD\\', \\'BT\\')</td>      <td>0.083992</td>    </tr>    <tr>      <th>30</th>      <td>(\\'SL\\', \\'FL\\', \\'TL\\', \\'BD\\', \\'BT\\')</td>      <td>0.086676</td>    </tr>  </tbody></table>'"
   ]
  },
  {
   "cell_type": "markdown",
   "id": "65546844",
   "metadata": {},
   "source": [
    "* lightGBM\n",
    "\n",
    "> http://202.31.200.194:8888/notebooks/NPLAB-NAS/Members/SEO/salom_ai/regression/fish_weight_regression.ipynb#light-gbm\n",
    "현재 155개의 row가 있고 lightGBM을 돌려보니 데이터가 작아서 학습이 잘 되지 않음  \n"
   ]
  },
  {
   "cell_type": "markdown",
   "id": "283d40f9",
   "metadata": {},
   "source": [
    "### dariy dataset\n",
    "\n",
    "기존의 데이터셋에서 Week of year , 나이 및 환경 데이터에 대한 정보를 추가  \n",
    "\n",
    "* 환경 데이터\n",
    "\n",
    "환경 데이터의 경우에는 데이터가 너무적어서 interpolation 또는 Extrapolation을 하기가 힘들어 보임  \n",
    "우선은 그냥 fillna(0)로 해놓은 상태  \n",
    "\n",
    "* data split\n",
    "\n",
    "데이터셋의 time_idx가 일정하지 않음  \n",
    "서로 다른 길이를 가지는 time series에서 모두 split 하거나  \n",
    "긴 time series에 대해서 일부만 split해서 사용하거나  \n",
    "\n",
    "둘 중에 어느걸로 해야 할지 결정  "
   ]
  },
  {
   "cell_type": "markdown",
   "id": "c9774d1e",
   "metadata": {},
   "source": [
    "### lagre size training\n",
    "\n",
    "현재 메모리의 관계로 segmenation에서 256 * 256의 크기로 학습을 진행  \n",
    "이미지가 작아서 성능이 안 나올수도 있으므로 512 * 512로 학습을 진행  \n",
    "이미지가 커짐에 따라서 OOM 발생  \n",
    "\n",
    "```python\n",
    "trainer = pl.Trainer(\n",
    "    devices=2, \n",
    "    callbacks=[early_stop_callback, checkpoint_callback],\n",
    "    max_epochs=500,\n",
    "    #accelerator=\"gpu\"\n",
    "    strategy='ddp'\n",
    ")\n",
    "```\n",
    "다음과 같이 DDP를 이용해서 학습을 진행중  \n",
    "1 epoch에 20분정도 소요되고 기존에 early stopping이 130 epoch에서 끝났으므로  \n",
    "3일정도의 시간이 소요됨  \n",
    "아래는 현재 사용하고 있는 GPU 상황임  \n",
    "\n",
    "실제 연어 데이터의 경우에는 이미지가 많은 상황이므로 DP 혹은 DDP로 메모리 확보  \n",
    "\n",
    "추후에 여유가 있을 때 1024 * 1024로 성능확인 필요  \n",
    "\n",
    "아직 학습중이기는 하나 성능이 256*256 보다는 좋은 성능을 보이고 있음(version 4)\n",
    "\n",
    "![](./img/2023_08_23_large_imgae_training_fig.png)\n",
    "\n",
    "> tensorboard: http://202.31.200.70:8888/notebooks/NPLAB-NAS/Members/SEO/salom_ai/segmentation/tensorboard.ipynb\n",
    "\n",
    "\n",
    "예측도 잘하고 있는 것을 보임  \n",
    "\n",
    "![](./img/2023_08_23_infernce.png)\n",
    "\n",
    "> result : http://202.31.200.194:8888/notebooks/NPLAB-NAS/Members/SEO/salom_ai/segmentation/inference/2023_08_24_ddp_training.ipynb\n",
    "\n",
    "\n",
    "아래의 table이 각 이미지별 metric을 table로 만들어 놓은 것임  \n",
    "32번째 row는 각 metric에 대한 평균 \n"
   ]
  },
  {
   "cell_type": "markdown",
   "id": "343a8641",
   "metadata": {},
   "source": [
    "<table border=\"1\" class=\"dataframe\">  <thead>    <tr style=\"text-align: right;\">      <th></th>      <th>image_idx</th>      <th>mean_iou</th>      <th>mean_accuracy</th>      <th>overall_accuracy</th>      <th>backgournd_iou</th>      <th>foreground_iou</th>      <th>backgournd_acc</th>      <th>foreground_acc</th>    </tr>  </thead>  <tbody>    <tr>      <th>0</th>      <td>0.0</td>      <td>0.494881</td>      <td>0.499384</td>      <td>0.989761</td>      <td>0.989761</td>      <td>0.000000</td>      <td>0.998768</td>      <td>0.000000</td>    </tr>    <tr>      <th>1</th>      <td>1.0</td>      <td>0.916468</td>      <td>0.958052</td>      <td>0.995632</td>      <td>0.995532</td>      <td>0.837404</td>      <td>0.997568</td>      <td>0.918536</td>    </tr>    <tr>      <th>2</th>      <td>2.0</td>      <td>0.937707</td>      <td>0.965215</td>      <td>0.992771</td>      <td>0.992354</td>      <td>0.883061</td>      <td>0.996418</td>      <td>0.934012</td>    </tr>    <tr>      <th>3</th>      <td>3.0</td>      <td>0.817184</td>      <td>0.994225</td>      <td>0.995384</td>      <td>0.995346</td>      <td>0.639021</td>      <td>0.995404</td>      <td>0.993046</td>    </tr>    <tr>      <th>4</th>      <td>4.0</td>      <td>0.951113</td>      <td>0.959982</td>      <td>0.992928</td>      <td>0.992384</td>      <td>0.909842</td>      <td>0.998970</td>      <td>0.920994</td>    </tr>    <tr>      <th>5</th>      <td>5.0</td>      <td>0.940314</td>      <td>0.957863</td>      <td>0.989368</td>      <td>0.988342</td>      <td>0.892286</td>      <td>0.996840</td>      <td>0.918886</td>    </tr>    <tr>      <th>6</th>      <td>6.0</td>      <td>0.881823</td>      <td>0.951687</td>      <td>0.995216</td>      <td>0.995139</td>      <td>0.768507</td>      <td>0.996797</td>      <td>0.906577</td>    </tr>    <tr>      <th>7</th>      <td>7.0</td>      <td>0.958481</td>      <td>0.988523</td>      <td>0.997726</td>      <td>0.997666</td>      <td>0.919296</td>      <td>0.998241</td>      <td>0.978806</td>    </tr>    <tr>      <th>8</th>      <td>8.0</td>      <td>0.952382</td>      <td>0.975423</td>      <td>0.996468</td>      <td>0.996339</td>      <td>0.908426</td>      <td>0.998139</td>      <td>0.952707</td>    </tr>    <tr>      <th>9</th>      <td>9.0</td>      <td>0.960697</td>      <td>0.978515</td>      <td>0.996765</td>      <td>0.996631</td>      <td>0.924763</td>      <td>0.998416</td>      <td>0.958613</td>    </tr>    <tr>      <th>10</th>      <td>10.0</td>      <td>0.930715</td>      <td>0.988811</td>      <td>0.997425</td>      <td>0.997382</td>      <td>0.864048</td>      <td>0.997723</td>      <td>0.979899</td>    </tr>    <tr>      <th>11</th>      <td>11.0</td>      <td>0.951432</td>      <td>0.985993</td>      <td>0.998058</td>      <td>0.998022</td>      <td>0.904842</td>      <td>0.998534</td>      <td>0.973451</td>    </tr>    <tr>      <th>12</th>      <td>12.0</td>      <td>0.934520</td>      <td>0.961927</td>      <td>0.991898</td>      <td>0.991398</td>      <td>0.877643</td>      <td>0.996191</td>      <td>0.927662</td>    </tr>    <tr>      <th>13</th>      <td>13.0</td>      <td>0.892814</td>      <td>0.955440</td>      <td>0.995228</td>      <td>0.995140</td>      <td>0.790487</td>      <td>0.996860</td>      <td>0.914020</td>    </tr>    <tr>      <th>14</th>      <td>14.0</td>      <td>0.954628</td>      <td>0.974401</td>      <td>0.997833</td>      <td>0.997784</td>      <td>0.911471</td>      <td>0.998988</td>      <td>0.949813</td>    </tr>    <tr>      <th>15</th>      <td>15.0</td>      <td>0.930680</td>      <td>0.987951</td>      <td>0.992790</td>      <td>0.992428</td>      <td>0.868932</td>      <td>0.993312</td>      <td>0.982591</td>    </tr>    <tr>      <th>16</th>      <td>16.0</td>      <td>0.880363</td>      <td>0.902042</td>      <td>0.972931</td>      <td>0.969844</td>      <td>0.790882</td>      <td>0.997029</td>      <td>0.807055</td>    </tr>    <tr>      <th>17</th>      <td>17.0</td>      <td>0.912350</td>      <td>0.926859</td>      <td>0.989151</td>      <td>0.988515</td>      <td>0.836185</td>      <td>0.998417</td>      <td>0.855300</td>    </tr>    <tr>      <th>18</th>      <td>18.0</td>      <td>0.797954</td>      <td>0.982687</td>      <td>0.996086</td>      <td>0.996063</td>      <td>0.599844</td>      <td>0.996250</td>      <td>0.969124</td>    </tr>    <tr>      <th>19</th>      <td>19.0</td>      <td>0.848888</td>      <td>0.973965</td>      <td>0.995518</td>      <td>0.995470</td>      <td>0.702306</td>      <td>0.996007</td>      <td>0.951923</td>    </tr>    <tr>      <th>20</th>      <td>20.0</td>      <td>0.902745</td>      <td>0.963129</td>      <td>0.996258</td>      <td>0.996197</td>      <td>0.809292</td>      <td>0.997431</td>      <td>0.928826</td>    </tr>    <tr>      <th>21</th>      <td>21.0</td>      <td>0.903278</td>      <td>0.976784</td>      <td>0.997280</td>      <td>0.997248</td>      <td>0.809307</td>      <td>0.997787</td>      <td>0.955780</td>    </tr>    <tr>      <th>22</th>      <td>22.0</td>      <td>0.919708</td>      <td>0.945750</td>      <td>0.996510</td>      <td>0.996443</td>      <td>0.842972</td>      <td>0.998734</td>      <td>0.892766</td>    </tr>    <tr>      <th>23</th>      <td>23.0</td>      <td>0.955297</td>      <td>0.965468</td>      <td>0.996090</td>      <td>0.995919</td>      <td>0.914676</td>      <td>0.999117</td>      <td>0.931818</td>    </tr>    <tr>      <th>24</th>      <td>24.0</td>      <td>0.903408</td>      <td>0.935370</td>      <td>0.996899</td>      <td>0.996857</td>      <td>0.809958</td>      <td>0.998822</td>      <td>0.871917</td>    </tr>    <tr>      <th>25</th>      <td>25.0</td>      <td>0.798034</td>      <td>0.827799</td>      <td>0.946945</td>      <td>0.941001</td>      <td>0.655068</td>      <td>0.999797</td>      <td>0.655800</td>    </tr>    <tr>      <th>26</th>      <td>26.0</td>      <td>0.916652</td>      <td>0.973250</td>      <td>0.996635</td>      <td>0.996576</td>      <td>0.836727</td>      <td>0.997517</td>      <td>0.948982</td>    </tr>    <tr>      <th>27</th>      <td>27.0</td>      <td>0.951791</td>      <td>0.959852</td>      <td>0.989681</td>      <td>0.988388</td>      <td>0.915193</td>      <td>0.999201</td>      <td>0.920503</td>    </tr>    <tr>      <th>28</th>      <td>28.0</td>      <td>0.962099</td>      <td>0.974698</td>      <td>0.994610</td>      <td>0.994194</td>      <td>0.930004</td>      <td>0.998140</td>      <td>0.951257</td>    </tr>    <tr>      <th>29</th>      <td>29.0</td>      <td>0.924518</td>      <td>0.945696</td>      <td>0.987663</td>      <td>0.986629</td>      <td>0.862406</td>      <td>0.996430</td>      <td>0.894962</td>    </tr>    <tr>      <th>30</th>      <td>30.0</td>      <td>0.915453</td>      <td>0.953940</td>      <td>0.992615</td>      <td>0.992320</td>      <td>0.838586</td>      <td>0.996169</td>      <td>0.911711</td>    </tr>    <tr>      <th>31</th>      <td>15.0</td>      <td>0.899948</td>      <td>0.944861</td>      <td>0.992262</td>      <td>0.991720</td>      <td>0.808175</td>      <td>0.997549</td>      <td>0.892172</td>    </tr>  </tbody></table>"
   ]
  },
  {
   "cell_type": "markdown",
   "id": "ea121371",
   "metadata": {},
   "source": [
    "실제 이미지를 확인해보니 꼬리나 지느러미 처럼 경계에 있는 것들에 대해서 예측을 제대로 못하고 있음   "
   ]
  },
  {
   "cell_type": "code",
   "execution_count": 2,
   "id": "af7e745f",
   "metadata": {},
   "outputs": [
    {
     "name": "stdout",
     "output_type": "stream",
     "text": [
      "Wed Aug 23 15:32:40 2023       \n",
      "+---------------------------------------------------------------------------------------+\n",
      "| NVIDIA-SMI 530.30.02              Driver Version: 530.30.02    CUDA Version: 12.1     |\n",
      "|-----------------------------------------+----------------------+----------------------+\n",
      "| GPU  Name                  Persistence-M| Bus-Id        Disp.A | Volatile Uncorr. ECC |\n",
      "| Fan  Temp  Perf            Pwr:Usage/Cap|         Memory-Usage | GPU-Util  Compute M. |\n",
      "|                                         |                      |               MIG M. |\n",
      "|=========================================+======================+======================|\n",
      "|   0  NVIDIA GeForce GTX 1080 Ti      On | 00000000:01:00.0 Off |                  N/A |\n",
      "| 31%   58C    P2               58W / 280W|   1719MiB / 11264MiB |      0%      Default |\n",
      "|                                         |                      |                  N/A |\n",
      "+-----------------------------------------+----------------------+----------------------+\n",
      "|   1  NVIDIA GeForce GTX 1080 Ti      On | 00000000:03:00.0 Off |                  N/A |\n",
      "|  0%   30C    P8                9W / 270W|     13MiB / 11264MiB |      0%      Default |\n",
      "|                                         |                      |                  N/A |\n",
      "+-----------------------------------------+----------------------+----------------------+\n",
      "                                                                                         \n",
      "+---------------------------------------------------------------------------------------+\n",
      "| Processes:                                                                            |\n",
      "|  GPU   GI   CI        PID   Type   Process name                            GPU Memory |\n",
      "|        ID   ID                                                             Usage      |\n",
      "|=======================================================================================|\n",
      "|    0   N/A  N/A      1486      G   /usr/lib/xorg/Xorg                           29MiB |\n",
      "|    0   N/A  N/A      2375      G   /usr/lib/xorg/Xorg                           86MiB |\n",
      "|    0   N/A  N/A      2502      G   /usr/bin/gnome-shell                         55MiB |\n",
      "|    0   N/A  N/A      2806      G   /usr/lib/firefox/firefox                     13MiB |\n",
      "|    0   N/A  N/A      4362      C   python3                                    1520MiB |\n",
      "|    1   N/A  N/A      1486      G   /usr/lib/xorg/Xorg                            4MiB |\n",
      "|    1   N/A  N/A      2375      G   /usr/lib/xorg/Xorg                            4MiB |\n",
      "+---------------------------------------------------------------------------------------+\n"
     ]
    }
   ],
   "source": [
    "# GPU 셋팅 확인\n",
    "!nvidia-smi"
   ]
  }
 ],
 "metadata": {
  "kernelspec": {
   "display_name": "Python 3",
   "language": "python",
   "name": "python3"
  },
  "language_info": {
   "codemirror_mode": {
    "name": "ipython",
    "version": 3
   },
   "file_extension": ".py",
   "mimetype": "text/x-python",
   "name": "python",
   "nbconvert_exporter": "python",
   "pygments_lexer": "ipython3",
   "version": "3.8.10"
  }
 },
 "nbformat": 4,
 "nbformat_minor": 5
}
