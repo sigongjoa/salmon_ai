{
 "cells": [
  {
   "cell_type": "markdown",
   "id": "89342f49",
   "metadata": {},
   "source": [
    "# 2023_09_07\n"
   ]
  },
  {
   "cell_type": "markdown",
   "id": "66b5134b",
   "metadata": {},
   "source": [
    "각 수조번호와 날짜별로 target 값에 대해서 평균과 편차를 계산하고  \n",
    "이를 수조번호, 요일별로 target 값의 평균과 편차를 시각화  "
   ]
  },
  {
   "cell_type": "markdown",
   "id": "37afe00e",
   "metadata": {},
   "source": [
    "### target statics\n",
    "강원도 데이터에서 target으로 사용할만한 변수들(무게, 질량)에 대해서 통계적으로 확인 할 것이 있음  \n",
    "\n",
    "성장곡선어 trend가 보이는지 확인이 필요함  \n",
    "trend가 없으면 다른 방법을 찾아서 학습을 할 수 있도록 만들어야함  \n",
    "\n",
    "![](img/2023_09_05_static_processing.jpg)\n",
    "\n",
    "\n",
    "> test notebook : http://202.31.200.194:8888/notebooks/NPLAB-NAS/Members/SEO/salom_ai/Dataset/salmon_time_series/%EA%B0%95%EC%9B%90%EB%8F%84%20%EB%8D%B0%EC%9D%B4%ED%84%B0/2023_09_06_target_data_static.ipynb\n"
   ]
  },
  {
   "cell_type": "code",
   "execution_count": 10,
   "id": "3524e402",
   "metadata": {},
   "outputs": [
    {
     "data": {
      "text/html": [
       "\n",
       "        <iframe\n",
       "            width=\"1000\"\n",
       "            height=\"600\"\n",
       "            src=\"../Dataset/salmon_time_series/강원도 데이터/2023_09_06_target_data_static_each_normal_dist.html\"\n",
       "            frameborder=\"0\"\n",
       "            allowfullscreen\n",
       "        ></iframe>\n",
       "        "
      ],
      "text/plain": [
       "<IPython.lib.display.IFrame at 0x7f6e92f8b280>"
      ]
     },
     "execution_count": 10,
     "metadata": {},
     "output_type": "execute_result"
    }
   ],
   "source": [
    "from IPython.display import IFrame\n",
    "\n",
    "IFrame(src='../Dataset/salmon_time_series/강원도 데이터/2023_09_06_target_data_static_each_normal_dist.html', width=1000, height=600)\n"
   ]
  },
  {
   "cell_type": "code",
   "execution_count": 9,
   "id": "375f8149",
   "metadata": {},
   "outputs": [
    {
     "data": {
      "text/html": [
       "\n",
       "        <iframe\n",
       "            width=\"1000\"\n",
       "            height=\"600\"\n",
       "            src=\"../Dataset/salmon_time_series/강원도 데이터/2023_09_06_target_data_static_time_normal_dist.html\"\n",
       "            frameborder=\"0\"\n",
       "            allowfullscreen\n",
       "        ></iframe>\n",
       "        "
      ],
      "text/plain": [
       "<IPython.lib.display.IFrame at 0x7f6e92f8b400>"
      ]
     },
     "execution_count": 9,
     "metadata": {},
     "output_type": "execute_result"
    }
   ],
   "source": [
    "from IPython.display import IFrame\n",
    "\n",
    "IFrame(src='../Dataset/salmon_time_series/강원도 데이터/2023_09_06_target_data_static_time_normal_dist.html', width=1000, height=600)\n"
   ]
  },
  {
   "cell_type": "markdown",
   "id": "66d149b3",
   "metadata": {},
   "source": [
    "* result\n",
    "\n",
    "치어의 경우에는 mean과 std에서 일부 S자형 성작곡선이 확인됨  \n",
    "std의 경우에서는 파악을 하기가 어려움  "
   ]
  },
  {
   "cell_type": "markdown",
   "id": "56aa6307",
   "metadata": {},
   "source": [
    "### virtual data\n",
    "\n",
    "현재 데이터의 수집해서 학습을 하기 위해서는 오랜 시간이 걸릴 예정임   \n",
    "그래서 가상으로 데이터를 생성해서 학습을 진행 예정  \n",
    "\n",
    "![](img/2023_09_05_generate_img.jpg)\n",
    "\n",
    "먼저 연어의 대한 생작곡선을 정의  \n",
    "이때 S-커브를 사용해야 하지만 실제로 치어가 7개월 ~ 10개월 사이의 애들이기 때문에 처음에는 조금 완만한 곡선으로 사용할듯  \n",
    "생장곡선을 mean으로 하고 이 생장 곡선의 기울기를 이용해서 std를 설정  \n",
    "위 가상의 분포에서 noise를 더해서 데이터를 생성함  \n",
    "생선어 성어가 되었을 때는 std의 차이가 별로 없어야하므로 끝으로 갈 수록  std가 작아지도록하는 곡선을 선정  \n",
    "이를 BD(body depth)와 FL(fork length)에 대해서 생성을 함  \n",
    "\n",
    "BD와 FL와 noise를 입력으로해서 이전의 weight regression 에서 ploly regression 식을 이용해서 가상 데이터를 생성  \n",
    "\n",
    "> test notebook : http://202.31.200.194:8888/notebooks/NPLAB-NAS/Members/SEO/salom_ai/Dataset/salmon_time_series/vir_data/2023_09_06_vir_data_generate.ipynb\n",
    "\n",
    "데이터 생성시에 참고할만한 곡선이 있어야 하는데 BD에 대한 곡선을 참고하기가 힘들어서 진행이 어려움  "
   ]
  },
  {
   "cell_type": "code",
   "execution_count": null,
   "id": "939ed49b",
   "metadata": {},
   "outputs": [],
   "source": []
  }
 ],
 "metadata": {
  "kernelspec": {
   "display_name": "Python 3",
   "language": "python",
   "name": "python3"
  },
  "language_info": {
   "codemirror_mode": {
    "name": "ipython",
    "version": 3
   },
   "file_extension": ".py",
   "mimetype": "text/x-python",
   "name": "python",
   "nbconvert_exporter": "python",
   "pygments_lexer": "ipython3",
   "version": "3.8.10"
  }
 },
 "nbformat": 4,
 "nbformat_minor": 5
}
