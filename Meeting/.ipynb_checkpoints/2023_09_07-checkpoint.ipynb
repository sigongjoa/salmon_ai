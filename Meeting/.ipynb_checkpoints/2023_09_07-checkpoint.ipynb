{
 "cells": [
  {
   "cell_type": "markdown",
   "id": "e2fa56c5",
   "metadata": {},
   "source": [
    "# 2023_09_07\n",
    "\n",
    "* target statics\n",
    "강원도 데이터에서 target으로 사용할만한 변수들(무게, 질량)에 대해서 통계적으로 확인 할 것이 있음  \n",
    "\n",
    "성장곡선어 trend가 보이는지 확인이 필요함  \n",
    "trend가 없으면 다른 방법을 찾아서 학습을 할 수 있도록 만들어야함  "
   ]
  },
  {
   "cell_type": "markdown",
   "id": "6df4f2a6",
   "metadata": {},
   "source": [
    "![](img/2023_09_05_static_processing.jpg)"
   ]
  },
  {
   "cell_type": "markdown",
   "id": "08b9af6b",
   "metadata": {},
   "source": [
    "각 수조번호와 날짜별로 target 값에 대해서 평균과 편차를 계산하고  \n",
    "이를 수조번호, 요일별로 target 값의 평균과 편차를 시각화  "
   ]
  },
  {
   "cell_type": "code",
   "execution_count": null,
   "id": "570f28f2",
   "metadata": {},
   "outputs": [],
   "source": []
  }
 ],
 "metadata": {
  "kernelspec": {
   "display_name": "Python 3",
   "language": "python",
   "name": "python3"
  },
  "language_info": {
   "codemirror_mode": {
    "name": "ipython",
    "version": 3
   },
   "file_extension": ".py",
   "mimetype": "text/x-python",
   "name": "python",
   "nbconvert_exporter": "python",
   "pygments_lexer": "ipython3",
   "version": "3.8.10"
  }
 },
 "nbformat": 4,
 "nbformat_minor": 5
}
