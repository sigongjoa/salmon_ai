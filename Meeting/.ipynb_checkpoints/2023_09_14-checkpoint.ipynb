{
 "cells": [
  {
   "cell_type": "markdown",
   "id": "476fe5c4",
   "metadata": {},
   "source": [
    "# 2023_09_14\n",
    "\n",
    "\n",
    "### sampled growth curve\n",
    "\n",
    "기존의 생장곡선을 가지고 가상의 데이터를 생성을 했을 때는 실제적인 데이터를 만들지 못함  \n",
    "연어가 성장함에 따라서 curve가 증가해야 하는데 실제로 랜덤 노이즈 때문에 그러지 못함  \n",
    "조금더 리얼하게 만들기 위해서 랜덤의 생장 곡선으로 생선의 데이터를 생성하고 이에 대해서 평균을 이용해서 데이터를 생성하고   \n",
    "양수의 noise를 조금 더해서 FL, BD에 대해서 생성  \n",
    "\n",
    "\n",
    "### weight prediction\n",
    "\n",
    "앞에서 만든 가상의 FL , DB를 이용해서 \n",
    "\n",
    "* f(FL, BD)+noise(standard normal distribution)\n",
    "* f(FL, BD) = k(타원, 마름로: 랜덤값)xFL(개체가상값)xBD(개체가상값)xBT[작은랜덤범위]\n",
    "\n",
    "다음의 가상의 중량 데이터를 생성함  "
   ]
  },
  {
   "cell_type": "code",
   "execution_count": null,
   "id": "4076c259",
   "metadata": {},
   "outputs": [],
   "source": []
  }
 ],
 "metadata": {
  "kernelspec": {
   "display_name": "Python 3",
   "language": "python",
   "name": "python3"
  },
  "language_info": {
   "codemirror_mode": {
    "name": "ipython",
    "version": 3
   },
   "file_extension": ".py",
   "mimetype": "text/x-python",
   "name": "python",
   "nbconvert_exporter": "python",
   "pygments_lexer": "ipython3",
   "version": "3.8.10"
  }
 },
 "nbformat": 4,
 "nbformat_minor": 5
}
