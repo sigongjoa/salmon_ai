{
 "cells": [
  {
   "cell_type": "markdown",
   "id": "effcc4e0",
   "metadata": {},
   "source": [
    "# 2023_08_21\n",
    "\n"
   ]
  },
  {
   "cell_type": "markdown",
   "id": "fb76a1f0",
   "metadata": {},
   "source": [
    "### fish weight prediction\n",
    "\n",
    "현재 과제의 일부중에서 생선의 중량을 측정하는 과제가 있음 \n",
    "캐글에서 제공해주는 예제를 기반으로 regression 모델을 이용해서 중량을 측정하는 예제\n",
    "노트북은 예제 코드를 수정해서 test dataset에 대해서 nrmse를 계산해서 시각화  \n",
    "\n",
    "> kaggle : https://www.kaggle.com/code/albatros1602/weight-estimation-of-seven-different-fish-species/notebook\n",
    "\n",
    "\n",
    "> regression notebook : http://202.31.200.194:8888/notebooks/NPLAB-NAS/Members/SEO/salom_ai/Untitled%20Folder/fish_weight_regression.ipynb"
   ]
  },
  {
   "cell_type": "markdown",
   "id": "385d4961",
   "metadata": {},
   "source": [
    "### time series\n",
    "\n",
    "생선의 생장률을 time series를 이용해서 예측하는 모델을 만들어야함  \n",
    "하지만 데이터가 없는 관계로 스마트팜 데이터 마트에서 낙농 데이터를 이용해서 데이터 수집, 전처리, 학슴 및 추론 을 진행\n",
    "\n",
    "> 스마트팜 데이터 마트 : https://data.smartfarmkorea.net/main.do\n",
    "\n",
    "* 데이터 수집 및 전처리 \n",
    "\n",
    "> 데이터 폴더 : http://202.31.200.194:8888/tree/NPLAB-NAS/Members/SEO/salom_ai/Dataset/dariy_data\n",
    "\n",
    "> 데이터 전처리 : http://202.31.200.194:8888/notebooks/NPLAB-NAS/Members/SEO/salom_ai/Dataset/dariy_data/Data_merge_small.ipynb\n",
    "\n",
    "| 데이터 | unit   | process | variable           |\n",
    "|--------|--------|---------|--------------------|\n",
    "| 체중   | day    | merge   | 체중               |\n",
    "| 급유   | second | merge   | 착유 횟수 , 횟수량 |\n",
    "| 번식   | day    | for     | 임신기간           |\n",
    "| 환경   | day    | merge   | CO2, 온도,습도     |\n",
    "| 급이   | day    | merge   | 급이량             |\n",
    "\n",
    "다음과 같은 데이터셋은 전처리해서 사용함    \n",
    "하루 단위로 데이터를 집계 및 전처리  \n",
    "각 개체(소)별로 merge후 csv로 저장  \n",
    "\n",
    "> 데이터 리뷰 : http://202.31.200.194:8888/notebooks/NPLAB-NAS/Members/SEO/salom_ai/Dataset/dariy_data/Data_merge_data_review.ipynb\n",
    "\n",
    "전처리된 데이터에 대해서 학습을 할 수 있는 양 및 시각화 진행    \n",
    "번식 데이터가 체중 데이터와 time_index가 맞지 않아서 제외  \n",
    "급이 데이터를 `낙농_ICT데이터_군사급이기정보`만 사용중 추후에 다른 데이터에 대해서 추가해서 생성  \n",
    "\n",
    "226일* 140 마리 정도의 데이터를 확보  \n",
    "\n",
    "> 데이터 시각화 : http://202.31.200.194:8888/tree/NPLAB-NAS/Members/SEO/salom_ai/Dataset/dariy_data/merge_data_vis\n",
    "\n",
    "\n",
    "* 학습\n",
    "\n",
    "TFT 모델을 이용해서 학습을 진행  \n",
    "\n",
    "> training notebook : http://202.31.200.194:8888/notebooks/NPLAB-NAS/Members/SEO/salom_ai/time_series/TFT.ipynb\n",
    "\n",
    "> tensorboard: http://202.31.200.70:8888/notebooks/NPLAB-NAS/Members/SEO/salom_ai/time_series/tensorboard.ipynb\n",
    "\n",
    "데이터 스플릿 필요  \n",
    "추후에 hparmas tuning을 통해서 성능 향상 필요   \n",
    "\n",
    "* 예측 기간별 학습\n",
    "\n",
    "(30일 , 7일) , (30일 ,14일) , (60일 , 7일)  \n",
    "단기예측과 장기 예측을 진행\n",
    "\n",
    "> training notebook : http://202.31.200.194:8888/notebooks/NPLAB-NAS/Members/SEO/salom_ai/time_series/TFT_length.ipynb"
   ]
  },
  {
   "cell_type": "code",
   "execution_count": null,
   "id": "b301723d",
   "metadata": {},
   "outputs": [],
   "source": []
  }
 ],
 "metadata": {
  "kernelspec": {
   "display_name": "Python 3",
   "language": "python",
   "name": "python3"
  },
  "language_info": {
   "codemirror_mode": {
    "name": "ipython",
    "version": 3
   },
   "file_extension": ".py",
   "mimetype": "text/x-python",
   "name": "python",
   "nbconvert_exporter": "python",
   "pygments_lexer": "ipython3",
   "version": "3.8.10"
  }
 },
 "nbformat": 4,
 "nbformat_minor": 5
}
