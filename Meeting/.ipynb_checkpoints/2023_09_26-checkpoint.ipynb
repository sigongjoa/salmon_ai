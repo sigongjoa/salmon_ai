{
 "cells": [
  {
   "cell_type": "markdown",
   "id": "18e11885",
   "metadata": {},
   "source": [
    "# 2023_09_26\n",
    "\n",
    "개체 실측 데이터 , 수질 환경 데이터 , 생육 관리 데이터를 받음  \n",
    "이 데이터들을 리뷰함  \n",
    "\n",
    "\n",
    "### 개체 실측 데이터 리뷰\n",
    "\n",
    "> review : http://202.31.200.194:8888/notebooks/NPLAB-NAS/Members/SEO/salom_ai/Dataset/real_data/02-%EA%B0%9C%EC%B2%B4%EC%8B%A4%EC%B8%A1%EB%8D%B0%EC%9D%B4%ED%84%B0/data_review.ipynb\n",
    "\n",
    "데이터가 josn file로 20개이고 실제로 데이터를 확인해보니 생장곡선의 분포와는 다른 분포가 나옴    \n",
    "유사성이 너무 없어서 다른 방식으로 처리해야 할 것 같음  "
   ]
  },
  {
   "cell_type": "markdown",
   "id": "c4f244cd",
   "metadata": {},
   "source": [
    "### 수질 환경 데이터 \n",
    "\n",
    "> review : http://202.31.200.194:8888/notebooks/NPLAB-NAS/Members/SEO/salom_ai/Dataset/real_data/03-%EC%88%98%EC%A7%88%ED%99%98%EA%B2%BD%EB%8D%B0%EC%9D%B4%ED%84%B0/data_review.ipynb\n",
    "\n",
    "같은 format으로 이루어져 있어서 그냥 다 읽어 들어서 처리하면 될 줄 알았는데 실제로 확인해보니 파일 형식이 다른 것이 존재함  \n",
    "1일 , 2일만 파일이름이 다름  \n",
    "\n",
    "그래서 결측치가 나오는것 같음  \n",
    "\n",
    "이 부분에 대해서 더 알아보고 처리해야 할 것 같음  "
   ]
  },
  {
   "cell_type": "markdown",
   "id": "c6ad4150",
   "metadata": {},
   "source": [
    "### 생육 관리 데이터\n",
    "\n",
    "> review: http://202.31.200.194:8888/notebooks/NPLAB-NAS/Members/SEO/salom_ai/Dataset/real_data/04-%EC%83%9D%EC%9C%A1%EA%B4%80%EB%A6%AC%EB%8D%B0%EC%9D%B4%ED%84%B0/data_review.ipynb\n",
    "\n",
    "데이터 처리해서 시각화까지 완료  \n",
    "어떤 변수를 더 추가해야하는지 확인 후에 변경  \n"
   ]
  },
  {
   "cell_type": "code",
   "execution_count": null,
   "id": "987f86bd",
   "metadata": {},
   "outputs": [],
   "source": []
  }
 ],
 "metadata": {
  "kernelspec": {
   "display_name": "Python 3",
   "language": "python",
   "name": "python3"
  },
  "language_info": {
   "codemirror_mode": {
    "name": "ipython",
    "version": 3
   },
   "file_extension": ".py",
   "mimetype": "text/x-python",
   "name": "python",
   "nbconvert_exporter": "python",
   "pygments_lexer": "ipython3",
   "version": "3.8.10"
  }
 },
 "nbformat": 4,
 "nbformat_minor": 5
}
