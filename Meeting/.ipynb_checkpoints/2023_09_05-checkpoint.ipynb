{
 "cells": [
  {
   "cell_type": "markdown",
   "id": "96c0d95c",
   "metadata": {},
   "source": [
    "# 2023_09_05"
   ]
  },
  {
   "cell_type": "markdown",
   "id": "1c276e3d",
   "metadata": {},
   "source": [
    "### salmon segmentation init\n",
    "\n",
    "9월 1일에 100장 정도의 데이터를 받음  \n",
    "기존의 DeepFish dataset에서 실제 연어 데이터에 대해서 학습 및 추론을 진행\n",
    "\n",
    "\n",
    "`['02-치어-연어사료급이', '03-성어-송어사료급이', '04-성어-연어사료급이', '01-치어-송어사료급이']`\n",
    "\n",
    "다음과 같이 각 수조별로 데이터가 25장씩 해서 100장 정도의 데이터가 있음  \n",
    "\n",
    "> training notebook : http://202.31.200.194:8888/notebooks/NPLAB-NAS/Members/SEO/salom_ai/segmentation/Salmon_data_reveiw.ipynb\n",
    "\n",
    "다음 노트북에서 데이터 리뷰 및 학습 코드 작성  \n",
    "\n",
    "* 기존의 DeepFish에서는 label이 1차원이였으나 salmon data는 label이 3차원임 max(axis=1)을 이용해서 차원축소를 해서 진행\n",
    "\n",
    "> training python : http://202.31.200.194:8888/edit/NPLAB-NAS/Members/SEO/salom_ai/segmentation/Salmon_data_reveiw.py\n",
    "\n",
    "DDP setting 및 터미널에서 학습을 돌리기 위해서 따로 python file로 만듬  \n",
    "\n",
    "> tensorboard: http://202.31.200.194:8888/notebooks/NPLAB-NAS/Members/SEO/salom_ai/segmentation/tensorboard.ipynb\n",
    "\n",
    "> infercne : http://202.31.200.194:8888/notebooks/NPLAB-NAS/Members/SEO/salom_ai/segmentation/inference/2023_09_02_init_salmon.ipynb\n",
    "\n"
   ]
  },
  {
   "cell_type": "markdown",
   "id": "843583c3",
   "metadata": {},
   "source": [
    "### salmon time series\n",
    "\n",
    "이미지 데이터뿐만 아니라 json data도 받음  \n",
    "이 데이터를 처리해서 times series 데이터로 만듬  \n",
    "실제로 실제로 하나의 개체에 대해서 추적이 불가능한 상황임  \n",
    "대신에 평균을 이용해서 데이터를 사용함  \n",
    "\n",
    "> preprocessing notebook : http://202.31.200.194:8888/notebooks/NPLAB-NAS/Members/SEO/salom_ai/Dataset/salmon_time_series/salmon_init_data/json_data_preproessing.ipynb\n",
    "\n",
    "실제 데이터를 처리해보니 target 값이 json에 없음  "
   ]
  },
  {
   "cell_type": "markdown",
   "id": "1c347a8f",
   "metadata": {},
   "source": [
    "### BC-DM salmon_biodata\n",
    "\n",
    "새로운 데이터를 전처리해서 학습 진행  \n",
    "데이터를 처리해보니 연어의 성장 기록에 대한 데이터가 아니라 연어 잡으러 갔을때의  잡힌 연어에 대한 데이터임  \n",
    "학습에 사용하기에는 적합하지 않은 데이터임  \n",
    "\n",
    "> data review : http://202.31.200.194:8888/notebooks/NPLAB-NAS/Members/SEO/salom_ai/Dataset/salmon_time_series/BC_DM_salmon_biodata/salmon_biodata_review.ipynb"
   ]
  },
  {
   "cell_type": "code",
   "execution_count": null,
   "id": "85d04307",
   "metadata": {},
   "outputs": [],
   "source": []
  }
 ],
 "metadata": {
  "kernelspec": {
   "display_name": "Python 3",
   "language": "python",
   "name": "python3"
  },
  "language_info": {
   "codemirror_mode": {
    "name": "ipython",
    "version": 3
   },
   "file_extension": ".py",
   "mimetype": "text/x-python",
   "name": "python",
   "nbconvert_exporter": "python",
   "pygments_lexer": "ipython3",
   "version": "3.8.10"
  }
 },
 "nbformat": 4,
 "nbformat_minor": 5
}
