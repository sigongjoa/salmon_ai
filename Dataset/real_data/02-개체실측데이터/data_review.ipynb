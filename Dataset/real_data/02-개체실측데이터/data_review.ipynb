{
 "cells": [
  {
   "cell_type": "code",
   "execution_count": 1,
   "id": "d6a9d987",
   "metadata": {},
   "outputs": [],
   "source": [
    "import os\n",
    "\n",
    "files = os.listdir('./')\n",
    "json_files = [file for file in files if file.endswith('.json')]\n",
    "print(json_files)\n"
   ]
  },
  {
   "cell_type": "code",
   "execution_count": 3,
   "id": "3ac968eb",
   "metadata": {
    "scrolled": true
   },
   "outputs": [
    {
     "data": {
      "text/html": [
       "<div>\n",
       "<style scoped>\n",
       "    .dataframe tbody tr th:only-of-type {\n",
       "        vertical-align: middle;\n",
       "    }\n",
       "\n",
       "    .dataframe tbody tr th {\n",
       "        vertical-align: top;\n",
       "    }\n",
       "\n",
       "    .dataframe thead th {\n",
       "        text-align: right;\n",
       "    }\n",
       "</style>\n",
       "<table border=\"1\" class=\"dataframe\">\n",
       "  <thead>\n",
       "    <tr style=\"text-align: right;\">\n",
       "      <th></th>\n",
       "      <th>id</th>\n",
       "      <th>measured_at</th>\n",
       "      <th>info.name</th>\n",
       "      <th>info.name_en</th>\n",
       "      <th>info.scientific_name</th>\n",
       "      <th>category.id</th>\n",
       "      <th>category.name</th>\n",
       "      <th>category.name_en</th>\n",
       "      <th>category.code</th>\n",
       "      <th>category.age.min</th>\n",
       "      <th>...</th>\n",
       "      <th>tank.type</th>\n",
       "      <th>tank.size.radius</th>\n",
       "      <th>tank.size.height</th>\n",
       "      <th>tank.size.unit</th>\n",
       "      <th>biomass.size.fork_length</th>\n",
       "      <th>biomass.size.total_length</th>\n",
       "      <th>biomass.size.body_depth</th>\n",
       "      <th>biomass.size.unit</th>\n",
       "      <th>biomass.weight.value</th>\n",
       "      <th>biomass.weight.unit</th>\n",
       "    </tr>\n",
       "  </thead>\n",
       "  <tbody>\n",
       "    <tr>\n",
       "      <th>0</th>\n",
       "      <td>27</td>\n",
       "      <td>2023-08-01T13:52:03+09:00</td>\n",
       "      <td>북태평양 연어</td>\n",
       "      <td>Chum Salmon</td>\n",
       "      <td>Oncorhynchus Keta</td>\n",
       "      <td>1</td>\n",
       "      <td>치어</td>\n",
       "      <td>Fry</td>\n",
       "      <td>F</td>\n",
       "      <td>7</td>\n",
       "      <td>...</td>\n",
       "      <td>유수식</td>\n",
       "      <td>520</td>\n",
       "      <td>120</td>\n",
       "      <td>cm</td>\n",
       "      <td>166</td>\n",
       "      <td>176</td>\n",
       "      <td>33</td>\n",
       "      <td>mm</td>\n",
       "      <td>122</td>\n",
       "      <td>g</td>\n",
       "    </tr>\n",
       "    <tr>\n",
       "      <th>1</th>\n",
       "      <td>31</td>\n",
       "      <td>2023-08-01T13:53:24+09:00</td>\n",
       "      <td>북태평양 연어</td>\n",
       "      <td>Chum Salmon</td>\n",
       "      <td>Oncorhynchus Keta</td>\n",
       "      <td>1</td>\n",
       "      <td>치어</td>\n",
       "      <td>Fry</td>\n",
       "      <td>F</td>\n",
       "      <td>7</td>\n",
       "      <td>...</td>\n",
       "      <td>유수식</td>\n",
       "      <td>520</td>\n",
       "      <td>120</td>\n",
       "      <td>cm</td>\n",
       "      <td>176</td>\n",
       "      <td>190</td>\n",
       "      <td>41</td>\n",
       "      <td>mm</td>\n",
       "      <td>163</td>\n",
       "      <td>g</td>\n",
       "    </tr>\n",
       "    <tr>\n",
       "      <th>2</th>\n",
       "      <td>6</td>\n",
       "      <td>2023-08-01T13:50:14+09:00</td>\n",
       "      <td>북태평양 연어</td>\n",
       "      <td>Chum Salmon</td>\n",
       "      <td>Oncorhynchus Keta</td>\n",
       "      <td>1</td>\n",
       "      <td>치어</td>\n",
       "      <td>Fry</td>\n",
       "      <td>F</td>\n",
       "      <td>7</td>\n",
       "      <td>...</td>\n",
       "      <td>유수식</td>\n",
       "      <td>520</td>\n",
       "      <td>120</td>\n",
       "      <td>cm</td>\n",
       "      <td>174</td>\n",
       "      <td>188</td>\n",
       "      <td>41</td>\n",
       "      <td>mm</td>\n",
       "      <td>122</td>\n",
       "      <td>g</td>\n",
       "    </tr>\n",
       "    <tr>\n",
       "      <th>3</th>\n",
       "      <td>28</td>\n",
       "      <td>2023-08-01T13:52:34+09:00</td>\n",
       "      <td>북태평양 연어</td>\n",
       "      <td>Chum Salmon</td>\n",
       "      <td>Oncorhynchus Keta</td>\n",
       "      <td>1</td>\n",
       "      <td>치어</td>\n",
       "      <td>Fry</td>\n",
       "      <td>F</td>\n",
       "      <td>7</td>\n",
       "      <td>...</td>\n",
       "      <td>유수식</td>\n",
       "      <td>520</td>\n",
       "      <td>120</td>\n",
       "      <td>cm</td>\n",
       "      <td>171</td>\n",
       "      <td>182</td>\n",
       "      <td>32</td>\n",
       "      <td>mm</td>\n",
       "      <td>136</td>\n",
       "      <td>g</td>\n",
       "    </tr>\n",
       "    <tr>\n",
       "      <th>4</th>\n",
       "      <td>2</td>\n",
       "      <td>2023-08-01T13:47:11+09:00</td>\n",
       "      <td>북태평양 연어</td>\n",
       "      <td>Chum Salmon</td>\n",
       "      <td>Oncorhynchus Keta</td>\n",
       "      <td>1</td>\n",
       "      <td>치어</td>\n",
       "      <td>Fry</td>\n",
       "      <td>F</td>\n",
       "      <td>7</td>\n",
       "      <td>...</td>\n",
       "      <td>유수식</td>\n",
       "      <td>520</td>\n",
       "      <td>120</td>\n",
       "      <td>cm</td>\n",
       "      <td>165</td>\n",
       "      <td>180</td>\n",
       "      <td>35</td>\n",
       "      <td>mm</td>\n",
       "      <td>143</td>\n",
       "      <td>g</td>\n",
       "    </tr>\n",
       "    <tr>\n",
       "      <th>5</th>\n",
       "      <td>29</td>\n",
       "      <td>2023-08-01T13:52:22+09:00</td>\n",
       "      <td>북태평양 연어</td>\n",
       "      <td>Chum Salmon</td>\n",
       "      <td>Oncorhynchus Keta</td>\n",
       "      <td>1</td>\n",
       "      <td>치어</td>\n",
       "      <td>Fry</td>\n",
       "      <td>F</td>\n",
       "      <td>7</td>\n",
       "      <td>...</td>\n",
       "      <td>유수식</td>\n",
       "      <td>520</td>\n",
       "      <td>120</td>\n",
       "      <td>cm</td>\n",
       "      <td>165</td>\n",
       "      <td>180</td>\n",
       "      <td>32</td>\n",
       "      <td>mm</td>\n",
       "      <td>136</td>\n",
       "      <td>g</td>\n",
       "    </tr>\n",
       "    <tr>\n",
       "      <th>6</th>\n",
       "      <td>37</td>\n",
       "      <td>2023-08-01T13:58:18+09:00</td>\n",
       "      <td>북태평양 연어</td>\n",
       "      <td>Chum Salmon</td>\n",
       "      <td>Oncorhynchus Keta</td>\n",
       "      <td>2</td>\n",
       "      <td>성어</td>\n",
       "      <td>Adult</td>\n",
       "      <td>A</td>\n",
       "      <td>24</td>\n",
       "      <td>...</td>\n",
       "      <td>유수식</td>\n",
       "      <td>520</td>\n",
       "      <td>120</td>\n",
       "      <td>cm</td>\n",
       "      <td>425</td>\n",
       "      <td>441</td>\n",
       "      <td>97</td>\n",
       "      <td>mm</td>\n",
       "      <td>861</td>\n",
       "      <td>g</td>\n",
       "    </tr>\n",
       "    <tr>\n",
       "      <th>7</th>\n",
       "      <td>38</td>\n",
       "      <td>2023-08-01T14:00:56+09:00</td>\n",
       "      <td>북태평양 연어</td>\n",
       "      <td>Chum Salmon</td>\n",
       "      <td>Oncorhynchus Keta</td>\n",
       "      <td>2</td>\n",
       "      <td>성어</td>\n",
       "      <td>Adult</td>\n",
       "      <td>A</td>\n",
       "      <td>24</td>\n",
       "      <td>...</td>\n",
       "      <td>유수식</td>\n",
       "      <td>520</td>\n",
       "      <td>120</td>\n",
       "      <td>cm</td>\n",
       "      <td>369</td>\n",
       "      <td>379</td>\n",
       "      <td>73</td>\n",
       "      <td>mm</td>\n",
       "      <td>564</td>\n",
       "      <td>g</td>\n",
       "    </tr>\n",
       "    <tr>\n",
       "      <th>8</th>\n",
       "      <td>4</td>\n",
       "      <td>2023-08-01T13:49:50+09:00</td>\n",
       "      <td>북태평양 연어</td>\n",
       "      <td>Chum Salmon</td>\n",
       "      <td>Oncorhynchus Keta</td>\n",
       "      <td>1</td>\n",
       "      <td>치어</td>\n",
       "      <td>Fry</td>\n",
       "      <td>F</td>\n",
       "      <td>7</td>\n",
       "      <td>...</td>\n",
       "      <td>유수식</td>\n",
       "      <td>520</td>\n",
       "      <td>120</td>\n",
       "      <td>cm</td>\n",
       "      <td>170</td>\n",
       "      <td>185</td>\n",
       "      <td>38</td>\n",
       "      <td>mm</td>\n",
       "      <td>112</td>\n",
       "      <td>g</td>\n",
       "    </tr>\n",
       "    <tr>\n",
       "      <th>9</th>\n",
       "      <td>30</td>\n",
       "      <td>2023-08-01T13:52:49+09:00</td>\n",
       "      <td>북태평양 연어</td>\n",
       "      <td>Chum Salmon</td>\n",
       "      <td>Oncorhynchus Keta</td>\n",
       "      <td>1</td>\n",
       "      <td>치어</td>\n",
       "      <td>Fry</td>\n",
       "      <td>F</td>\n",
       "      <td>7</td>\n",
       "      <td>...</td>\n",
       "      <td>유수식</td>\n",
       "      <td>520</td>\n",
       "      <td>120</td>\n",
       "      <td>cm</td>\n",
       "      <td>191</td>\n",
       "      <td>204</td>\n",
       "      <td>38</td>\n",
       "      <td>mm</td>\n",
       "      <td>168</td>\n",
       "      <td>g</td>\n",
       "    </tr>\n",
       "    <tr>\n",
       "      <th>10</th>\n",
       "      <td>3</td>\n",
       "      <td>2023-08-01T13:47:24+09:00</td>\n",
       "      <td>북태평양 연어</td>\n",
       "      <td>Chum Salmon</td>\n",
       "      <td>Oncorhynchus Keta</td>\n",
       "      <td>1</td>\n",
       "      <td>치어</td>\n",
       "      <td>Fry</td>\n",
       "      <td>F</td>\n",
       "      <td>7</td>\n",
       "      <td>...</td>\n",
       "      <td>유수식</td>\n",
       "      <td>520</td>\n",
       "      <td>120</td>\n",
       "      <td>cm</td>\n",
       "      <td>170</td>\n",
       "      <td>185</td>\n",
       "      <td>38</td>\n",
       "      <td>mm</td>\n",
       "      <td>112</td>\n",
       "      <td>g</td>\n",
       "    </tr>\n",
       "    <tr>\n",
       "      <th>11</th>\n",
       "      <td>32</td>\n",
       "      <td>2023-08-01T13:53:06+09:00</td>\n",
       "      <td>북태평양 연어</td>\n",
       "      <td>Chum Salmon</td>\n",
       "      <td>Oncorhynchus Keta</td>\n",
       "      <td>1</td>\n",
       "      <td>치어</td>\n",
       "      <td>Fry</td>\n",
       "      <td>F</td>\n",
       "      <td>7</td>\n",
       "      <td>...</td>\n",
       "      <td>유수식</td>\n",
       "      <td>520</td>\n",
       "      <td>120</td>\n",
       "      <td>cm</td>\n",
       "      <td>174</td>\n",
       "      <td>184</td>\n",
       "      <td>39</td>\n",
       "      <td>mm</td>\n",
       "      <td>155</td>\n",
       "      <td>g</td>\n",
       "    </tr>\n",
       "    <tr>\n",
       "      <th>12</th>\n",
       "      <td>7</td>\n",
       "      <td>2023-08-01T13:50:38+09:00</td>\n",
       "      <td>북태평양 연어</td>\n",
       "      <td>Chum Salmon</td>\n",
       "      <td>Oncorhynchus Keta</td>\n",
       "      <td>1</td>\n",
       "      <td>치어</td>\n",
       "      <td>Fry</td>\n",
       "      <td>F</td>\n",
       "      <td>7</td>\n",
       "      <td>...</td>\n",
       "      <td>유수식</td>\n",
       "      <td>520</td>\n",
       "      <td>120</td>\n",
       "      <td>cm</td>\n",
       "      <td>190</td>\n",
       "      <td>200</td>\n",
       "      <td>37</td>\n",
       "      <td>mm</td>\n",
       "      <td>129</td>\n",
       "      <td>g</td>\n",
       "    </tr>\n",
       "    <tr>\n",
       "      <th>13</th>\n",
       "      <td>0</td>\n",
       "      <td>2023-08-01T13:46:37+09:00</td>\n",
       "      <td>북태평양 연어</td>\n",
       "      <td>Chum Salmon</td>\n",
       "      <td>Oncorhynchus Keta</td>\n",
       "      <td>1</td>\n",
       "      <td>치어</td>\n",
       "      <td>Fry</td>\n",
       "      <td>F</td>\n",
       "      <td>7</td>\n",
       "      <td>...</td>\n",
       "      <td>유수식</td>\n",
       "      <td>520</td>\n",
       "      <td>120</td>\n",
       "      <td>cm</td>\n",
       "      <td>159</td>\n",
       "      <td>169</td>\n",
       "      <td>34</td>\n",
       "      <td>mm</td>\n",
       "      <td>84</td>\n",
       "      <td>g</td>\n",
       "    </tr>\n",
       "    <tr>\n",
       "      <th>14</th>\n",
       "      <td>35</td>\n",
       "      <td>2023-08-01T09:26:08+09:00</td>\n",
       "      <td>북태평양 연어</td>\n",
       "      <td>Chum Salmon</td>\n",
       "      <td>Oncorhynchus Keta</td>\n",
       "      <td>2</td>\n",
       "      <td>성어</td>\n",
       "      <td>Adult</td>\n",
       "      <td>A</td>\n",
       "      <td>24</td>\n",
       "      <td>...</td>\n",
       "      <td>유수식</td>\n",
       "      <td>520</td>\n",
       "      <td>120</td>\n",
       "      <td>cm</td>\n",
       "      <td>462</td>\n",
       "      <td>508</td>\n",
       "      <td>111</td>\n",
       "      <td>mm</td>\n",
       "      <td>1314</td>\n",
       "      <td>g</td>\n",
       "    </tr>\n",
       "    <tr>\n",
       "      <th>15</th>\n",
       "      <td>36</td>\n",
       "      <td>2023-08-01T13:56:33+09:00</td>\n",
       "      <td>북태평양 연어</td>\n",
       "      <td>Chum Salmon</td>\n",
       "      <td>Oncorhynchus Keta</td>\n",
       "      <td>2</td>\n",
       "      <td>성어</td>\n",
       "      <td>Adult</td>\n",
       "      <td>A</td>\n",
       "      <td>24</td>\n",
       "      <td>...</td>\n",
       "      <td>유수식</td>\n",
       "      <td>520</td>\n",
       "      <td>120</td>\n",
       "      <td>cm</td>\n",
       "      <td>389</td>\n",
       "      <td>405</td>\n",
       "      <td>84</td>\n",
       "      <td>mm</td>\n",
       "      <td>556</td>\n",
       "      <td>g</td>\n",
       "    </tr>\n",
       "    <tr>\n",
       "      <th>16</th>\n",
       "      <td>5</td>\n",
       "      <td>2023-08-01T13:50:05+09:00</td>\n",
       "      <td>북태평양 연어</td>\n",
       "      <td>Chum Salmon</td>\n",
       "      <td>Oncorhynchus Keta</td>\n",
       "      <td>1</td>\n",
       "      <td>치어</td>\n",
       "      <td>Fry</td>\n",
       "      <td>F</td>\n",
       "      <td>7</td>\n",
       "      <td>...</td>\n",
       "      <td>유수식</td>\n",
       "      <td>520</td>\n",
       "      <td>120</td>\n",
       "      <td>cm</td>\n",
       "      <td>170</td>\n",
       "      <td>185</td>\n",
       "      <td>38</td>\n",
       "      <td>mm</td>\n",
       "      <td>112</td>\n",
       "      <td>g</td>\n",
       "    </tr>\n",
       "    <tr>\n",
       "      <th>17</th>\n",
       "      <td>34</td>\n",
       "      <td>2023-08-01T13:53:58+09:00</td>\n",
       "      <td>북태평양 연어</td>\n",
       "      <td>Chum Salmon</td>\n",
       "      <td>Oncorhynchus Keta</td>\n",
       "      <td>1</td>\n",
       "      <td>치어</td>\n",
       "      <td>Fry</td>\n",
       "      <td>F</td>\n",
       "      <td>7</td>\n",
       "      <td>...</td>\n",
       "      <td>유수식</td>\n",
       "      <td>520</td>\n",
       "      <td>120</td>\n",
       "      <td>cm</td>\n",
       "      <td>165</td>\n",
       "      <td>179</td>\n",
       "      <td>35</td>\n",
       "      <td>mm</td>\n",
       "      <td>150</td>\n",
       "      <td>g</td>\n",
       "    </tr>\n",
       "    <tr>\n",
       "      <th>18</th>\n",
       "      <td>1</td>\n",
       "      <td>2023-08-01T13:46:55+09:00</td>\n",
       "      <td>북태평양 연어</td>\n",
       "      <td>Chum Salmon</td>\n",
       "      <td>Oncorhynchus Keta</td>\n",
       "      <td>1</td>\n",
       "      <td>치어</td>\n",
       "      <td>Fry</td>\n",
       "      <td>F</td>\n",
       "      <td>7</td>\n",
       "      <td>...</td>\n",
       "      <td>유수식</td>\n",
       "      <td>520</td>\n",
       "      <td>120</td>\n",
       "      <td>cm</td>\n",
       "      <td>170</td>\n",
       "      <td>185</td>\n",
       "      <td>33</td>\n",
       "      <td>mm</td>\n",
       "      <td>130</td>\n",
       "      <td>g</td>\n",
       "    </tr>\n",
       "    <tr>\n",
       "      <th>19</th>\n",
       "      <td>33</td>\n",
       "      <td>2023-08-01T13:53:41+09:00</td>\n",
       "      <td>북태평양 연어</td>\n",
       "      <td>Chum Salmon</td>\n",
       "      <td>Oncorhynchus Keta</td>\n",
       "      <td>1</td>\n",
       "      <td>치어</td>\n",
       "      <td>Fry</td>\n",
       "      <td>F</td>\n",
       "      <td>7</td>\n",
       "      <td>...</td>\n",
       "      <td>유수식</td>\n",
       "      <td>520</td>\n",
       "      <td>120</td>\n",
       "      <td>cm</td>\n",
       "      <td>150</td>\n",
       "      <td>158</td>\n",
       "      <td>29</td>\n",
       "      <td>mm</td>\n",
       "      <td>125</td>\n",
       "      <td>g</td>\n",
       "    </tr>\n",
       "  </tbody>\n",
       "</table>\n",
       "<p>20 rows × 30 columns</p>\n",
       "</div>"
      ],
      "text/plain": [
       "    id                measured_at info.name info.name_en info.scientific_name  \\\n",
       "0   27  2023-08-01T13:52:03+09:00   북태평양 연어  Chum Salmon    Oncorhynchus Keta   \n",
       "1   31  2023-08-01T13:53:24+09:00   북태평양 연어  Chum Salmon    Oncorhynchus Keta   \n",
       "2    6  2023-08-01T13:50:14+09:00   북태평양 연어  Chum Salmon    Oncorhynchus Keta   \n",
       "3   28  2023-08-01T13:52:34+09:00   북태평양 연어  Chum Salmon    Oncorhynchus Keta   \n",
       "4    2  2023-08-01T13:47:11+09:00   북태평양 연어  Chum Salmon    Oncorhynchus Keta   \n",
       "5   29  2023-08-01T13:52:22+09:00   북태평양 연어  Chum Salmon    Oncorhynchus Keta   \n",
       "6   37  2023-08-01T13:58:18+09:00   북태평양 연어  Chum Salmon    Oncorhynchus Keta   \n",
       "7   38  2023-08-01T14:00:56+09:00   북태평양 연어  Chum Salmon    Oncorhynchus Keta   \n",
       "8    4  2023-08-01T13:49:50+09:00   북태평양 연어  Chum Salmon    Oncorhynchus Keta   \n",
       "9   30  2023-08-01T13:52:49+09:00   북태평양 연어  Chum Salmon    Oncorhynchus Keta   \n",
       "10   3  2023-08-01T13:47:24+09:00   북태평양 연어  Chum Salmon    Oncorhynchus Keta   \n",
       "11  32  2023-08-01T13:53:06+09:00   북태평양 연어  Chum Salmon    Oncorhynchus Keta   \n",
       "12   7  2023-08-01T13:50:38+09:00   북태평양 연어  Chum Salmon    Oncorhynchus Keta   \n",
       "13   0  2023-08-01T13:46:37+09:00   북태평양 연어  Chum Salmon    Oncorhynchus Keta   \n",
       "14  35  2023-08-01T09:26:08+09:00   북태평양 연어  Chum Salmon    Oncorhynchus Keta   \n",
       "15  36  2023-08-01T13:56:33+09:00   북태평양 연어  Chum Salmon    Oncorhynchus Keta   \n",
       "16   5  2023-08-01T13:50:05+09:00   북태평양 연어  Chum Salmon    Oncorhynchus Keta   \n",
       "17  34  2023-08-01T13:53:58+09:00   북태평양 연어  Chum Salmon    Oncorhynchus Keta   \n",
       "18   1  2023-08-01T13:46:55+09:00   북태평양 연어  Chum Salmon    Oncorhynchus Keta   \n",
       "19  33  2023-08-01T13:53:41+09:00   북태평양 연어  Chum Salmon    Oncorhynchus Keta   \n",
       "\n",
       "    category.id category.name category.name_en category.code  \\\n",
       "0             1            치어              Fry             F   \n",
       "1             1            치어              Fry             F   \n",
       "2             1            치어              Fry             F   \n",
       "3             1            치어              Fry             F   \n",
       "4             1            치어              Fry             F   \n",
       "5             1            치어              Fry             F   \n",
       "6             2            성어            Adult             A   \n",
       "7             2            성어            Adult             A   \n",
       "8             1            치어              Fry             F   \n",
       "9             1            치어              Fry             F   \n",
       "10            1            치어              Fry             F   \n",
       "11            1            치어              Fry             F   \n",
       "12            1            치어              Fry             F   \n",
       "13            1            치어              Fry             F   \n",
       "14            2            성어            Adult             A   \n",
       "15            2            성어            Adult             A   \n",
       "16            1            치어              Fry             F   \n",
       "17            1            치어              Fry             F   \n",
       "18            1            치어              Fry             F   \n",
       "19            1            치어              Fry             F   \n",
       "\n",
       "    category.age.min  ...  tank.type tank.size.radius  tank.size.height  \\\n",
       "0                  7  ...        유수식              520               120   \n",
       "1                  7  ...        유수식              520               120   \n",
       "2                  7  ...        유수식              520               120   \n",
       "3                  7  ...        유수식              520               120   \n",
       "4                  7  ...        유수식              520               120   \n",
       "5                  7  ...        유수식              520               120   \n",
       "6                 24  ...        유수식              520               120   \n",
       "7                 24  ...        유수식              520               120   \n",
       "8                  7  ...        유수식              520               120   \n",
       "9                  7  ...        유수식              520               120   \n",
       "10                 7  ...        유수식              520               120   \n",
       "11                 7  ...        유수식              520               120   \n",
       "12                 7  ...        유수식              520               120   \n",
       "13                 7  ...        유수식              520               120   \n",
       "14                24  ...        유수식              520               120   \n",
       "15                24  ...        유수식              520               120   \n",
       "16                 7  ...        유수식              520               120   \n",
       "17                 7  ...        유수식              520               120   \n",
       "18                 7  ...        유수식              520               120   \n",
       "19                 7  ...        유수식              520               120   \n",
       "\n",
       "   tank.size.unit biomass.size.fork_length  biomass.size.total_length  \\\n",
       "0              cm                      166                        176   \n",
       "1              cm                      176                        190   \n",
       "2              cm                      174                        188   \n",
       "3              cm                      171                        182   \n",
       "4              cm                      165                        180   \n",
       "5              cm                      165                        180   \n",
       "6              cm                      425                        441   \n",
       "7              cm                      369                        379   \n",
       "8              cm                      170                        185   \n",
       "9              cm                      191                        204   \n",
       "10             cm                      170                        185   \n",
       "11             cm                      174                        184   \n",
       "12             cm                      190                        200   \n",
       "13             cm                      159                        169   \n",
       "14             cm                      462                        508   \n",
       "15             cm                      389                        405   \n",
       "16             cm                      170                        185   \n",
       "17             cm                      165                        179   \n",
       "18             cm                      170                        185   \n",
       "19             cm                      150                        158   \n",
       "\n",
       "    biomass.size.body_depth  biomass.size.unit  biomass.weight.value  \\\n",
       "0                        33                 mm                   122   \n",
       "1                        41                 mm                   163   \n",
       "2                        41                 mm                   122   \n",
       "3                        32                 mm                   136   \n",
       "4                        35                 mm                   143   \n",
       "5                        32                 mm                   136   \n",
       "6                        97                 mm                   861   \n",
       "7                        73                 mm                   564   \n",
       "8                        38                 mm                   112   \n",
       "9                        38                 mm                   168   \n",
       "10                       38                 mm                   112   \n",
       "11                       39                 mm                   155   \n",
       "12                       37                 mm                   129   \n",
       "13                       34                 mm                    84   \n",
       "14                      111                 mm                  1314   \n",
       "15                       84                 mm                   556   \n",
       "16                       38                 mm                   112   \n",
       "17                       35                 mm                   150   \n",
       "18                       33                 mm                   130   \n",
       "19                       29                 mm                   125   \n",
       "\n",
       "   biomass.weight.unit  \n",
       "0                    g  \n",
       "1                    g  \n",
       "2                    g  \n",
       "3                    g  \n",
       "4                    g  \n",
       "5                    g  \n",
       "6                    g  \n",
       "7                    g  \n",
       "8                    g  \n",
       "9                    g  \n",
       "10                   g  \n",
       "11                   g  \n",
       "12                   g  \n",
       "13                   g  \n",
       "14                   g  \n",
       "15                   g  \n",
       "16                   g  \n",
       "17                   g  \n",
       "18                   g  \n",
       "19                   g  \n",
       "\n",
       "[20 rows x 30 columns]"
      ]
     },
     "execution_count": 3,
     "metadata": {},
     "output_type": "execute_result"
    }
   ],
   "source": [
    "import json\n",
    "import pandas as pd\n",
    "\n",
    "dfs = []\n",
    "for json_file in json_files:\n",
    "    file_path = os.path.join('./', json_file)\n",
    "    with open(file_path, 'r') as f:\n",
    "        data = json.load(f)\n",
    "    df = pd.json_normalize(data)    \n",
    "    dfs.append(df)\n",
    "\n",
    "final_df = pd.concat(dfs, ignore_index=True)\n",
    "final_df"
   ]
  },
  {
   "cell_type": "code",
   "execution_count": 4,
   "id": "2d2c978f",
   "metadata": {},
   "outputs": [
    {
     "data": {
      "text/plain": [
       "id                           0\n",
       "measured_at                  0\n",
       "info.name                    0\n",
       "info.name_en                 0\n",
       "info.scientific_name         0\n",
       "category.id                  0\n",
       "category.name                0\n",
       "category.name_en             0\n",
       "category.code                0\n",
       "category.age.min             0\n",
       "category.age.max             0\n",
       "category.age.unit            0\n",
       "farm.id                      0\n",
       "farm.name                    0\n",
       "farm.address                 0\n",
       "farm.location.latitude       0\n",
       "farm.location.longitude      0\n",
       "tank.id                      0\n",
       "tank.farm_id                 0\n",
       "tank.name                    0\n",
       "tank.type                    0\n",
       "tank.size.radius             0\n",
       "tank.size.height             0\n",
       "tank.size.unit               0\n",
       "biomass.size.fork_length     0\n",
       "biomass.size.total_length    0\n",
       "biomass.size.body_depth      0\n",
       "biomass.size.unit            0\n",
       "biomass.weight.value         0\n",
       "biomass.weight.unit          0\n",
       "dtype: int64"
      ]
     },
     "execution_count": 4,
     "metadata": {},
     "output_type": "execute_result"
    }
   ],
   "source": [
    "final_df.isnull().sum()"
   ]
  },
  {
   "cell_type": "code",
   "execution_count": 5,
   "id": "efa26ee8",
   "metadata": {},
   "outputs": [
    {
     "data": {
      "text/plain": [
       "0     months\n",
       "1     months\n",
       "2     months\n",
       "3     months\n",
       "4     months\n",
       "5     months\n",
       "6     months\n",
       "7     months\n",
       "8     months\n",
       "9     months\n",
       "10    months\n",
       "11    months\n",
       "12    months\n",
       "13    months\n",
       "14    months\n",
       "15    months\n",
       "16    months\n",
       "17    months\n",
       "18    months\n",
       "19    months\n",
       "Name: category.age.unit, dtype: object"
      ]
     },
     "execution_count": 5,
     "metadata": {},
     "output_type": "execute_result"
    }
   ],
   "source": [
    "final_df['category.age.unit']"
   ]
  },
  {
   "cell_type": "code",
   "execution_count": 6,
   "id": "631e40c8",
   "metadata": {},
   "outputs": [
    {
     "data": {
      "text/plain": [
       "2023-08-01T13:52:03+09:00    1\n",
       "2023-08-01T13:53:24+09:00    1\n",
       "2023-08-01T13:46:55+09:00    1\n",
       "2023-08-01T13:53:58+09:00    1\n",
       "2023-08-01T13:50:05+09:00    1\n",
       "2023-08-01T13:56:33+09:00    1\n",
       "2023-08-01T09:26:08+09:00    1\n",
       "2023-08-01T13:46:37+09:00    1\n",
       "2023-08-01T13:50:38+09:00    1\n",
       "2023-08-01T13:53:06+09:00    1\n",
       "2023-08-01T13:47:24+09:00    1\n",
       "2023-08-01T13:52:49+09:00    1\n",
       "2023-08-01T13:49:50+09:00    1\n",
       "2023-08-01T14:00:56+09:00    1\n",
       "2023-08-01T13:58:18+09:00    1\n",
       "2023-08-01T13:52:22+09:00    1\n",
       "2023-08-01T13:47:11+09:00    1\n",
       "2023-08-01T13:52:34+09:00    1\n",
       "2023-08-01T13:50:14+09:00    1\n",
       "2023-08-01T13:53:41+09:00    1\n",
       "Name: measured_at, dtype: int64"
      ]
     },
     "execution_count": 6,
     "metadata": {},
     "output_type": "execute_result"
    }
   ],
   "source": [
    "final_df['measured_at'].value_counts()"
   ]
  },
  {
   "cell_type": "code",
   "execution_count": 7,
   "id": "b88be067",
   "metadata": {},
   "outputs": [
    {
     "data": {
      "text/plain": [
       "7     16\n",
       "24     4\n",
       "Name: category.age.min, dtype: int64"
      ]
     },
     "execution_count": 7,
     "metadata": {},
     "output_type": "execute_result"
    }
   ],
   "source": [
    "final_df['category.age.min'].value_counts()"
   ]
  },
  {
   "cell_type": "code",
   "execution_count": 8,
   "id": "413ede73",
   "metadata": {},
   "outputs": [
    {
     "data": {
      "text/plain": [
       "12    16\n",
       "36     4\n",
       "Name: category.age.max, dtype: int64"
      ]
     },
     "execution_count": 8,
     "metadata": {},
     "output_type": "execute_result"
    }
   ],
   "source": [
    "final_df['category.age.max'].value_counts()"
   ]
  },
  {
   "cell_type": "code",
   "execution_count": 9,
   "id": "860e2a3f",
   "metadata": {},
   "outputs": [
    {
     "data": {
      "text/plain": [
       "months    20\n",
       "Name: category.age.unit, dtype: int64"
      ]
     },
     "execution_count": 9,
     "metadata": {},
     "output_type": "execute_result"
    }
   ],
   "source": [
    "final_df['category.age.unit'].value_counts()"
   ]
  },
  {
   "cell_type": "code",
   "execution_count": 10,
   "id": "ee7c7bd9",
   "metadata": {},
   "outputs": [
    {
     "data": {
      "text/plain": [
       "170    4\n",
       "165    3\n",
       "174    2\n",
       "166    1\n",
       "176    1\n",
       "171    1\n",
       "425    1\n",
       "369    1\n",
       "191    1\n",
       "190    1\n",
       "159    1\n",
       "462    1\n",
       "389    1\n",
       "150    1\n",
       "Name: biomass.size.fork_length, dtype: int64"
      ]
     },
     "execution_count": 10,
     "metadata": {},
     "output_type": "execute_result"
    }
   ],
   "source": [
    "final_df['biomass.size.fork_length'].value_counts()"
   ]
  },
  {
   "cell_type": "code",
   "execution_count": 11,
   "id": "b6c2122d",
   "metadata": {},
   "outputs": [
    {
     "data": {
      "text/plain": [
       "185    4\n",
       "180    2\n",
       "176    1\n",
       "190    1\n",
       "188    1\n",
       "182    1\n",
       "441    1\n",
       "379    1\n",
       "204    1\n",
       "184    1\n",
       "200    1\n",
       "169    1\n",
       "508    1\n",
       "405    1\n",
       "179    1\n",
       "158    1\n",
       "Name: biomass.size.total_length, dtype: int64"
      ]
     },
     "execution_count": 11,
     "metadata": {},
     "output_type": "execute_result"
    }
   ],
   "source": [
    "final_df['biomass.size.total_length'].value_counts()"
   ]
  },
  {
   "cell_type": "code",
   "execution_count": 12,
   "id": "5086064d",
   "metadata": {},
   "outputs": [
    {
     "data": {
      "text/plain": [
       "38     4\n",
       "33     2\n",
       "41     2\n",
       "32     2\n",
       "35     2\n",
       "97     1\n",
       "73     1\n",
       "39     1\n",
       "37     1\n",
       "34     1\n",
       "111    1\n",
       "84     1\n",
       "29     1\n",
       "Name: biomass.size.body_depth, dtype: int64"
      ]
     },
     "execution_count": 12,
     "metadata": {},
     "output_type": "execute_result"
    }
   ],
   "source": [
    "final_df['biomass.size.body_depth'].value_counts()"
   ]
  },
  {
   "cell_type": "code",
   "execution_count": 13,
   "id": "97bf531d",
   "metadata": {},
   "outputs": [
    {
     "data": {
      "text/plain": [
       "112     3\n",
       "122     2\n",
       "136     2\n",
       "163     1\n",
       "143     1\n",
       "861     1\n",
       "564     1\n",
       "168     1\n",
       "155     1\n",
       "129     1\n",
       "84      1\n",
       "1314    1\n",
       "556     1\n",
       "150     1\n",
       "130     1\n",
       "125     1\n",
       "Name: biomass.weight.value, dtype: int64"
      ]
     },
     "execution_count": 13,
     "metadata": {},
     "output_type": "execute_result"
    }
   ],
   "source": [
    "final_df['biomass.weight.value'].value_counts()"
   ]
  },
  {
   "cell_type": "code",
   "execution_count": 30,
   "id": "1c60d52a",
   "metadata": {
    "scrolled": true
   },
   "outputs": [
    {
     "data": {
      "application/vnd.plotly.v1+json": {
       "config": {
        "plotlyServerURL": "https://plot.ly"
       },
       "data": [
        {
         "mode": "lines",
         "name": "info.name",
         "type": "scatter",
         "x": [
          "2023-08-01T09:26:08+09:00",
          "2023-08-01T13:46:37+09:00",
          "2023-08-01T13:46:55+09:00",
          "2023-08-01T13:47:11+09:00",
          "2023-08-01T13:47:24+09:00",
          "2023-08-01T13:49:50+09:00",
          "2023-08-01T13:50:05+09:00",
          "2023-08-01T13:50:14+09:00",
          "2023-08-01T13:50:38+09:00",
          "2023-08-01T13:52:03+09:00",
          "2023-08-01T13:52:22+09:00",
          "2023-08-01T13:52:34+09:00",
          "2023-08-01T13:52:49+09:00",
          "2023-08-01T13:53:06+09:00",
          "2023-08-01T13:53:24+09:00",
          "2023-08-01T13:53:41+09:00",
          "2023-08-01T13:53:58+09:00",
          "2023-08-01T13:56:33+09:00",
          "2023-08-01T13:58:18+09:00",
          "2023-08-01T14:00:56+09:00"
         ],
         "xaxis": "x",
         "y": [
          "북태평양 연어",
          "북태평양 연어",
          "북태평양 연어",
          "북태평양 연어",
          "북태평양 연어",
          "북태평양 연어",
          "북태평양 연어",
          "북태평양 연어",
          "북태평양 연어",
          "북태평양 연어",
          "북태평양 연어",
          "북태평양 연어",
          "북태평양 연어",
          "북태평양 연어",
          "북태평양 연어",
          "북태평양 연어",
          "북태평양 연어",
          "북태평양 연어",
          "북태평양 연어",
          "북태평양 연어"
         ],
         "yaxis": "y"
        },
        {
         "mode": "lines",
         "name": "category.age.min",
         "type": "scatter",
         "x": [
          "2023-08-01T09:26:08+09:00",
          "2023-08-01T13:46:37+09:00",
          "2023-08-01T13:46:55+09:00",
          "2023-08-01T13:47:11+09:00",
          "2023-08-01T13:47:24+09:00",
          "2023-08-01T13:49:50+09:00",
          "2023-08-01T13:50:05+09:00",
          "2023-08-01T13:50:14+09:00",
          "2023-08-01T13:50:38+09:00",
          "2023-08-01T13:52:03+09:00",
          "2023-08-01T13:52:22+09:00",
          "2023-08-01T13:52:34+09:00",
          "2023-08-01T13:52:49+09:00",
          "2023-08-01T13:53:06+09:00",
          "2023-08-01T13:53:24+09:00",
          "2023-08-01T13:53:41+09:00",
          "2023-08-01T13:53:58+09:00",
          "2023-08-01T13:56:33+09:00",
          "2023-08-01T13:58:18+09:00",
          "2023-08-01T14:00:56+09:00"
         ],
         "xaxis": "x2",
         "y": [
          24,
          7,
          7,
          7,
          7,
          7,
          7,
          7,
          7,
          7,
          7,
          7,
          7,
          7,
          7,
          7,
          7,
          24,
          24,
          24
         ],
         "yaxis": "y2"
        },
        {
         "mode": "lines",
         "name": "category.age.max",
         "type": "scatter",
         "x": [
          "2023-08-01T09:26:08+09:00",
          "2023-08-01T13:46:37+09:00",
          "2023-08-01T13:46:55+09:00",
          "2023-08-01T13:47:11+09:00",
          "2023-08-01T13:47:24+09:00",
          "2023-08-01T13:49:50+09:00",
          "2023-08-01T13:50:05+09:00",
          "2023-08-01T13:50:14+09:00",
          "2023-08-01T13:50:38+09:00",
          "2023-08-01T13:52:03+09:00",
          "2023-08-01T13:52:22+09:00",
          "2023-08-01T13:52:34+09:00",
          "2023-08-01T13:52:49+09:00",
          "2023-08-01T13:53:06+09:00",
          "2023-08-01T13:53:24+09:00",
          "2023-08-01T13:53:41+09:00",
          "2023-08-01T13:53:58+09:00",
          "2023-08-01T13:56:33+09:00",
          "2023-08-01T13:58:18+09:00",
          "2023-08-01T14:00:56+09:00"
         ],
         "xaxis": "x3",
         "y": [
          36,
          12,
          12,
          12,
          12,
          12,
          12,
          12,
          12,
          12,
          12,
          12,
          12,
          12,
          12,
          12,
          12,
          36,
          36,
          36
         ],
         "yaxis": "y3"
        },
        {
         "mode": "lines",
         "name": "farm.location.latitude",
         "type": "scatter",
         "x": [
          "2023-08-01T09:26:08+09:00",
          "2023-08-01T13:46:37+09:00",
          "2023-08-01T13:46:55+09:00",
          "2023-08-01T13:47:11+09:00",
          "2023-08-01T13:47:24+09:00",
          "2023-08-01T13:49:50+09:00",
          "2023-08-01T13:50:05+09:00",
          "2023-08-01T13:50:14+09:00",
          "2023-08-01T13:50:38+09:00",
          "2023-08-01T13:52:03+09:00",
          "2023-08-01T13:52:22+09:00",
          "2023-08-01T13:52:34+09:00",
          "2023-08-01T13:52:49+09:00",
          "2023-08-01T13:53:06+09:00",
          "2023-08-01T13:53:24+09:00",
          "2023-08-01T13:53:41+09:00",
          "2023-08-01T13:53:58+09:00",
          "2023-08-01T13:56:33+09:00",
          "2023-08-01T13:58:18+09:00",
          "2023-08-01T14:00:56+09:00"
         ],
         "xaxis": "x4",
         "y": [
          36.5786395,
          36.5786395,
          36.5786395,
          36.5786395,
          36.5786395,
          36.5786395,
          36.5786395,
          36.5786395,
          36.5786395,
          36.5786395,
          36.5786395,
          36.5786395,
          36.5786395,
          36.5786395,
          36.5786395,
          36.5786395,
          36.5786395,
          36.5786395,
          36.5786395,
          36.5786395
         ],
         "yaxis": "y4"
        },
        {
         "mode": "lines",
         "name": "farm.location.longitude",
         "type": "scatter",
         "x": [
          "2023-08-01T09:26:08+09:00",
          "2023-08-01T13:46:37+09:00",
          "2023-08-01T13:46:55+09:00",
          "2023-08-01T13:47:11+09:00",
          "2023-08-01T13:47:24+09:00",
          "2023-08-01T13:49:50+09:00",
          "2023-08-01T13:50:05+09:00",
          "2023-08-01T13:50:14+09:00",
          "2023-08-01T13:50:38+09:00",
          "2023-08-01T13:52:03+09:00",
          "2023-08-01T13:52:22+09:00",
          "2023-08-01T13:52:34+09:00",
          "2023-08-01T13:52:49+09:00",
          "2023-08-01T13:53:06+09:00",
          "2023-08-01T13:53:24+09:00",
          "2023-08-01T13:53:41+09:00",
          "2023-08-01T13:53:58+09:00",
          "2023-08-01T13:56:33+09:00",
          "2023-08-01T13:58:18+09:00",
          "2023-08-01T14:00:56+09:00"
         ],
         "xaxis": "x5",
         "y": [
          129.4140979,
          129.4140979,
          129.4140979,
          129.4140979,
          129.4140979,
          129.4140979,
          129.4140979,
          129.4140979,
          129.4140979,
          129.4140979,
          129.4140979,
          129.4140979,
          129.4140979,
          129.4140979,
          129.4140979,
          129.4140979,
          129.4140979,
          129.4140979,
          129.4140979,
          129.4140979
         ],
         "yaxis": "y5"
        },
        {
         "mode": "lines",
         "name": "tank.size.radius",
         "type": "scatter",
         "x": [
          "2023-08-01T09:26:08+09:00",
          "2023-08-01T13:46:37+09:00",
          "2023-08-01T13:46:55+09:00",
          "2023-08-01T13:47:11+09:00",
          "2023-08-01T13:47:24+09:00",
          "2023-08-01T13:49:50+09:00",
          "2023-08-01T13:50:05+09:00",
          "2023-08-01T13:50:14+09:00",
          "2023-08-01T13:50:38+09:00",
          "2023-08-01T13:52:03+09:00",
          "2023-08-01T13:52:22+09:00",
          "2023-08-01T13:52:34+09:00",
          "2023-08-01T13:52:49+09:00",
          "2023-08-01T13:53:06+09:00",
          "2023-08-01T13:53:24+09:00",
          "2023-08-01T13:53:41+09:00",
          "2023-08-01T13:53:58+09:00",
          "2023-08-01T13:56:33+09:00",
          "2023-08-01T13:58:18+09:00",
          "2023-08-01T14:00:56+09:00"
         ],
         "xaxis": "x6",
         "y": [
          520,
          520,
          520,
          520,
          520,
          520,
          520,
          520,
          520,
          520,
          520,
          520,
          520,
          520,
          520,
          520,
          520,
          520,
          520,
          520
         ],
         "yaxis": "y6"
        },
        {
         "mode": "lines",
         "name": "tank.size.height",
         "type": "scatter",
         "x": [
          "2023-08-01T09:26:08+09:00",
          "2023-08-01T13:46:37+09:00",
          "2023-08-01T13:46:55+09:00",
          "2023-08-01T13:47:11+09:00",
          "2023-08-01T13:47:24+09:00",
          "2023-08-01T13:49:50+09:00",
          "2023-08-01T13:50:05+09:00",
          "2023-08-01T13:50:14+09:00",
          "2023-08-01T13:50:38+09:00",
          "2023-08-01T13:52:03+09:00",
          "2023-08-01T13:52:22+09:00",
          "2023-08-01T13:52:34+09:00",
          "2023-08-01T13:52:49+09:00",
          "2023-08-01T13:53:06+09:00",
          "2023-08-01T13:53:24+09:00",
          "2023-08-01T13:53:41+09:00",
          "2023-08-01T13:53:58+09:00",
          "2023-08-01T13:56:33+09:00",
          "2023-08-01T13:58:18+09:00",
          "2023-08-01T14:00:56+09:00"
         ],
         "xaxis": "x7",
         "y": [
          120,
          120,
          120,
          120,
          120,
          120,
          120,
          120,
          120,
          120,
          120,
          120,
          120,
          120,
          120,
          120,
          120,
          120,
          120,
          120
         ],
         "yaxis": "y7"
        },
        {
         "mode": "lines",
         "name": "biomass.size.fork_length",
         "type": "scatter",
         "x": [
          "2023-08-01T09:26:08+09:00",
          "2023-08-01T13:46:37+09:00",
          "2023-08-01T13:46:55+09:00",
          "2023-08-01T13:47:11+09:00",
          "2023-08-01T13:47:24+09:00",
          "2023-08-01T13:49:50+09:00",
          "2023-08-01T13:50:05+09:00",
          "2023-08-01T13:50:14+09:00",
          "2023-08-01T13:50:38+09:00",
          "2023-08-01T13:52:03+09:00",
          "2023-08-01T13:52:22+09:00",
          "2023-08-01T13:52:34+09:00",
          "2023-08-01T13:52:49+09:00",
          "2023-08-01T13:53:06+09:00",
          "2023-08-01T13:53:24+09:00",
          "2023-08-01T13:53:41+09:00",
          "2023-08-01T13:53:58+09:00",
          "2023-08-01T13:56:33+09:00",
          "2023-08-01T13:58:18+09:00",
          "2023-08-01T14:00:56+09:00"
         ],
         "xaxis": "x8",
         "y": [
          462,
          159,
          170,
          165,
          170,
          170,
          170,
          174,
          190,
          166,
          165,
          171,
          191,
          174,
          176,
          150,
          165,
          389,
          425,
          369
         ],
         "yaxis": "y8"
        },
        {
         "mode": "lines",
         "name": "biomass.size.total_length",
         "type": "scatter",
         "x": [
          "2023-08-01T09:26:08+09:00",
          "2023-08-01T13:46:37+09:00",
          "2023-08-01T13:46:55+09:00",
          "2023-08-01T13:47:11+09:00",
          "2023-08-01T13:47:24+09:00",
          "2023-08-01T13:49:50+09:00",
          "2023-08-01T13:50:05+09:00",
          "2023-08-01T13:50:14+09:00",
          "2023-08-01T13:50:38+09:00",
          "2023-08-01T13:52:03+09:00",
          "2023-08-01T13:52:22+09:00",
          "2023-08-01T13:52:34+09:00",
          "2023-08-01T13:52:49+09:00",
          "2023-08-01T13:53:06+09:00",
          "2023-08-01T13:53:24+09:00",
          "2023-08-01T13:53:41+09:00",
          "2023-08-01T13:53:58+09:00",
          "2023-08-01T13:56:33+09:00",
          "2023-08-01T13:58:18+09:00",
          "2023-08-01T14:00:56+09:00"
         ],
         "xaxis": "x9",
         "y": [
          508,
          169,
          185,
          180,
          185,
          185,
          185,
          188,
          200,
          176,
          180,
          182,
          204,
          184,
          190,
          158,
          179,
          405,
          441,
          379
         ],
         "yaxis": "y9"
        },
        {
         "mode": "lines",
         "name": "biomass.size.body_depth",
         "type": "scatter",
         "x": [
          "2023-08-01T09:26:08+09:00",
          "2023-08-01T13:46:37+09:00",
          "2023-08-01T13:46:55+09:00",
          "2023-08-01T13:47:11+09:00",
          "2023-08-01T13:47:24+09:00",
          "2023-08-01T13:49:50+09:00",
          "2023-08-01T13:50:05+09:00",
          "2023-08-01T13:50:14+09:00",
          "2023-08-01T13:50:38+09:00",
          "2023-08-01T13:52:03+09:00",
          "2023-08-01T13:52:22+09:00",
          "2023-08-01T13:52:34+09:00",
          "2023-08-01T13:52:49+09:00",
          "2023-08-01T13:53:06+09:00",
          "2023-08-01T13:53:24+09:00",
          "2023-08-01T13:53:41+09:00",
          "2023-08-01T13:53:58+09:00",
          "2023-08-01T13:56:33+09:00",
          "2023-08-01T13:58:18+09:00",
          "2023-08-01T14:00:56+09:00"
         ],
         "xaxis": "x10",
         "y": [
          111,
          34,
          33,
          35,
          38,
          38,
          38,
          41,
          37,
          33,
          32,
          32,
          38,
          39,
          41,
          29,
          35,
          84,
          97,
          73
         ],
         "yaxis": "y10"
        },
        {
         "mode": "lines",
         "name": "biomass.weight.value",
         "type": "scatter",
         "x": [
          "2023-08-01T09:26:08+09:00",
          "2023-08-01T13:46:37+09:00",
          "2023-08-01T13:46:55+09:00",
          "2023-08-01T13:47:11+09:00",
          "2023-08-01T13:47:24+09:00",
          "2023-08-01T13:49:50+09:00",
          "2023-08-01T13:50:05+09:00",
          "2023-08-01T13:50:14+09:00",
          "2023-08-01T13:50:38+09:00",
          "2023-08-01T13:52:03+09:00",
          "2023-08-01T13:52:22+09:00",
          "2023-08-01T13:52:34+09:00",
          "2023-08-01T13:52:49+09:00",
          "2023-08-01T13:53:06+09:00",
          "2023-08-01T13:53:24+09:00",
          "2023-08-01T13:53:41+09:00",
          "2023-08-01T13:53:58+09:00",
          "2023-08-01T13:56:33+09:00",
          "2023-08-01T13:58:18+09:00",
          "2023-08-01T14:00:56+09:00"
         ],
         "xaxis": "x11",
         "y": [
          1314,
          84,
          130,
          143,
          112,
          112,
          112,
          122,
          129,
          122,
          136,
          136,
          168,
          155,
          163,
          125,
          150,
          556,
          861,
          564
         ],
         "yaxis": "y11"
        }
       ],
       "layout": {
        "annotations": [
         {
          "font": {
           "size": 16
          },
          "showarrow": false,
          "text": "info.name",
          "x": 0.5,
          "xanchor": "center",
          "xref": "paper",
          "y": 0.9999999999999999,
          "yanchor": "bottom",
          "yref": "paper"
         },
         {
          "font": {
           "size": 16
          },
          "showarrow": false,
          "text": "category.age.min",
          "x": 0.5,
          "xanchor": "center",
          "xref": "paper",
          "y": 0.9049586776859503,
          "yanchor": "bottom",
          "yref": "paper"
         },
         {
          "font": {
           "size": 16
          },
          "showarrow": false,
          "text": "category.age.max",
          "x": 0.5,
          "xanchor": "center",
          "xref": "paper",
          "y": 0.8099173553719007,
          "yanchor": "bottom",
          "yref": "paper"
         },
         {
          "font": {
           "size": 16
          },
          "showarrow": false,
          "text": "farm.location.latitude",
          "x": 0.5,
          "xanchor": "center",
          "xref": "paper",
          "y": 0.7148760330578511,
          "yanchor": "bottom",
          "yref": "paper"
         },
         {
          "font": {
           "size": 16
          },
          "showarrow": false,
          "text": "farm.location.longitude",
          "x": 0.5,
          "xanchor": "center",
          "xref": "paper",
          "y": 0.6198347107438015,
          "yanchor": "bottom",
          "yref": "paper"
         },
         {
          "font": {
           "size": 16
          },
          "showarrow": false,
          "text": "tank.size.radius",
          "x": 0.5,
          "xanchor": "center",
          "xref": "paper",
          "y": 0.524793388429752,
          "yanchor": "bottom",
          "yref": "paper"
         },
         {
          "font": {
           "size": 16
          },
          "showarrow": false,
          "text": "tank.size.height",
          "x": 0.5,
          "xanchor": "center",
          "xref": "paper",
          "y": 0.42975206611570244,
          "yanchor": "bottom",
          "yref": "paper"
         },
         {
          "font": {
           "size": 16
          },
          "showarrow": false,
          "text": "biomass.size.fork_length",
          "x": 0.5,
          "xanchor": "center",
          "xref": "paper",
          "y": 0.33471074380165283,
          "yanchor": "bottom",
          "yref": "paper"
         },
         {
          "font": {
           "size": 16
          },
          "showarrow": false,
          "text": "biomass.size.total_length",
          "x": 0.5,
          "xanchor": "center",
          "xref": "paper",
          "y": 0.23966942148760328,
          "yanchor": "bottom",
          "yref": "paper"
         },
         {
          "font": {
           "size": 16
          },
          "showarrow": false,
          "text": "biomass.size.body_depth",
          "x": 0.5,
          "xanchor": "center",
          "xref": "paper",
          "y": 0.1446280991735537,
          "yanchor": "bottom",
          "yref": "paper"
         },
         {
          "font": {
           "size": 16
          },
          "showarrow": false,
          "text": "biomass.weight.value",
          "x": 0.5,
          "xanchor": "center",
          "xref": "paper",
          "y": 0.04958677685950413,
          "yanchor": "bottom",
          "yref": "paper"
         }
        ],
        "height": 4400,
        "template": {
         "data": {
          "bar": [
           {
            "error_x": {
             "color": "#2a3f5f"
            },
            "error_y": {
             "color": "#2a3f5f"
            },
            "marker": {
             "line": {
              "color": "#E5ECF6",
              "width": 0.5
             },
             "pattern": {
              "fillmode": "overlay",
              "size": 10,
              "solidity": 0.2
             }
            },
            "type": "bar"
           }
          ],
          "barpolar": [
           {
            "marker": {
             "line": {
              "color": "#E5ECF6",
              "width": 0.5
             },
             "pattern": {
              "fillmode": "overlay",
              "size": 10,
              "solidity": 0.2
             }
            },
            "type": "barpolar"
           }
          ],
          "carpet": [
           {
            "aaxis": {
             "endlinecolor": "#2a3f5f",
             "gridcolor": "white",
             "linecolor": "white",
             "minorgridcolor": "white",
             "startlinecolor": "#2a3f5f"
            },
            "baxis": {
             "endlinecolor": "#2a3f5f",
             "gridcolor": "white",
             "linecolor": "white",
             "minorgridcolor": "white",
             "startlinecolor": "#2a3f5f"
            },
            "type": "carpet"
           }
          ],
          "choropleth": [
           {
            "colorbar": {
             "outlinewidth": 0,
             "ticks": ""
            },
            "type": "choropleth"
           }
          ],
          "contour": [
           {
            "colorbar": {
             "outlinewidth": 0,
             "ticks": ""
            },
            "colorscale": [
             [
              0,
              "#0d0887"
             ],
             [
              0.1111111111111111,
              "#46039f"
             ],
             [
              0.2222222222222222,
              "#7201a8"
             ],
             [
              0.3333333333333333,
              "#9c179e"
             ],
             [
              0.4444444444444444,
              "#bd3786"
             ],
             [
              0.5555555555555556,
              "#d8576b"
             ],
             [
              0.6666666666666666,
              "#ed7953"
             ],
             [
              0.7777777777777778,
              "#fb9f3a"
             ],
             [
              0.8888888888888888,
              "#fdca26"
             ],
             [
              1,
              "#f0f921"
             ]
            ],
            "type": "contour"
           }
          ],
          "contourcarpet": [
           {
            "colorbar": {
             "outlinewidth": 0,
             "ticks": ""
            },
            "type": "contourcarpet"
           }
          ],
          "heatmap": [
           {
            "colorbar": {
             "outlinewidth": 0,
             "ticks": ""
            },
            "colorscale": [
             [
              0,
              "#0d0887"
             ],
             [
              0.1111111111111111,
              "#46039f"
             ],
             [
              0.2222222222222222,
              "#7201a8"
             ],
             [
              0.3333333333333333,
              "#9c179e"
             ],
             [
              0.4444444444444444,
              "#bd3786"
             ],
             [
              0.5555555555555556,
              "#d8576b"
             ],
             [
              0.6666666666666666,
              "#ed7953"
             ],
             [
              0.7777777777777778,
              "#fb9f3a"
             ],
             [
              0.8888888888888888,
              "#fdca26"
             ],
             [
              1,
              "#f0f921"
             ]
            ],
            "type": "heatmap"
           }
          ],
          "heatmapgl": [
           {
            "colorbar": {
             "outlinewidth": 0,
             "ticks": ""
            },
            "colorscale": [
             [
              0,
              "#0d0887"
             ],
             [
              0.1111111111111111,
              "#46039f"
             ],
             [
              0.2222222222222222,
              "#7201a8"
             ],
             [
              0.3333333333333333,
              "#9c179e"
             ],
             [
              0.4444444444444444,
              "#bd3786"
             ],
             [
              0.5555555555555556,
              "#d8576b"
             ],
             [
              0.6666666666666666,
              "#ed7953"
             ],
             [
              0.7777777777777778,
              "#fb9f3a"
             ],
             [
              0.8888888888888888,
              "#fdca26"
             ],
             [
              1,
              "#f0f921"
             ]
            ],
            "type": "heatmapgl"
           }
          ],
          "histogram": [
           {
            "marker": {
             "pattern": {
              "fillmode": "overlay",
              "size": 10,
              "solidity": 0.2
             }
            },
            "type": "histogram"
           }
          ],
          "histogram2d": [
           {
            "colorbar": {
             "outlinewidth": 0,
             "ticks": ""
            },
            "colorscale": [
             [
              0,
              "#0d0887"
             ],
             [
              0.1111111111111111,
              "#46039f"
             ],
             [
              0.2222222222222222,
              "#7201a8"
             ],
             [
              0.3333333333333333,
              "#9c179e"
             ],
             [
              0.4444444444444444,
              "#bd3786"
             ],
             [
              0.5555555555555556,
              "#d8576b"
             ],
             [
              0.6666666666666666,
              "#ed7953"
             ],
             [
              0.7777777777777778,
              "#fb9f3a"
             ],
             [
              0.8888888888888888,
              "#fdca26"
             ],
             [
              1,
              "#f0f921"
             ]
            ],
            "type": "histogram2d"
           }
          ],
          "histogram2dcontour": [
           {
            "colorbar": {
             "outlinewidth": 0,
             "ticks": ""
            },
            "colorscale": [
             [
              0,
              "#0d0887"
             ],
             [
              0.1111111111111111,
              "#46039f"
             ],
             [
              0.2222222222222222,
              "#7201a8"
             ],
             [
              0.3333333333333333,
              "#9c179e"
             ],
             [
              0.4444444444444444,
              "#bd3786"
             ],
             [
              0.5555555555555556,
              "#d8576b"
             ],
             [
              0.6666666666666666,
              "#ed7953"
             ],
             [
              0.7777777777777778,
              "#fb9f3a"
             ],
             [
              0.8888888888888888,
              "#fdca26"
             ],
             [
              1,
              "#f0f921"
             ]
            ],
            "type": "histogram2dcontour"
           }
          ],
          "mesh3d": [
           {
            "colorbar": {
             "outlinewidth": 0,
             "ticks": ""
            },
            "type": "mesh3d"
           }
          ],
          "parcoords": [
           {
            "line": {
             "colorbar": {
              "outlinewidth": 0,
              "ticks": ""
             }
            },
            "type": "parcoords"
           }
          ],
          "pie": [
           {
            "automargin": true,
            "type": "pie"
           }
          ],
          "scatter": [
           {
            "fillpattern": {
             "fillmode": "overlay",
             "size": 10,
             "solidity": 0.2
            },
            "type": "scatter"
           }
          ],
          "scatter3d": [
           {
            "line": {
             "colorbar": {
              "outlinewidth": 0,
              "ticks": ""
             }
            },
            "marker": {
             "colorbar": {
              "outlinewidth": 0,
              "ticks": ""
             }
            },
            "type": "scatter3d"
           }
          ],
          "scattercarpet": [
           {
            "marker": {
             "colorbar": {
              "outlinewidth": 0,
              "ticks": ""
             }
            },
            "type": "scattercarpet"
           }
          ],
          "scattergeo": [
           {
            "marker": {
             "colorbar": {
              "outlinewidth": 0,
              "ticks": ""
             }
            },
            "type": "scattergeo"
           }
          ],
          "scattergl": [
           {
            "marker": {
             "colorbar": {
              "outlinewidth": 0,
              "ticks": ""
             }
            },
            "type": "scattergl"
           }
          ],
          "scattermapbox": [
           {
            "marker": {
             "colorbar": {
              "outlinewidth": 0,
              "ticks": ""
             }
            },
            "type": "scattermapbox"
           }
          ],
          "scatterpolar": [
           {
            "marker": {
             "colorbar": {
              "outlinewidth": 0,
              "ticks": ""
             }
            },
            "type": "scatterpolar"
           }
          ],
          "scatterpolargl": [
           {
            "marker": {
             "colorbar": {
              "outlinewidth": 0,
              "ticks": ""
             }
            },
            "type": "scatterpolargl"
           }
          ],
          "scatterternary": [
           {
            "marker": {
             "colorbar": {
              "outlinewidth": 0,
              "ticks": ""
             }
            },
            "type": "scatterternary"
           }
          ],
          "surface": [
           {
            "colorbar": {
             "outlinewidth": 0,
             "ticks": ""
            },
            "colorscale": [
             [
              0,
              "#0d0887"
             ],
             [
              0.1111111111111111,
              "#46039f"
             ],
             [
              0.2222222222222222,
              "#7201a8"
             ],
             [
              0.3333333333333333,
              "#9c179e"
             ],
             [
              0.4444444444444444,
              "#bd3786"
             ],
             [
              0.5555555555555556,
              "#d8576b"
             ],
             [
              0.6666666666666666,
              "#ed7953"
             ],
             [
              0.7777777777777778,
              "#fb9f3a"
             ],
             [
              0.8888888888888888,
              "#fdca26"
             ],
             [
              1,
              "#f0f921"
             ]
            ],
            "type": "surface"
           }
          ],
          "table": [
           {
            "cells": {
             "fill": {
              "color": "#EBF0F8"
             },
             "line": {
              "color": "white"
             }
            },
            "header": {
             "fill": {
              "color": "#C8D4E3"
             },
             "line": {
              "color": "white"
             }
            },
            "type": "table"
           }
          ]
         },
         "layout": {
          "annotationdefaults": {
           "arrowcolor": "#2a3f5f",
           "arrowhead": 0,
           "arrowwidth": 1
          },
          "autotypenumbers": "strict",
          "coloraxis": {
           "colorbar": {
            "outlinewidth": 0,
            "ticks": ""
           }
          },
          "colorscale": {
           "diverging": [
            [
             0,
             "#8e0152"
            ],
            [
             0.1,
             "#c51b7d"
            ],
            [
             0.2,
             "#de77ae"
            ],
            [
             0.3,
             "#f1b6da"
            ],
            [
             0.4,
             "#fde0ef"
            ],
            [
             0.5,
             "#f7f7f7"
            ],
            [
             0.6,
             "#e6f5d0"
            ],
            [
             0.7,
             "#b8e186"
            ],
            [
             0.8,
             "#7fbc41"
            ],
            [
             0.9,
             "#4d9221"
            ],
            [
             1,
             "#276419"
            ]
           ],
           "sequential": [
            [
             0,
             "#0d0887"
            ],
            [
             0.1111111111111111,
             "#46039f"
            ],
            [
             0.2222222222222222,
             "#7201a8"
            ],
            [
             0.3333333333333333,
             "#9c179e"
            ],
            [
             0.4444444444444444,
             "#bd3786"
            ],
            [
             0.5555555555555556,
             "#d8576b"
            ],
            [
             0.6666666666666666,
             "#ed7953"
            ],
            [
             0.7777777777777778,
             "#fb9f3a"
            ],
            [
             0.8888888888888888,
             "#fdca26"
            ],
            [
             1,
             "#f0f921"
            ]
           ],
           "sequentialminus": [
            [
             0,
             "#0d0887"
            ],
            [
             0.1111111111111111,
             "#46039f"
            ],
            [
             0.2222222222222222,
             "#7201a8"
            ],
            [
             0.3333333333333333,
             "#9c179e"
            ],
            [
             0.4444444444444444,
             "#bd3786"
            ],
            [
             0.5555555555555556,
             "#d8576b"
            ],
            [
             0.6666666666666666,
             "#ed7953"
            ],
            [
             0.7777777777777778,
             "#fb9f3a"
            ],
            [
             0.8888888888888888,
             "#fdca26"
            ],
            [
             1,
             "#f0f921"
            ]
           ]
          },
          "colorway": [
           "#636efa",
           "#EF553B",
           "#00cc96",
           "#ab63fa",
           "#FFA15A",
           "#19d3f3",
           "#FF6692",
           "#B6E880",
           "#FF97FF",
           "#FECB52"
          ],
          "font": {
           "color": "#2a3f5f"
          },
          "geo": {
           "bgcolor": "white",
           "lakecolor": "white",
           "landcolor": "#E5ECF6",
           "showlakes": true,
           "showland": true,
           "subunitcolor": "white"
          },
          "hoverlabel": {
           "align": "left"
          },
          "hovermode": "closest",
          "mapbox": {
           "style": "light"
          },
          "paper_bgcolor": "white",
          "plot_bgcolor": "#E5ECF6",
          "polar": {
           "angularaxis": {
            "gridcolor": "white",
            "linecolor": "white",
            "ticks": ""
           },
           "bgcolor": "#E5ECF6",
           "radialaxis": {
            "gridcolor": "white",
            "linecolor": "white",
            "ticks": ""
           }
          },
          "scene": {
           "xaxis": {
            "backgroundcolor": "#E5ECF6",
            "gridcolor": "white",
            "gridwidth": 2,
            "linecolor": "white",
            "showbackground": true,
            "ticks": "",
            "zerolinecolor": "white"
           },
           "yaxis": {
            "backgroundcolor": "#E5ECF6",
            "gridcolor": "white",
            "gridwidth": 2,
            "linecolor": "white",
            "showbackground": true,
            "ticks": "",
            "zerolinecolor": "white"
           },
           "zaxis": {
            "backgroundcolor": "#E5ECF6",
            "gridcolor": "white",
            "gridwidth": 2,
            "linecolor": "white",
            "showbackground": true,
            "ticks": "",
            "zerolinecolor": "white"
           }
          },
          "shapedefaults": {
           "line": {
            "color": "#2a3f5f"
           }
          },
          "ternary": {
           "aaxis": {
            "gridcolor": "white",
            "linecolor": "white",
            "ticks": ""
           },
           "baxis": {
            "gridcolor": "white",
            "linecolor": "white",
            "ticks": ""
           },
           "bgcolor": "#E5ECF6",
           "caxis": {
            "gridcolor": "white",
            "linecolor": "white",
            "ticks": ""
           }
          },
          "title": {
           "x": 0.05
          },
          "xaxis": {
           "automargin": true,
           "gridcolor": "white",
           "linecolor": "white",
           "ticks": "",
           "title": {
            "standoff": 15
           },
           "zerolinecolor": "white",
           "zerolinewidth": 2
          },
          "yaxis": {
           "automargin": true,
           "gridcolor": "white",
           "linecolor": "white",
           "ticks": "",
           "title": {
            "standoff": 15
           },
           "zerolinecolor": "white",
           "zerolinewidth": 2
          }
         }
        },
        "title": {
         "text": "Multiple Variables over Time"
        },
        "width": 1000,
        "xaxis": {
         "anchor": "y",
         "domain": [
          0,
          1
         ],
         "matches": "x11",
         "showticklabels": false,
         "title": {
          "text": "Measured At"
         }
        },
        "xaxis10": {
         "anchor": "y10",
         "domain": [
          0,
          1
         ],
         "matches": "x11",
         "showticklabels": false,
         "title": {
          "text": "Measured At"
         }
        },
        "xaxis11": {
         "anchor": "y11",
         "domain": [
          0,
          1
         ],
         "title": {
          "text": "Measured At"
         }
        },
        "xaxis2": {
         "anchor": "y2",
         "domain": [
          0,
          1
         ],
         "matches": "x11",
         "showticklabels": false,
         "title": {
          "text": "Measured At"
         }
        },
        "xaxis3": {
         "anchor": "y3",
         "domain": [
          0,
          1
         ],
         "matches": "x11",
         "showticklabels": false,
         "title": {
          "text": "Measured At"
         }
        },
        "xaxis4": {
         "anchor": "y4",
         "domain": [
          0,
          1
         ],
         "matches": "x11",
         "showticklabels": false,
         "title": {
          "text": "Measured At"
         }
        },
        "xaxis5": {
         "anchor": "y5",
         "domain": [
          0,
          1
         ],
         "matches": "x11",
         "showticklabels": false,
         "title": {
          "text": "Measured At"
         }
        },
        "xaxis6": {
         "anchor": "y6",
         "domain": [
          0,
          1
         ],
         "matches": "x11",
         "showticklabels": false,
         "title": {
          "text": "Measured At"
         }
        },
        "xaxis7": {
         "anchor": "y7",
         "domain": [
          0,
          1
         ],
         "matches": "x11",
         "showticklabels": false,
         "title": {
          "text": "Measured At"
         }
        },
        "xaxis8": {
         "anchor": "y8",
         "domain": [
          0,
          1
         ],
         "matches": "x11",
         "showticklabels": false,
         "title": {
          "text": "Measured At"
         }
        },
        "xaxis9": {
         "anchor": "y9",
         "domain": [
          0,
          1
         ],
         "matches": "x11",
         "showticklabels": false,
         "title": {
          "text": "Measured At"
         }
        },
        "yaxis": {
         "anchor": "x",
         "domain": [
          0.9504132231404958,
          0.9999999999999999
         ],
         "title": {
          "text": "Value"
         }
        },
        "yaxis10": {
         "anchor": "x10",
         "domain": [
          0.09504132231404958,
          0.1446280991735537
         ],
         "title": {
          "text": "Value"
         }
        },
        "yaxis11": {
         "anchor": "x11",
         "domain": [
          0,
          0.04958677685950413
         ],
         "title": {
          "text": "Value"
         }
        },
        "yaxis2": {
         "anchor": "x2",
         "domain": [
          0.8553719008264462,
          0.9049586776859503
         ],
         "title": {
          "text": "Value"
         }
        },
        "yaxis3": {
         "anchor": "x3",
         "domain": [
          0.7603305785123966,
          0.8099173553719007
         ],
         "title": {
          "text": "Value"
         }
        },
        "yaxis4": {
         "anchor": "x4",
         "domain": [
          0.665289256198347,
          0.7148760330578511
         ],
         "title": {
          "text": "Value"
         }
        },
        "yaxis5": {
         "anchor": "x5",
         "domain": [
          0.5702479338842974,
          0.6198347107438015
         ],
         "title": {
          "text": "Value"
         }
        },
        "yaxis6": {
         "anchor": "x6",
         "domain": [
          0.4752066115702479,
          0.524793388429752
         ],
         "title": {
          "text": "Value"
         }
        },
        "yaxis7": {
         "anchor": "x7",
         "domain": [
          0.3801652892561983,
          0.42975206611570244
         ],
         "title": {
          "text": "Value"
         }
        },
        "yaxis8": {
         "anchor": "x8",
         "domain": [
          0.2851239669421487,
          0.33471074380165283
         ],
         "title": {
          "text": "Value"
         }
        },
        "yaxis9": {
         "anchor": "x9",
         "domain": [
          0.19008264462809915,
          0.23966942148760328
         ],
         "title": {
          "text": "Value"
         }
        }
       }
      },
      "text/html": [
       "<div>                            <div id=\"6b787324-9fd9-42d3-a6ec-8b6e5952af5c\" class=\"plotly-graph-div\" style=\"height:4400px; width:1000px;\"></div>            <script type=\"text/javascript\">                require([\"plotly\"], function(Plotly) {                    window.PLOTLYENV=window.PLOTLYENV || {};                                    if (document.getElementById(\"6b787324-9fd9-42d3-a6ec-8b6e5952af5c\")) {                    Plotly.newPlot(                        \"6b787324-9fd9-42d3-a6ec-8b6e5952af5c\",                        [{\"mode\":\"lines\",\"name\":\"info.name\",\"x\":[\"2023-08-01T09:26:08+09:00\",\"2023-08-01T13:46:37+09:00\",\"2023-08-01T13:46:55+09:00\",\"2023-08-01T13:47:11+09:00\",\"2023-08-01T13:47:24+09:00\",\"2023-08-01T13:49:50+09:00\",\"2023-08-01T13:50:05+09:00\",\"2023-08-01T13:50:14+09:00\",\"2023-08-01T13:50:38+09:00\",\"2023-08-01T13:52:03+09:00\",\"2023-08-01T13:52:22+09:00\",\"2023-08-01T13:52:34+09:00\",\"2023-08-01T13:52:49+09:00\",\"2023-08-01T13:53:06+09:00\",\"2023-08-01T13:53:24+09:00\",\"2023-08-01T13:53:41+09:00\",\"2023-08-01T13:53:58+09:00\",\"2023-08-01T13:56:33+09:00\",\"2023-08-01T13:58:18+09:00\",\"2023-08-01T14:00:56+09:00\"],\"y\":[\"북태평양 연어\",\"북태평양 연어\",\"북태평양 연어\",\"북태평양 연어\",\"북태평양 연어\",\"북태평양 연어\",\"북태평양 연어\",\"북태평양 연어\",\"북태평양 연어\",\"북태평양 연어\",\"북태평양 연어\",\"북태평양 연어\",\"북태평양 연어\",\"북태평양 연어\",\"북태평양 연어\",\"북태평양 연어\",\"북태평양 연어\",\"북태평양 연어\",\"북태평양 연어\",\"북태평양 연어\"],\"type\":\"scatter\",\"xaxis\":\"x\",\"yaxis\":\"y\"},{\"mode\":\"lines\",\"name\":\"category.age.min\",\"x\":[\"2023-08-01T09:26:08+09:00\",\"2023-08-01T13:46:37+09:00\",\"2023-08-01T13:46:55+09:00\",\"2023-08-01T13:47:11+09:00\",\"2023-08-01T13:47:24+09:00\",\"2023-08-01T13:49:50+09:00\",\"2023-08-01T13:50:05+09:00\",\"2023-08-01T13:50:14+09:00\",\"2023-08-01T13:50:38+09:00\",\"2023-08-01T13:52:03+09:00\",\"2023-08-01T13:52:22+09:00\",\"2023-08-01T13:52:34+09:00\",\"2023-08-01T13:52:49+09:00\",\"2023-08-01T13:53:06+09:00\",\"2023-08-01T13:53:24+09:00\",\"2023-08-01T13:53:41+09:00\",\"2023-08-01T13:53:58+09:00\",\"2023-08-01T13:56:33+09:00\",\"2023-08-01T13:58:18+09:00\",\"2023-08-01T14:00:56+09:00\"],\"y\":[24,7,7,7,7,7,7,7,7,7,7,7,7,7,7,7,7,24,24,24],\"type\":\"scatter\",\"xaxis\":\"x2\",\"yaxis\":\"y2\"},{\"mode\":\"lines\",\"name\":\"category.age.max\",\"x\":[\"2023-08-01T09:26:08+09:00\",\"2023-08-01T13:46:37+09:00\",\"2023-08-01T13:46:55+09:00\",\"2023-08-01T13:47:11+09:00\",\"2023-08-01T13:47:24+09:00\",\"2023-08-01T13:49:50+09:00\",\"2023-08-01T13:50:05+09:00\",\"2023-08-01T13:50:14+09:00\",\"2023-08-01T13:50:38+09:00\",\"2023-08-01T13:52:03+09:00\",\"2023-08-01T13:52:22+09:00\",\"2023-08-01T13:52:34+09:00\",\"2023-08-01T13:52:49+09:00\",\"2023-08-01T13:53:06+09:00\",\"2023-08-01T13:53:24+09:00\",\"2023-08-01T13:53:41+09:00\",\"2023-08-01T13:53:58+09:00\",\"2023-08-01T13:56:33+09:00\",\"2023-08-01T13:58:18+09:00\",\"2023-08-01T14:00:56+09:00\"],\"y\":[36,12,12,12,12,12,12,12,12,12,12,12,12,12,12,12,12,36,36,36],\"type\":\"scatter\",\"xaxis\":\"x3\",\"yaxis\":\"y3\"},{\"mode\":\"lines\",\"name\":\"farm.location.latitude\",\"x\":[\"2023-08-01T09:26:08+09:00\",\"2023-08-01T13:46:37+09:00\",\"2023-08-01T13:46:55+09:00\",\"2023-08-01T13:47:11+09:00\",\"2023-08-01T13:47:24+09:00\",\"2023-08-01T13:49:50+09:00\",\"2023-08-01T13:50:05+09:00\",\"2023-08-01T13:50:14+09:00\",\"2023-08-01T13:50:38+09:00\",\"2023-08-01T13:52:03+09:00\",\"2023-08-01T13:52:22+09:00\",\"2023-08-01T13:52:34+09:00\",\"2023-08-01T13:52:49+09:00\",\"2023-08-01T13:53:06+09:00\",\"2023-08-01T13:53:24+09:00\",\"2023-08-01T13:53:41+09:00\",\"2023-08-01T13:53:58+09:00\",\"2023-08-01T13:56:33+09:00\",\"2023-08-01T13:58:18+09:00\",\"2023-08-01T14:00:56+09:00\"],\"y\":[36.5786395,36.5786395,36.5786395,36.5786395,36.5786395,36.5786395,36.5786395,36.5786395,36.5786395,36.5786395,36.5786395,36.5786395,36.5786395,36.5786395,36.5786395,36.5786395,36.5786395,36.5786395,36.5786395,36.5786395],\"type\":\"scatter\",\"xaxis\":\"x4\",\"yaxis\":\"y4\"},{\"mode\":\"lines\",\"name\":\"farm.location.longitude\",\"x\":[\"2023-08-01T09:26:08+09:00\",\"2023-08-01T13:46:37+09:00\",\"2023-08-01T13:46:55+09:00\",\"2023-08-01T13:47:11+09:00\",\"2023-08-01T13:47:24+09:00\",\"2023-08-01T13:49:50+09:00\",\"2023-08-01T13:50:05+09:00\",\"2023-08-01T13:50:14+09:00\",\"2023-08-01T13:50:38+09:00\",\"2023-08-01T13:52:03+09:00\",\"2023-08-01T13:52:22+09:00\",\"2023-08-01T13:52:34+09:00\",\"2023-08-01T13:52:49+09:00\",\"2023-08-01T13:53:06+09:00\",\"2023-08-01T13:53:24+09:00\",\"2023-08-01T13:53:41+09:00\",\"2023-08-01T13:53:58+09:00\",\"2023-08-01T13:56:33+09:00\",\"2023-08-01T13:58:18+09:00\",\"2023-08-01T14:00:56+09:00\"],\"y\":[129.4140979,129.4140979,129.4140979,129.4140979,129.4140979,129.4140979,129.4140979,129.4140979,129.4140979,129.4140979,129.4140979,129.4140979,129.4140979,129.4140979,129.4140979,129.4140979,129.4140979,129.4140979,129.4140979,129.4140979],\"type\":\"scatter\",\"xaxis\":\"x5\",\"yaxis\":\"y5\"},{\"mode\":\"lines\",\"name\":\"tank.size.radius\",\"x\":[\"2023-08-01T09:26:08+09:00\",\"2023-08-01T13:46:37+09:00\",\"2023-08-01T13:46:55+09:00\",\"2023-08-01T13:47:11+09:00\",\"2023-08-01T13:47:24+09:00\",\"2023-08-01T13:49:50+09:00\",\"2023-08-01T13:50:05+09:00\",\"2023-08-01T13:50:14+09:00\",\"2023-08-01T13:50:38+09:00\",\"2023-08-01T13:52:03+09:00\",\"2023-08-01T13:52:22+09:00\",\"2023-08-01T13:52:34+09:00\",\"2023-08-01T13:52:49+09:00\",\"2023-08-01T13:53:06+09:00\",\"2023-08-01T13:53:24+09:00\",\"2023-08-01T13:53:41+09:00\",\"2023-08-01T13:53:58+09:00\",\"2023-08-01T13:56:33+09:00\",\"2023-08-01T13:58:18+09:00\",\"2023-08-01T14:00:56+09:00\"],\"y\":[520,520,520,520,520,520,520,520,520,520,520,520,520,520,520,520,520,520,520,520],\"type\":\"scatter\",\"xaxis\":\"x6\",\"yaxis\":\"y6\"},{\"mode\":\"lines\",\"name\":\"tank.size.height\",\"x\":[\"2023-08-01T09:26:08+09:00\",\"2023-08-01T13:46:37+09:00\",\"2023-08-01T13:46:55+09:00\",\"2023-08-01T13:47:11+09:00\",\"2023-08-01T13:47:24+09:00\",\"2023-08-01T13:49:50+09:00\",\"2023-08-01T13:50:05+09:00\",\"2023-08-01T13:50:14+09:00\",\"2023-08-01T13:50:38+09:00\",\"2023-08-01T13:52:03+09:00\",\"2023-08-01T13:52:22+09:00\",\"2023-08-01T13:52:34+09:00\",\"2023-08-01T13:52:49+09:00\",\"2023-08-01T13:53:06+09:00\",\"2023-08-01T13:53:24+09:00\",\"2023-08-01T13:53:41+09:00\",\"2023-08-01T13:53:58+09:00\",\"2023-08-01T13:56:33+09:00\",\"2023-08-01T13:58:18+09:00\",\"2023-08-01T14:00:56+09:00\"],\"y\":[120,120,120,120,120,120,120,120,120,120,120,120,120,120,120,120,120,120,120,120],\"type\":\"scatter\",\"xaxis\":\"x7\",\"yaxis\":\"y7\"},{\"mode\":\"lines\",\"name\":\"biomass.size.fork_length\",\"x\":[\"2023-08-01T09:26:08+09:00\",\"2023-08-01T13:46:37+09:00\",\"2023-08-01T13:46:55+09:00\",\"2023-08-01T13:47:11+09:00\",\"2023-08-01T13:47:24+09:00\",\"2023-08-01T13:49:50+09:00\",\"2023-08-01T13:50:05+09:00\",\"2023-08-01T13:50:14+09:00\",\"2023-08-01T13:50:38+09:00\",\"2023-08-01T13:52:03+09:00\",\"2023-08-01T13:52:22+09:00\",\"2023-08-01T13:52:34+09:00\",\"2023-08-01T13:52:49+09:00\",\"2023-08-01T13:53:06+09:00\",\"2023-08-01T13:53:24+09:00\",\"2023-08-01T13:53:41+09:00\",\"2023-08-01T13:53:58+09:00\",\"2023-08-01T13:56:33+09:00\",\"2023-08-01T13:58:18+09:00\",\"2023-08-01T14:00:56+09:00\"],\"y\":[462,159,170,165,170,170,170,174,190,166,165,171,191,174,176,150,165,389,425,369],\"type\":\"scatter\",\"xaxis\":\"x8\",\"yaxis\":\"y8\"},{\"mode\":\"lines\",\"name\":\"biomass.size.total_length\",\"x\":[\"2023-08-01T09:26:08+09:00\",\"2023-08-01T13:46:37+09:00\",\"2023-08-01T13:46:55+09:00\",\"2023-08-01T13:47:11+09:00\",\"2023-08-01T13:47:24+09:00\",\"2023-08-01T13:49:50+09:00\",\"2023-08-01T13:50:05+09:00\",\"2023-08-01T13:50:14+09:00\",\"2023-08-01T13:50:38+09:00\",\"2023-08-01T13:52:03+09:00\",\"2023-08-01T13:52:22+09:00\",\"2023-08-01T13:52:34+09:00\",\"2023-08-01T13:52:49+09:00\",\"2023-08-01T13:53:06+09:00\",\"2023-08-01T13:53:24+09:00\",\"2023-08-01T13:53:41+09:00\",\"2023-08-01T13:53:58+09:00\",\"2023-08-01T13:56:33+09:00\",\"2023-08-01T13:58:18+09:00\",\"2023-08-01T14:00:56+09:00\"],\"y\":[508,169,185,180,185,185,185,188,200,176,180,182,204,184,190,158,179,405,441,379],\"type\":\"scatter\",\"xaxis\":\"x9\",\"yaxis\":\"y9\"},{\"mode\":\"lines\",\"name\":\"biomass.size.body_depth\",\"x\":[\"2023-08-01T09:26:08+09:00\",\"2023-08-01T13:46:37+09:00\",\"2023-08-01T13:46:55+09:00\",\"2023-08-01T13:47:11+09:00\",\"2023-08-01T13:47:24+09:00\",\"2023-08-01T13:49:50+09:00\",\"2023-08-01T13:50:05+09:00\",\"2023-08-01T13:50:14+09:00\",\"2023-08-01T13:50:38+09:00\",\"2023-08-01T13:52:03+09:00\",\"2023-08-01T13:52:22+09:00\",\"2023-08-01T13:52:34+09:00\",\"2023-08-01T13:52:49+09:00\",\"2023-08-01T13:53:06+09:00\",\"2023-08-01T13:53:24+09:00\",\"2023-08-01T13:53:41+09:00\",\"2023-08-01T13:53:58+09:00\",\"2023-08-01T13:56:33+09:00\",\"2023-08-01T13:58:18+09:00\",\"2023-08-01T14:00:56+09:00\"],\"y\":[111,34,33,35,38,38,38,41,37,33,32,32,38,39,41,29,35,84,97,73],\"type\":\"scatter\",\"xaxis\":\"x10\",\"yaxis\":\"y10\"},{\"mode\":\"lines\",\"name\":\"biomass.weight.value\",\"x\":[\"2023-08-01T09:26:08+09:00\",\"2023-08-01T13:46:37+09:00\",\"2023-08-01T13:46:55+09:00\",\"2023-08-01T13:47:11+09:00\",\"2023-08-01T13:47:24+09:00\",\"2023-08-01T13:49:50+09:00\",\"2023-08-01T13:50:05+09:00\",\"2023-08-01T13:50:14+09:00\",\"2023-08-01T13:50:38+09:00\",\"2023-08-01T13:52:03+09:00\",\"2023-08-01T13:52:22+09:00\",\"2023-08-01T13:52:34+09:00\",\"2023-08-01T13:52:49+09:00\",\"2023-08-01T13:53:06+09:00\",\"2023-08-01T13:53:24+09:00\",\"2023-08-01T13:53:41+09:00\",\"2023-08-01T13:53:58+09:00\",\"2023-08-01T13:56:33+09:00\",\"2023-08-01T13:58:18+09:00\",\"2023-08-01T14:00:56+09:00\"],\"y\":[1314,84,130,143,112,112,112,122,129,122,136,136,168,155,163,125,150,556,861,564],\"type\":\"scatter\",\"xaxis\":\"x11\",\"yaxis\":\"y11\"}],                        {\"template\":{\"data\":{\"histogram2dcontour\":[{\"type\":\"histogram2dcontour\",\"colorbar\":{\"outlinewidth\":0,\"ticks\":\"\"},\"colorscale\":[[0.0,\"#0d0887\"],[0.1111111111111111,\"#46039f\"],[0.2222222222222222,\"#7201a8\"],[0.3333333333333333,\"#9c179e\"],[0.4444444444444444,\"#bd3786\"],[0.5555555555555556,\"#d8576b\"],[0.6666666666666666,\"#ed7953\"],[0.7777777777777778,\"#fb9f3a\"],[0.8888888888888888,\"#fdca26\"],[1.0,\"#f0f921\"]]}],\"choropleth\":[{\"type\":\"choropleth\",\"colorbar\":{\"outlinewidth\":0,\"ticks\":\"\"}}],\"histogram2d\":[{\"type\":\"histogram2d\",\"colorbar\":{\"outlinewidth\":0,\"ticks\":\"\"},\"colorscale\":[[0.0,\"#0d0887\"],[0.1111111111111111,\"#46039f\"],[0.2222222222222222,\"#7201a8\"],[0.3333333333333333,\"#9c179e\"],[0.4444444444444444,\"#bd3786\"],[0.5555555555555556,\"#d8576b\"],[0.6666666666666666,\"#ed7953\"],[0.7777777777777778,\"#fb9f3a\"],[0.8888888888888888,\"#fdca26\"],[1.0,\"#f0f921\"]]}],\"heatmap\":[{\"type\":\"heatmap\",\"colorbar\":{\"outlinewidth\":0,\"ticks\":\"\"},\"colorscale\":[[0.0,\"#0d0887\"],[0.1111111111111111,\"#46039f\"],[0.2222222222222222,\"#7201a8\"],[0.3333333333333333,\"#9c179e\"],[0.4444444444444444,\"#bd3786\"],[0.5555555555555556,\"#d8576b\"],[0.6666666666666666,\"#ed7953\"],[0.7777777777777778,\"#fb9f3a\"],[0.8888888888888888,\"#fdca26\"],[1.0,\"#f0f921\"]]}],\"heatmapgl\":[{\"type\":\"heatmapgl\",\"colorbar\":{\"outlinewidth\":0,\"ticks\":\"\"},\"colorscale\":[[0.0,\"#0d0887\"],[0.1111111111111111,\"#46039f\"],[0.2222222222222222,\"#7201a8\"],[0.3333333333333333,\"#9c179e\"],[0.4444444444444444,\"#bd3786\"],[0.5555555555555556,\"#d8576b\"],[0.6666666666666666,\"#ed7953\"],[0.7777777777777778,\"#fb9f3a\"],[0.8888888888888888,\"#fdca26\"],[1.0,\"#f0f921\"]]}],\"contourcarpet\":[{\"type\":\"contourcarpet\",\"colorbar\":{\"outlinewidth\":0,\"ticks\":\"\"}}],\"contour\":[{\"type\":\"contour\",\"colorbar\":{\"outlinewidth\":0,\"ticks\":\"\"},\"colorscale\":[[0.0,\"#0d0887\"],[0.1111111111111111,\"#46039f\"],[0.2222222222222222,\"#7201a8\"],[0.3333333333333333,\"#9c179e\"],[0.4444444444444444,\"#bd3786\"],[0.5555555555555556,\"#d8576b\"],[0.6666666666666666,\"#ed7953\"],[0.7777777777777778,\"#fb9f3a\"],[0.8888888888888888,\"#fdca26\"],[1.0,\"#f0f921\"]]}],\"surface\":[{\"type\":\"surface\",\"colorbar\":{\"outlinewidth\":0,\"ticks\":\"\"},\"colorscale\":[[0.0,\"#0d0887\"],[0.1111111111111111,\"#46039f\"],[0.2222222222222222,\"#7201a8\"],[0.3333333333333333,\"#9c179e\"],[0.4444444444444444,\"#bd3786\"],[0.5555555555555556,\"#d8576b\"],[0.6666666666666666,\"#ed7953\"],[0.7777777777777778,\"#fb9f3a\"],[0.8888888888888888,\"#fdca26\"],[1.0,\"#f0f921\"]]}],\"mesh3d\":[{\"type\":\"mesh3d\",\"colorbar\":{\"outlinewidth\":0,\"ticks\":\"\"}}],\"scatter\":[{\"fillpattern\":{\"fillmode\":\"overlay\",\"size\":10,\"solidity\":0.2},\"type\":\"scatter\"}],\"parcoords\":[{\"type\":\"parcoords\",\"line\":{\"colorbar\":{\"outlinewidth\":0,\"ticks\":\"\"}}}],\"scatterpolargl\":[{\"type\":\"scatterpolargl\",\"marker\":{\"colorbar\":{\"outlinewidth\":0,\"ticks\":\"\"}}}],\"bar\":[{\"error_x\":{\"color\":\"#2a3f5f\"},\"error_y\":{\"color\":\"#2a3f5f\"},\"marker\":{\"line\":{\"color\":\"#E5ECF6\",\"width\":0.5},\"pattern\":{\"fillmode\":\"overlay\",\"size\":10,\"solidity\":0.2}},\"type\":\"bar\"}],\"scattergeo\":[{\"type\":\"scattergeo\",\"marker\":{\"colorbar\":{\"outlinewidth\":0,\"ticks\":\"\"}}}],\"scatterpolar\":[{\"type\":\"scatterpolar\",\"marker\":{\"colorbar\":{\"outlinewidth\":0,\"ticks\":\"\"}}}],\"histogram\":[{\"marker\":{\"pattern\":{\"fillmode\":\"overlay\",\"size\":10,\"solidity\":0.2}},\"type\":\"histogram\"}],\"scattergl\":[{\"type\":\"scattergl\",\"marker\":{\"colorbar\":{\"outlinewidth\":0,\"ticks\":\"\"}}}],\"scatter3d\":[{\"type\":\"scatter3d\",\"line\":{\"colorbar\":{\"outlinewidth\":0,\"ticks\":\"\"}},\"marker\":{\"colorbar\":{\"outlinewidth\":0,\"ticks\":\"\"}}}],\"scattermapbox\":[{\"type\":\"scattermapbox\",\"marker\":{\"colorbar\":{\"outlinewidth\":0,\"ticks\":\"\"}}}],\"scatterternary\":[{\"type\":\"scatterternary\",\"marker\":{\"colorbar\":{\"outlinewidth\":0,\"ticks\":\"\"}}}],\"scattercarpet\":[{\"type\":\"scattercarpet\",\"marker\":{\"colorbar\":{\"outlinewidth\":0,\"ticks\":\"\"}}}],\"carpet\":[{\"aaxis\":{\"endlinecolor\":\"#2a3f5f\",\"gridcolor\":\"white\",\"linecolor\":\"white\",\"minorgridcolor\":\"white\",\"startlinecolor\":\"#2a3f5f\"},\"baxis\":{\"endlinecolor\":\"#2a3f5f\",\"gridcolor\":\"white\",\"linecolor\":\"white\",\"minorgridcolor\":\"white\",\"startlinecolor\":\"#2a3f5f\"},\"type\":\"carpet\"}],\"table\":[{\"cells\":{\"fill\":{\"color\":\"#EBF0F8\"},\"line\":{\"color\":\"white\"}},\"header\":{\"fill\":{\"color\":\"#C8D4E3\"},\"line\":{\"color\":\"white\"}},\"type\":\"table\"}],\"barpolar\":[{\"marker\":{\"line\":{\"color\":\"#E5ECF6\",\"width\":0.5},\"pattern\":{\"fillmode\":\"overlay\",\"size\":10,\"solidity\":0.2}},\"type\":\"barpolar\"}],\"pie\":[{\"automargin\":true,\"type\":\"pie\"}]},\"layout\":{\"autotypenumbers\":\"strict\",\"colorway\":[\"#636efa\",\"#EF553B\",\"#00cc96\",\"#ab63fa\",\"#FFA15A\",\"#19d3f3\",\"#FF6692\",\"#B6E880\",\"#FF97FF\",\"#FECB52\"],\"font\":{\"color\":\"#2a3f5f\"},\"hovermode\":\"closest\",\"hoverlabel\":{\"align\":\"left\"},\"paper_bgcolor\":\"white\",\"plot_bgcolor\":\"#E5ECF6\",\"polar\":{\"bgcolor\":\"#E5ECF6\",\"angularaxis\":{\"gridcolor\":\"white\",\"linecolor\":\"white\",\"ticks\":\"\"},\"radialaxis\":{\"gridcolor\":\"white\",\"linecolor\":\"white\",\"ticks\":\"\"}},\"ternary\":{\"bgcolor\":\"#E5ECF6\",\"aaxis\":{\"gridcolor\":\"white\",\"linecolor\":\"white\",\"ticks\":\"\"},\"baxis\":{\"gridcolor\":\"white\",\"linecolor\":\"white\",\"ticks\":\"\"},\"caxis\":{\"gridcolor\":\"white\",\"linecolor\":\"white\",\"ticks\":\"\"}},\"coloraxis\":{\"colorbar\":{\"outlinewidth\":0,\"ticks\":\"\"}},\"colorscale\":{\"sequential\":[[0.0,\"#0d0887\"],[0.1111111111111111,\"#46039f\"],[0.2222222222222222,\"#7201a8\"],[0.3333333333333333,\"#9c179e\"],[0.4444444444444444,\"#bd3786\"],[0.5555555555555556,\"#d8576b\"],[0.6666666666666666,\"#ed7953\"],[0.7777777777777778,\"#fb9f3a\"],[0.8888888888888888,\"#fdca26\"],[1.0,\"#f0f921\"]],\"sequentialminus\":[[0.0,\"#0d0887\"],[0.1111111111111111,\"#46039f\"],[0.2222222222222222,\"#7201a8\"],[0.3333333333333333,\"#9c179e\"],[0.4444444444444444,\"#bd3786\"],[0.5555555555555556,\"#d8576b\"],[0.6666666666666666,\"#ed7953\"],[0.7777777777777778,\"#fb9f3a\"],[0.8888888888888888,\"#fdca26\"],[1.0,\"#f0f921\"]],\"diverging\":[[0,\"#8e0152\"],[0.1,\"#c51b7d\"],[0.2,\"#de77ae\"],[0.3,\"#f1b6da\"],[0.4,\"#fde0ef\"],[0.5,\"#f7f7f7\"],[0.6,\"#e6f5d0\"],[0.7,\"#b8e186\"],[0.8,\"#7fbc41\"],[0.9,\"#4d9221\"],[1,\"#276419\"]]},\"xaxis\":{\"gridcolor\":\"white\",\"linecolor\":\"white\",\"ticks\":\"\",\"title\":{\"standoff\":15},\"zerolinecolor\":\"white\",\"automargin\":true,\"zerolinewidth\":2},\"yaxis\":{\"gridcolor\":\"white\",\"linecolor\":\"white\",\"ticks\":\"\",\"title\":{\"standoff\":15},\"zerolinecolor\":\"white\",\"automargin\":true,\"zerolinewidth\":2},\"scene\":{\"xaxis\":{\"backgroundcolor\":\"#E5ECF6\",\"gridcolor\":\"white\",\"linecolor\":\"white\",\"showbackground\":true,\"ticks\":\"\",\"zerolinecolor\":\"white\",\"gridwidth\":2},\"yaxis\":{\"backgroundcolor\":\"#E5ECF6\",\"gridcolor\":\"white\",\"linecolor\":\"white\",\"showbackground\":true,\"ticks\":\"\",\"zerolinecolor\":\"white\",\"gridwidth\":2},\"zaxis\":{\"backgroundcolor\":\"#E5ECF6\",\"gridcolor\":\"white\",\"linecolor\":\"white\",\"showbackground\":true,\"ticks\":\"\",\"zerolinecolor\":\"white\",\"gridwidth\":2}},\"shapedefaults\":{\"line\":{\"color\":\"#2a3f5f\"}},\"annotationdefaults\":{\"arrowcolor\":\"#2a3f5f\",\"arrowhead\":0,\"arrowwidth\":1},\"geo\":{\"bgcolor\":\"white\",\"landcolor\":\"#E5ECF6\",\"subunitcolor\":\"white\",\"showland\":true,\"showlakes\":true,\"lakecolor\":\"white\"},\"title\":{\"x\":0.05},\"mapbox\":{\"style\":\"light\"}}},\"xaxis\":{\"anchor\":\"y\",\"domain\":[0.0,1.0],\"matches\":\"x11\",\"showticklabels\":false,\"title\":{\"text\":\"Measured At\"}},\"yaxis\":{\"anchor\":\"x\",\"domain\":[0.9504132231404958,0.9999999999999999],\"title\":{\"text\":\"Value\"}},\"xaxis2\":{\"anchor\":\"y2\",\"domain\":[0.0,1.0],\"matches\":\"x11\",\"showticklabels\":false,\"title\":{\"text\":\"Measured At\"}},\"yaxis2\":{\"anchor\":\"x2\",\"domain\":[0.8553719008264462,0.9049586776859503],\"title\":{\"text\":\"Value\"}},\"xaxis3\":{\"anchor\":\"y3\",\"domain\":[0.0,1.0],\"matches\":\"x11\",\"showticklabels\":false,\"title\":{\"text\":\"Measured At\"}},\"yaxis3\":{\"anchor\":\"x3\",\"domain\":[0.7603305785123966,0.8099173553719007],\"title\":{\"text\":\"Value\"}},\"xaxis4\":{\"anchor\":\"y4\",\"domain\":[0.0,1.0],\"matches\":\"x11\",\"showticklabels\":false,\"title\":{\"text\":\"Measured At\"}},\"yaxis4\":{\"anchor\":\"x4\",\"domain\":[0.665289256198347,0.7148760330578511],\"title\":{\"text\":\"Value\"}},\"xaxis5\":{\"anchor\":\"y5\",\"domain\":[0.0,1.0],\"matches\":\"x11\",\"showticklabels\":false,\"title\":{\"text\":\"Measured At\"}},\"yaxis5\":{\"anchor\":\"x5\",\"domain\":[0.5702479338842974,0.6198347107438015],\"title\":{\"text\":\"Value\"}},\"xaxis6\":{\"anchor\":\"y6\",\"domain\":[0.0,1.0],\"matches\":\"x11\",\"showticklabels\":false,\"title\":{\"text\":\"Measured At\"}},\"yaxis6\":{\"anchor\":\"x6\",\"domain\":[0.4752066115702479,0.524793388429752],\"title\":{\"text\":\"Value\"}},\"xaxis7\":{\"anchor\":\"y7\",\"domain\":[0.0,1.0],\"matches\":\"x11\",\"showticklabels\":false,\"title\":{\"text\":\"Measured At\"}},\"yaxis7\":{\"anchor\":\"x7\",\"domain\":[0.3801652892561983,0.42975206611570244],\"title\":{\"text\":\"Value\"}},\"xaxis8\":{\"anchor\":\"y8\",\"domain\":[0.0,1.0],\"matches\":\"x11\",\"showticklabels\":false,\"title\":{\"text\":\"Measured At\"}},\"yaxis8\":{\"anchor\":\"x8\",\"domain\":[0.2851239669421487,0.33471074380165283],\"title\":{\"text\":\"Value\"}},\"xaxis9\":{\"anchor\":\"y9\",\"domain\":[0.0,1.0],\"matches\":\"x11\",\"showticklabels\":false,\"title\":{\"text\":\"Measured At\"}},\"yaxis9\":{\"anchor\":\"x9\",\"domain\":[0.19008264462809915,0.23966942148760328],\"title\":{\"text\":\"Value\"}},\"xaxis10\":{\"anchor\":\"y10\",\"domain\":[0.0,1.0],\"matches\":\"x11\",\"showticklabels\":false,\"title\":{\"text\":\"Measured At\"}},\"yaxis10\":{\"anchor\":\"x10\",\"domain\":[0.09504132231404958,0.1446280991735537],\"title\":{\"text\":\"Value\"}},\"xaxis11\":{\"anchor\":\"y11\",\"domain\":[0.0,1.0],\"title\":{\"text\":\"Measured At\"}},\"yaxis11\":{\"anchor\":\"x11\",\"domain\":[0.0,0.04958677685950413],\"title\":{\"text\":\"Value\"}},\"annotations\":[{\"font\":{\"size\":16},\"showarrow\":false,\"text\":\"info.name\",\"x\":0.5,\"xanchor\":\"center\",\"xref\":\"paper\",\"y\":0.9999999999999999,\"yanchor\":\"bottom\",\"yref\":\"paper\"},{\"font\":{\"size\":16},\"showarrow\":false,\"text\":\"category.age.min\",\"x\":0.5,\"xanchor\":\"center\",\"xref\":\"paper\",\"y\":0.9049586776859503,\"yanchor\":\"bottom\",\"yref\":\"paper\"},{\"font\":{\"size\":16},\"showarrow\":false,\"text\":\"category.age.max\",\"x\":0.5,\"xanchor\":\"center\",\"xref\":\"paper\",\"y\":0.8099173553719007,\"yanchor\":\"bottom\",\"yref\":\"paper\"},{\"font\":{\"size\":16},\"showarrow\":false,\"text\":\"farm.location.latitude\",\"x\":0.5,\"xanchor\":\"center\",\"xref\":\"paper\",\"y\":0.7148760330578511,\"yanchor\":\"bottom\",\"yref\":\"paper\"},{\"font\":{\"size\":16},\"showarrow\":false,\"text\":\"farm.location.longitude\",\"x\":0.5,\"xanchor\":\"center\",\"xref\":\"paper\",\"y\":0.6198347107438015,\"yanchor\":\"bottom\",\"yref\":\"paper\"},{\"font\":{\"size\":16},\"showarrow\":false,\"text\":\"tank.size.radius\",\"x\":0.5,\"xanchor\":\"center\",\"xref\":\"paper\",\"y\":0.524793388429752,\"yanchor\":\"bottom\",\"yref\":\"paper\"},{\"font\":{\"size\":16},\"showarrow\":false,\"text\":\"tank.size.height\",\"x\":0.5,\"xanchor\":\"center\",\"xref\":\"paper\",\"y\":0.42975206611570244,\"yanchor\":\"bottom\",\"yref\":\"paper\"},{\"font\":{\"size\":16},\"showarrow\":false,\"text\":\"biomass.size.fork_length\",\"x\":0.5,\"xanchor\":\"center\",\"xref\":\"paper\",\"y\":0.33471074380165283,\"yanchor\":\"bottom\",\"yref\":\"paper\"},{\"font\":{\"size\":16},\"showarrow\":false,\"text\":\"biomass.size.total_length\",\"x\":0.5,\"xanchor\":\"center\",\"xref\":\"paper\",\"y\":0.23966942148760328,\"yanchor\":\"bottom\",\"yref\":\"paper\"},{\"font\":{\"size\":16},\"showarrow\":false,\"text\":\"biomass.size.body_depth\",\"x\":0.5,\"xanchor\":\"center\",\"xref\":\"paper\",\"y\":0.1446280991735537,\"yanchor\":\"bottom\",\"yref\":\"paper\"},{\"font\":{\"size\":16},\"showarrow\":false,\"text\":\"biomass.weight.value\",\"x\":0.5,\"xanchor\":\"center\",\"xref\":\"paper\",\"y\":0.04958677685950413,\"yanchor\":\"bottom\",\"yref\":\"paper\"}],\"title\":{\"text\":\"Multiple Variables over Time\"},\"height\":4400,\"width\":1000},                        {\"responsive\": true}                    ).then(function(){\n",
       "                            \n",
       "var gd = document.getElementById('6b787324-9fd9-42d3-a6ec-8b6e5952af5c');\n",
       "var x = new MutationObserver(function (mutations, observer) {{\n",
       "        var display = window.getComputedStyle(gd).display;\n",
       "        if (!display || display === 'none') {{\n",
       "            console.log([gd, 'removed!']);\n",
       "            Plotly.purge(gd);\n",
       "            observer.disconnect();\n",
       "        }}\n",
       "}});\n",
       "\n",
       "// Listen for the removal of the full notebook cells\n",
       "var notebookContainer = gd.closest('#notebook-container');\n",
       "if (notebookContainer) {{\n",
       "    x.observe(notebookContainer, {childList: true});\n",
       "}}\n",
       "\n",
       "// Listen for the clearing of the current output cell\n",
       "var outputEl = gd.closest('.output');\n",
       "if (outputEl) {{\n",
       "    x.observe(outputEl, {childList: true});\n",
       "}}\n",
       "\n",
       "                        })                };                });            </script>        </div>"
      ]
     },
     "metadata": {},
     "output_type": "display_data"
    }
   ],
   "source": [
    "import plotly.graph_objects as go\n",
    "from plotly.subplots import make_subplots\n",
    "\n",
    "# 'measured_at' 열을 기준으로 내림차순으로 정렬합니다.\n",
    "final_df_sorted = final_df.sort_values(by='measured_at', ascending=True)\n",
    "\n",
    "# 모든 변수들을 리스트로 저장합니다.\n",
    "variables = [\n",
    "    'info.name',\n",
    "    'category.age.min',\n",
    "    'category.age.max',\n",
    "    'farm.location.latitude',\n",
    "    'farm.location.longitude',\n",
    "    'tank.size.radius',\n",
    "    'tank.size.height',\n",
    "    'biomass.size.fork_length',\n",
    "    'biomass.size.total_length',\n",
    "    'biomass.size.body_depth',\n",
    "    'biomass.weight.value'\n",
    "]\n",
    "\n",
    "# 각 변수에 대한 subplot을 생성합니다.\n",
    "fig = make_subplots(rows=len(variables), cols=1, shared_xaxes=True, subplot_titles=variables)\n",
    "\n",
    "# 각 변수에 대한 scatter plot을 추가합니다.\n",
    "for i, variable in enumerate(variables, start=1):\n",
    "    fig.add_trace(go.Scatter(x=final_df_sorted['measured_at'], y=final_df_sorted[variable], mode='lines', name=variable), row=i, col=1)\n",
    "\n",
    "# 레이아웃을 업데이트합니다.\n",
    "fig.update_layout(height=400*len(variables), width=1000, title_text=\"Multiple Variables over Time\")\n",
    "fig.update_xaxes(title_text=\"Measured At\")\n",
    "fig.update_yaxes(title_text=\"Value\")\n",
    "\n",
    "# 그래프를 출력합니다.\n",
    "fig.show()\n"
   ]
  },
  {
   "cell_type": "code",
   "execution_count": 29,
   "id": "702c9d33",
   "metadata": {
    "scrolled": false
   },
   "outputs": [
    {
     "name": "stderr",
     "output_type": "stream",
     "text": [
      "<ipython-input-29-40b8862b74f0>:27: FutureWarning:\n",
      "\n",
      "The behavior of `series[i:j]` with an integer-dtype index is deprecated. In a future version, this will be treated as *label-based* indexing, consistent with e.g. `series[i]` lookups. To retain the old behavior, use `series.iloc[i:j]`. To get the future behavior, use `series.loc[i:j]`.\n",
      "\n"
     ]
    },
    {
     "data": {
      "application/vnd.plotly.v1+json": {
       "config": {
        "plotlyServerURL": "https://plot.ly"
       },
       "data": [
        {
         "mode": "lines",
         "name": "info.name",
         "type": "scatter",
         "x": [
          "2023-08-01T13:46:37+09:00",
          "2023-08-01T13:46:55+09:00",
          "2023-08-01T13:47:11+09:00",
          "2023-08-01T13:47:24+09:00",
          "2023-08-01T13:49:50+09:00",
          "2023-08-01T13:50:05+09:00",
          "2023-08-01T13:50:14+09:00",
          "2023-08-01T13:50:38+09:00",
          "2023-08-01T13:52:03+09:00",
          "2023-08-01T13:52:22+09:00",
          "2023-08-01T13:52:34+09:00",
          "2023-08-01T13:52:49+09:00",
          "2023-08-01T13:53:06+09:00",
          "2023-08-01T13:53:24+09:00",
          "2023-08-01T13:53:41+09:00",
          "2023-08-01T13:53:58+09:00",
          "2023-08-01T13:56:33+09:00",
          "2023-08-01T13:58:18+09:00",
          "2023-08-01T14:00:56+09:00"
         ],
         "xaxis": "x",
         "y": [
          "북태평양 연어",
          "북태평양 연어",
          "북태평양 연어",
          "북태평양 연어",
          "북태평양 연어",
          "북태평양 연어",
          "북태평양 연어",
          "북태평양 연어",
          "북태평양 연어",
          "북태평양 연어",
          "북태평양 연어",
          "북태평양 연어",
          "북태평양 연어",
          "북태평양 연어",
          "북태평양 연어",
          "북태평양 연어",
          "북태평양 연어",
          "북태평양 연어",
          "북태평양 연어"
         ],
         "yaxis": "y"
        },
        {
         "mode": "lines",
         "name": "category.age.min",
         "type": "scatter",
         "x": [
          "2023-08-01T13:46:37+09:00",
          "2023-08-01T13:46:55+09:00",
          "2023-08-01T13:47:11+09:00",
          "2023-08-01T13:47:24+09:00",
          "2023-08-01T13:49:50+09:00",
          "2023-08-01T13:50:05+09:00",
          "2023-08-01T13:50:14+09:00",
          "2023-08-01T13:50:38+09:00",
          "2023-08-01T13:52:03+09:00",
          "2023-08-01T13:52:22+09:00",
          "2023-08-01T13:52:34+09:00",
          "2023-08-01T13:52:49+09:00",
          "2023-08-01T13:53:06+09:00",
          "2023-08-01T13:53:24+09:00",
          "2023-08-01T13:53:41+09:00",
          "2023-08-01T13:53:58+09:00",
          "2023-08-01T13:56:33+09:00",
          "2023-08-01T13:58:18+09:00",
          "2023-08-01T14:00:56+09:00"
         ],
         "xaxis": "x2",
         "y": [
          7,
          7,
          7,
          7,
          7,
          7,
          7,
          7,
          7,
          7,
          7,
          7,
          7,
          7,
          7,
          7,
          24,
          24,
          24
         ],
         "yaxis": "y2"
        },
        {
         "mode": "lines",
         "name": "category.age.max",
         "type": "scatter",
         "x": [
          "2023-08-01T13:46:37+09:00",
          "2023-08-01T13:46:55+09:00",
          "2023-08-01T13:47:11+09:00",
          "2023-08-01T13:47:24+09:00",
          "2023-08-01T13:49:50+09:00",
          "2023-08-01T13:50:05+09:00",
          "2023-08-01T13:50:14+09:00",
          "2023-08-01T13:50:38+09:00",
          "2023-08-01T13:52:03+09:00",
          "2023-08-01T13:52:22+09:00",
          "2023-08-01T13:52:34+09:00",
          "2023-08-01T13:52:49+09:00",
          "2023-08-01T13:53:06+09:00",
          "2023-08-01T13:53:24+09:00",
          "2023-08-01T13:53:41+09:00",
          "2023-08-01T13:53:58+09:00",
          "2023-08-01T13:56:33+09:00",
          "2023-08-01T13:58:18+09:00",
          "2023-08-01T14:00:56+09:00"
         ],
         "xaxis": "x3",
         "y": [
          12,
          12,
          12,
          12,
          12,
          12,
          12,
          12,
          12,
          12,
          12,
          12,
          12,
          12,
          12,
          12,
          36,
          36,
          36
         ],
         "yaxis": "y3"
        },
        {
         "mode": "lines",
         "name": "farm.location.latitude",
         "type": "scatter",
         "x": [
          "2023-08-01T13:46:37+09:00",
          "2023-08-01T13:46:55+09:00",
          "2023-08-01T13:47:11+09:00",
          "2023-08-01T13:47:24+09:00",
          "2023-08-01T13:49:50+09:00",
          "2023-08-01T13:50:05+09:00",
          "2023-08-01T13:50:14+09:00",
          "2023-08-01T13:50:38+09:00",
          "2023-08-01T13:52:03+09:00",
          "2023-08-01T13:52:22+09:00",
          "2023-08-01T13:52:34+09:00",
          "2023-08-01T13:52:49+09:00",
          "2023-08-01T13:53:06+09:00",
          "2023-08-01T13:53:24+09:00",
          "2023-08-01T13:53:41+09:00",
          "2023-08-01T13:53:58+09:00",
          "2023-08-01T13:56:33+09:00",
          "2023-08-01T13:58:18+09:00",
          "2023-08-01T14:00:56+09:00"
         ],
         "xaxis": "x4",
         "y": [
          36.5786395,
          36.5786395,
          36.5786395,
          36.5786395,
          36.5786395,
          36.5786395,
          36.5786395,
          36.5786395,
          36.5786395,
          36.5786395,
          36.5786395,
          36.5786395,
          36.5786395,
          36.5786395,
          36.5786395,
          36.5786395,
          36.5786395,
          36.5786395,
          36.5786395
         ],
         "yaxis": "y4"
        },
        {
         "mode": "lines",
         "name": "farm.location.longitude",
         "type": "scatter",
         "x": [
          "2023-08-01T13:46:37+09:00",
          "2023-08-01T13:46:55+09:00",
          "2023-08-01T13:47:11+09:00",
          "2023-08-01T13:47:24+09:00",
          "2023-08-01T13:49:50+09:00",
          "2023-08-01T13:50:05+09:00",
          "2023-08-01T13:50:14+09:00",
          "2023-08-01T13:50:38+09:00",
          "2023-08-01T13:52:03+09:00",
          "2023-08-01T13:52:22+09:00",
          "2023-08-01T13:52:34+09:00",
          "2023-08-01T13:52:49+09:00",
          "2023-08-01T13:53:06+09:00",
          "2023-08-01T13:53:24+09:00",
          "2023-08-01T13:53:41+09:00",
          "2023-08-01T13:53:58+09:00",
          "2023-08-01T13:56:33+09:00",
          "2023-08-01T13:58:18+09:00",
          "2023-08-01T14:00:56+09:00"
         ],
         "xaxis": "x5",
         "y": [
          129.4140979,
          129.4140979,
          129.4140979,
          129.4140979,
          129.4140979,
          129.4140979,
          129.4140979,
          129.4140979,
          129.4140979,
          129.4140979,
          129.4140979,
          129.4140979,
          129.4140979,
          129.4140979,
          129.4140979,
          129.4140979,
          129.4140979,
          129.4140979,
          129.4140979
         ],
         "yaxis": "y5"
        },
        {
         "mode": "lines",
         "name": "tank.size.radius",
         "type": "scatter",
         "x": [
          "2023-08-01T13:46:37+09:00",
          "2023-08-01T13:46:55+09:00",
          "2023-08-01T13:47:11+09:00",
          "2023-08-01T13:47:24+09:00",
          "2023-08-01T13:49:50+09:00",
          "2023-08-01T13:50:05+09:00",
          "2023-08-01T13:50:14+09:00",
          "2023-08-01T13:50:38+09:00",
          "2023-08-01T13:52:03+09:00",
          "2023-08-01T13:52:22+09:00",
          "2023-08-01T13:52:34+09:00",
          "2023-08-01T13:52:49+09:00",
          "2023-08-01T13:53:06+09:00",
          "2023-08-01T13:53:24+09:00",
          "2023-08-01T13:53:41+09:00",
          "2023-08-01T13:53:58+09:00",
          "2023-08-01T13:56:33+09:00",
          "2023-08-01T13:58:18+09:00",
          "2023-08-01T14:00:56+09:00"
         ],
         "xaxis": "x6",
         "y": [
          520,
          520,
          520,
          520,
          520,
          520,
          520,
          520,
          520,
          520,
          520,
          520,
          520,
          520,
          520,
          520,
          520,
          520,
          520
         ],
         "yaxis": "y6"
        },
        {
         "mode": "lines",
         "name": "tank.size.height",
         "type": "scatter",
         "x": [
          "2023-08-01T13:46:37+09:00",
          "2023-08-01T13:46:55+09:00",
          "2023-08-01T13:47:11+09:00",
          "2023-08-01T13:47:24+09:00",
          "2023-08-01T13:49:50+09:00",
          "2023-08-01T13:50:05+09:00",
          "2023-08-01T13:50:14+09:00",
          "2023-08-01T13:50:38+09:00",
          "2023-08-01T13:52:03+09:00",
          "2023-08-01T13:52:22+09:00",
          "2023-08-01T13:52:34+09:00",
          "2023-08-01T13:52:49+09:00",
          "2023-08-01T13:53:06+09:00",
          "2023-08-01T13:53:24+09:00",
          "2023-08-01T13:53:41+09:00",
          "2023-08-01T13:53:58+09:00",
          "2023-08-01T13:56:33+09:00",
          "2023-08-01T13:58:18+09:00",
          "2023-08-01T14:00:56+09:00"
         ],
         "xaxis": "x7",
         "y": [
          120,
          120,
          120,
          120,
          120,
          120,
          120,
          120,
          120,
          120,
          120,
          120,
          120,
          120,
          120,
          120,
          120,
          120,
          120
         ],
         "yaxis": "y7"
        },
        {
         "mode": "lines",
         "name": "biomass.size.fork_length",
         "type": "scatter",
         "x": [
          "2023-08-01T13:46:37+09:00",
          "2023-08-01T13:46:55+09:00",
          "2023-08-01T13:47:11+09:00",
          "2023-08-01T13:47:24+09:00",
          "2023-08-01T13:49:50+09:00",
          "2023-08-01T13:50:05+09:00",
          "2023-08-01T13:50:14+09:00",
          "2023-08-01T13:50:38+09:00",
          "2023-08-01T13:52:03+09:00",
          "2023-08-01T13:52:22+09:00",
          "2023-08-01T13:52:34+09:00",
          "2023-08-01T13:52:49+09:00",
          "2023-08-01T13:53:06+09:00",
          "2023-08-01T13:53:24+09:00",
          "2023-08-01T13:53:41+09:00",
          "2023-08-01T13:53:58+09:00",
          "2023-08-01T13:56:33+09:00",
          "2023-08-01T13:58:18+09:00",
          "2023-08-01T14:00:56+09:00"
         ],
         "xaxis": "x8",
         "y": [
          159,
          170,
          165,
          170,
          170,
          170,
          174,
          190,
          166,
          165,
          171,
          191,
          174,
          176,
          150,
          165,
          389,
          425,
          369
         ],
         "yaxis": "y8"
        },
        {
         "mode": "lines",
         "name": "biomass.size.total_length",
         "type": "scatter",
         "x": [
          "2023-08-01T13:46:37+09:00",
          "2023-08-01T13:46:55+09:00",
          "2023-08-01T13:47:11+09:00",
          "2023-08-01T13:47:24+09:00",
          "2023-08-01T13:49:50+09:00",
          "2023-08-01T13:50:05+09:00",
          "2023-08-01T13:50:14+09:00",
          "2023-08-01T13:50:38+09:00",
          "2023-08-01T13:52:03+09:00",
          "2023-08-01T13:52:22+09:00",
          "2023-08-01T13:52:34+09:00",
          "2023-08-01T13:52:49+09:00",
          "2023-08-01T13:53:06+09:00",
          "2023-08-01T13:53:24+09:00",
          "2023-08-01T13:53:41+09:00",
          "2023-08-01T13:53:58+09:00",
          "2023-08-01T13:56:33+09:00",
          "2023-08-01T13:58:18+09:00",
          "2023-08-01T14:00:56+09:00"
         ],
         "xaxis": "x9",
         "y": [
          169,
          185,
          180,
          185,
          185,
          185,
          188,
          200,
          176,
          180,
          182,
          204,
          184,
          190,
          158,
          179,
          405,
          441,
          379
         ],
         "yaxis": "y9"
        },
        {
         "mode": "lines",
         "name": "biomass.size.body_depth",
         "type": "scatter",
         "x": [
          "2023-08-01T13:46:37+09:00",
          "2023-08-01T13:46:55+09:00",
          "2023-08-01T13:47:11+09:00",
          "2023-08-01T13:47:24+09:00",
          "2023-08-01T13:49:50+09:00",
          "2023-08-01T13:50:05+09:00",
          "2023-08-01T13:50:14+09:00",
          "2023-08-01T13:50:38+09:00",
          "2023-08-01T13:52:03+09:00",
          "2023-08-01T13:52:22+09:00",
          "2023-08-01T13:52:34+09:00",
          "2023-08-01T13:52:49+09:00",
          "2023-08-01T13:53:06+09:00",
          "2023-08-01T13:53:24+09:00",
          "2023-08-01T13:53:41+09:00",
          "2023-08-01T13:53:58+09:00",
          "2023-08-01T13:56:33+09:00",
          "2023-08-01T13:58:18+09:00",
          "2023-08-01T14:00:56+09:00"
         ],
         "xaxis": "x10",
         "y": [
          34,
          33,
          35,
          38,
          38,
          38,
          41,
          37,
          33,
          32,
          32,
          38,
          39,
          41,
          29,
          35,
          84,
          97,
          73
         ],
         "yaxis": "y10"
        },
        {
         "mode": "lines",
         "name": "biomass.weight.value",
         "type": "scatter",
         "x": [
          "2023-08-01T13:46:37+09:00",
          "2023-08-01T13:46:55+09:00",
          "2023-08-01T13:47:11+09:00",
          "2023-08-01T13:47:24+09:00",
          "2023-08-01T13:49:50+09:00",
          "2023-08-01T13:50:05+09:00",
          "2023-08-01T13:50:14+09:00",
          "2023-08-01T13:50:38+09:00",
          "2023-08-01T13:52:03+09:00",
          "2023-08-01T13:52:22+09:00",
          "2023-08-01T13:52:34+09:00",
          "2023-08-01T13:52:49+09:00",
          "2023-08-01T13:53:06+09:00",
          "2023-08-01T13:53:24+09:00",
          "2023-08-01T13:53:41+09:00",
          "2023-08-01T13:53:58+09:00",
          "2023-08-01T13:56:33+09:00",
          "2023-08-01T13:58:18+09:00",
          "2023-08-01T14:00:56+09:00"
         ],
         "xaxis": "x11",
         "y": [
          84,
          130,
          143,
          112,
          112,
          112,
          122,
          129,
          122,
          136,
          136,
          168,
          155,
          163,
          125,
          150,
          556,
          861,
          564
         ],
         "yaxis": "y11"
        }
       ],
       "layout": {
        "annotations": [
         {
          "font": {
           "size": 16
          },
          "showarrow": false,
          "text": "info.name",
          "x": 0.5,
          "xanchor": "center",
          "xref": "paper",
          "y": 0.9999999999999999,
          "yanchor": "bottom",
          "yref": "paper"
         },
         {
          "font": {
           "size": 16
          },
          "showarrow": false,
          "text": "category.age.min",
          "x": 0.5,
          "xanchor": "center",
          "xref": "paper",
          "y": 0.9049586776859503,
          "yanchor": "bottom",
          "yref": "paper"
         },
         {
          "font": {
           "size": 16
          },
          "showarrow": false,
          "text": "category.age.max",
          "x": 0.5,
          "xanchor": "center",
          "xref": "paper",
          "y": 0.8099173553719007,
          "yanchor": "bottom",
          "yref": "paper"
         },
         {
          "font": {
           "size": 16
          },
          "showarrow": false,
          "text": "farm.location.latitude",
          "x": 0.5,
          "xanchor": "center",
          "xref": "paper",
          "y": 0.7148760330578511,
          "yanchor": "bottom",
          "yref": "paper"
         },
         {
          "font": {
           "size": 16
          },
          "showarrow": false,
          "text": "farm.location.longitude",
          "x": 0.5,
          "xanchor": "center",
          "xref": "paper",
          "y": 0.6198347107438015,
          "yanchor": "bottom",
          "yref": "paper"
         },
         {
          "font": {
           "size": 16
          },
          "showarrow": false,
          "text": "tank.size.radius",
          "x": 0.5,
          "xanchor": "center",
          "xref": "paper",
          "y": 0.524793388429752,
          "yanchor": "bottom",
          "yref": "paper"
         },
         {
          "font": {
           "size": 16
          },
          "showarrow": false,
          "text": "tank.size.height",
          "x": 0.5,
          "xanchor": "center",
          "xref": "paper",
          "y": 0.42975206611570244,
          "yanchor": "bottom",
          "yref": "paper"
         },
         {
          "font": {
           "size": 16
          },
          "showarrow": false,
          "text": "biomass.size.fork_length",
          "x": 0.5,
          "xanchor": "center",
          "xref": "paper",
          "y": 0.33471074380165283,
          "yanchor": "bottom",
          "yref": "paper"
         },
         {
          "font": {
           "size": 16
          },
          "showarrow": false,
          "text": "biomass.size.total_length",
          "x": 0.5,
          "xanchor": "center",
          "xref": "paper",
          "y": 0.23966942148760328,
          "yanchor": "bottom",
          "yref": "paper"
         },
         {
          "font": {
           "size": 16
          },
          "showarrow": false,
          "text": "biomass.size.body_depth",
          "x": 0.5,
          "xanchor": "center",
          "xref": "paper",
          "y": 0.1446280991735537,
          "yanchor": "bottom",
          "yref": "paper"
         },
         {
          "font": {
           "size": 16
          },
          "showarrow": false,
          "text": "biomass.weight.value",
          "x": 0.5,
          "xanchor": "center",
          "xref": "paper",
          "y": 0.04958677685950413,
          "yanchor": "bottom",
          "yref": "paper"
         }
        ],
        "height": 4400,
        "template": {
         "data": {
          "bar": [
           {
            "error_x": {
             "color": "#2a3f5f"
            },
            "error_y": {
             "color": "#2a3f5f"
            },
            "marker": {
             "line": {
              "color": "#E5ECF6",
              "width": 0.5
             },
             "pattern": {
              "fillmode": "overlay",
              "size": 10,
              "solidity": 0.2
             }
            },
            "type": "bar"
           }
          ],
          "barpolar": [
           {
            "marker": {
             "line": {
              "color": "#E5ECF6",
              "width": 0.5
             },
             "pattern": {
              "fillmode": "overlay",
              "size": 10,
              "solidity": 0.2
             }
            },
            "type": "barpolar"
           }
          ],
          "carpet": [
           {
            "aaxis": {
             "endlinecolor": "#2a3f5f",
             "gridcolor": "white",
             "linecolor": "white",
             "minorgridcolor": "white",
             "startlinecolor": "#2a3f5f"
            },
            "baxis": {
             "endlinecolor": "#2a3f5f",
             "gridcolor": "white",
             "linecolor": "white",
             "minorgridcolor": "white",
             "startlinecolor": "#2a3f5f"
            },
            "type": "carpet"
           }
          ],
          "choropleth": [
           {
            "colorbar": {
             "outlinewidth": 0,
             "ticks": ""
            },
            "type": "choropleth"
           }
          ],
          "contour": [
           {
            "colorbar": {
             "outlinewidth": 0,
             "ticks": ""
            },
            "colorscale": [
             [
              0,
              "#0d0887"
             ],
             [
              0.1111111111111111,
              "#46039f"
             ],
             [
              0.2222222222222222,
              "#7201a8"
             ],
             [
              0.3333333333333333,
              "#9c179e"
             ],
             [
              0.4444444444444444,
              "#bd3786"
             ],
             [
              0.5555555555555556,
              "#d8576b"
             ],
             [
              0.6666666666666666,
              "#ed7953"
             ],
             [
              0.7777777777777778,
              "#fb9f3a"
             ],
             [
              0.8888888888888888,
              "#fdca26"
             ],
             [
              1,
              "#f0f921"
             ]
            ],
            "type": "contour"
           }
          ],
          "contourcarpet": [
           {
            "colorbar": {
             "outlinewidth": 0,
             "ticks": ""
            },
            "type": "contourcarpet"
           }
          ],
          "heatmap": [
           {
            "colorbar": {
             "outlinewidth": 0,
             "ticks": ""
            },
            "colorscale": [
             [
              0,
              "#0d0887"
             ],
             [
              0.1111111111111111,
              "#46039f"
             ],
             [
              0.2222222222222222,
              "#7201a8"
             ],
             [
              0.3333333333333333,
              "#9c179e"
             ],
             [
              0.4444444444444444,
              "#bd3786"
             ],
             [
              0.5555555555555556,
              "#d8576b"
             ],
             [
              0.6666666666666666,
              "#ed7953"
             ],
             [
              0.7777777777777778,
              "#fb9f3a"
             ],
             [
              0.8888888888888888,
              "#fdca26"
             ],
             [
              1,
              "#f0f921"
             ]
            ],
            "type": "heatmap"
           }
          ],
          "heatmapgl": [
           {
            "colorbar": {
             "outlinewidth": 0,
             "ticks": ""
            },
            "colorscale": [
             [
              0,
              "#0d0887"
             ],
             [
              0.1111111111111111,
              "#46039f"
             ],
             [
              0.2222222222222222,
              "#7201a8"
             ],
             [
              0.3333333333333333,
              "#9c179e"
             ],
             [
              0.4444444444444444,
              "#bd3786"
             ],
             [
              0.5555555555555556,
              "#d8576b"
             ],
             [
              0.6666666666666666,
              "#ed7953"
             ],
             [
              0.7777777777777778,
              "#fb9f3a"
             ],
             [
              0.8888888888888888,
              "#fdca26"
             ],
             [
              1,
              "#f0f921"
             ]
            ],
            "type": "heatmapgl"
           }
          ],
          "histogram": [
           {
            "marker": {
             "pattern": {
              "fillmode": "overlay",
              "size": 10,
              "solidity": 0.2
             }
            },
            "type": "histogram"
           }
          ],
          "histogram2d": [
           {
            "colorbar": {
             "outlinewidth": 0,
             "ticks": ""
            },
            "colorscale": [
             [
              0,
              "#0d0887"
             ],
             [
              0.1111111111111111,
              "#46039f"
             ],
             [
              0.2222222222222222,
              "#7201a8"
             ],
             [
              0.3333333333333333,
              "#9c179e"
             ],
             [
              0.4444444444444444,
              "#bd3786"
             ],
             [
              0.5555555555555556,
              "#d8576b"
             ],
             [
              0.6666666666666666,
              "#ed7953"
             ],
             [
              0.7777777777777778,
              "#fb9f3a"
             ],
             [
              0.8888888888888888,
              "#fdca26"
             ],
             [
              1,
              "#f0f921"
             ]
            ],
            "type": "histogram2d"
           }
          ],
          "histogram2dcontour": [
           {
            "colorbar": {
             "outlinewidth": 0,
             "ticks": ""
            },
            "colorscale": [
             [
              0,
              "#0d0887"
             ],
             [
              0.1111111111111111,
              "#46039f"
             ],
             [
              0.2222222222222222,
              "#7201a8"
             ],
             [
              0.3333333333333333,
              "#9c179e"
             ],
             [
              0.4444444444444444,
              "#bd3786"
             ],
             [
              0.5555555555555556,
              "#d8576b"
             ],
             [
              0.6666666666666666,
              "#ed7953"
             ],
             [
              0.7777777777777778,
              "#fb9f3a"
             ],
             [
              0.8888888888888888,
              "#fdca26"
             ],
             [
              1,
              "#f0f921"
             ]
            ],
            "type": "histogram2dcontour"
           }
          ],
          "mesh3d": [
           {
            "colorbar": {
             "outlinewidth": 0,
             "ticks": ""
            },
            "type": "mesh3d"
           }
          ],
          "parcoords": [
           {
            "line": {
             "colorbar": {
              "outlinewidth": 0,
              "ticks": ""
             }
            },
            "type": "parcoords"
           }
          ],
          "pie": [
           {
            "automargin": true,
            "type": "pie"
           }
          ],
          "scatter": [
           {
            "fillpattern": {
             "fillmode": "overlay",
             "size": 10,
             "solidity": 0.2
            },
            "type": "scatter"
           }
          ],
          "scatter3d": [
           {
            "line": {
             "colorbar": {
              "outlinewidth": 0,
              "ticks": ""
             }
            },
            "marker": {
             "colorbar": {
              "outlinewidth": 0,
              "ticks": ""
             }
            },
            "type": "scatter3d"
           }
          ],
          "scattercarpet": [
           {
            "marker": {
             "colorbar": {
              "outlinewidth": 0,
              "ticks": ""
             }
            },
            "type": "scattercarpet"
           }
          ],
          "scattergeo": [
           {
            "marker": {
             "colorbar": {
              "outlinewidth": 0,
              "ticks": ""
             }
            },
            "type": "scattergeo"
           }
          ],
          "scattergl": [
           {
            "marker": {
             "colorbar": {
              "outlinewidth": 0,
              "ticks": ""
             }
            },
            "type": "scattergl"
           }
          ],
          "scattermapbox": [
           {
            "marker": {
             "colorbar": {
              "outlinewidth": 0,
              "ticks": ""
             }
            },
            "type": "scattermapbox"
           }
          ],
          "scatterpolar": [
           {
            "marker": {
             "colorbar": {
              "outlinewidth": 0,
              "ticks": ""
             }
            },
            "type": "scatterpolar"
           }
          ],
          "scatterpolargl": [
           {
            "marker": {
             "colorbar": {
              "outlinewidth": 0,
              "ticks": ""
             }
            },
            "type": "scatterpolargl"
           }
          ],
          "scatterternary": [
           {
            "marker": {
             "colorbar": {
              "outlinewidth": 0,
              "ticks": ""
             }
            },
            "type": "scatterternary"
           }
          ],
          "surface": [
           {
            "colorbar": {
             "outlinewidth": 0,
             "ticks": ""
            },
            "colorscale": [
             [
              0,
              "#0d0887"
             ],
             [
              0.1111111111111111,
              "#46039f"
             ],
             [
              0.2222222222222222,
              "#7201a8"
             ],
             [
              0.3333333333333333,
              "#9c179e"
             ],
             [
              0.4444444444444444,
              "#bd3786"
             ],
             [
              0.5555555555555556,
              "#d8576b"
             ],
             [
              0.6666666666666666,
              "#ed7953"
             ],
             [
              0.7777777777777778,
              "#fb9f3a"
             ],
             [
              0.8888888888888888,
              "#fdca26"
             ],
             [
              1,
              "#f0f921"
             ]
            ],
            "type": "surface"
           }
          ],
          "table": [
           {
            "cells": {
             "fill": {
              "color": "#EBF0F8"
             },
             "line": {
              "color": "white"
             }
            },
            "header": {
             "fill": {
              "color": "#C8D4E3"
             },
             "line": {
              "color": "white"
             }
            },
            "type": "table"
           }
          ]
         },
         "layout": {
          "annotationdefaults": {
           "arrowcolor": "#2a3f5f",
           "arrowhead": 0,
           "arrowwidth": 1
          },
          "autotypenumbers": "strict",
          "coloraxis": {
           "colorbar": {
            "outlinewidth": 0,
            "ticks": ""
           }
          },
          "colorscale": {
           "diverging": [
            [
             0,
             "#8e0152"
            ],
            [
             0.1,
             "#c51b7d"
            ],
            [
             0.2,
             "#de77ae"
            ],
            [
             0.3,
             "#f1b6da"
            ],
            [
             0.4,
             "#fde0ef"
            ],
            [
             0.5,
             "#f7f7f7"
            ],
            [
             0.6,
             "#e6f5d0"
            ],
            [
             0.7,
             "#b8e186"
            ],
            [
             0.8,
             "#7fbc41"
            ],
            [
             0.9,
             "#4d9221"
            ],
            [
             1,
             "#276419"
            ]
           ],
           "sequential": [
            [
             0,
             "#0d0887"
            ],
            [
             0.1111111111111111,
             "#46039f"
            ],
            [
             0.2222222222222222,
             "#7201a8"
            ],
            [
             0.3333333333333333,
             "#9c179e"
            ],
            [
             0.4444444444444444,
             "#bd3786"
            ],
            [
             0.5555555555555556,
             "#d8576b"
            ],
            [
             0.6666666666666666,
             "#ed7953"
            ],
            [
             0.7777777777777778,
             "#fb9f3a"
            ],
            [
             0.8888888888888888,
             "#fdca26"
            ],
            [
             1,
             "#f0f921"
            ]
           ],
           "sequentialminus": [
            [
             0,
             "#0d0887"
            ],
            [
             0.1111111111111111,
             "#46039f"
            ],
            [
             0.2222222222222222,
             "#7201a8"
            ],
            [
             0.3333333333333333,
             "#9c179e"
            ],
            [
             0.4444444444444444,
             "#bd3786"
            ],
            [
             0.5555555555555556,
             "#d8576b"
            ],
            [
             0.6666666666666666,
             "#ed7953"
            ],
            [
             0.7777777777777778,
             "#fb9f3a"
            ],
            [
             0.8888888888888888,
             "#fdca26"
            ],
            [
             1,
             "#f0f921"
            ]
           ]
          },
          "colorway": [
           "#636efa",
           "#EF553B",
           "#00cc96",
           "#ab63fa",
           "#FFA15A",
           "#19d3f3",
           "#FF6692",
           "#B6E880",
           "#FF97FF",
           "#FECB52"
          ],
          "font": {
           "color": "#2a3f5f"
          },
          "geo": {
           "bgcolor": "white",
           "lakecolor": "white",
           "landcolor": "#E5ECF6",
           "showlakes": true,
           "showland": true,
           "subunitcolor": "white"
          },
          "hoverlabel": {
           "align": "left"
          },
          "hovermode": "closest",
          "mapbox": {
           "style": "light"
          },
          "paper_bgcolor": "white",
          "plot_bgcolor": "#E5ECF6",
          "polar": {
           "angularaxis": {
            "gridcolor": "white",
            "linecolor": "white",
            "ticks": ""
           },
           "bgcolor": "#E5ECF6",
           "radialaxis": {
            "gridcolor": "white",
            "linecolor": "white",
            "ticks": ""
           }
          },
          "scene": {
           "xaxis": {
            "backgroundcolor": "#E5ECF6",
            "gridcolor": "white",
            "gridwidth": 2,
            "linecolor": "white",
            "showbackground": true,
            "ticks": "",
            "zerolinecolor": "white"
           },
           "yaxis": {
            "backgroundcolor": "#E5ECF6",
            "gridcolor": "white",
            "gridwidth": 2,
            "linecolor": "white",
            "showbackground": true,
            "ticks": "",
            "zerolinecolor": "white"
           },
           "zaxis": {
            "backgroundcolor": "#E5ECF6",
            "gridcolor": "white",
            "gridwidth": 2,
            "linecolor": "white",
            "showbackground": true,
            "ticks": "",
            "zerolinecolor": "white"
           }
          },
          "shapedefaults": {
           "line": {
            "color": "#2a3f5f"
           }
          },
          "ternary": {
           "aaxis": {
            "gridcolor": "white",
            "linecolor": "white",
            "ticks": ""
           },
           "baxis": {
            "gridcolor": "white",
            "linecolor": "white",
            "ticks": ""
           },
           "bgcolor": "#E5ECF6",
           "caxis": {
            "gridcolor": "white",
            "linecolor": "white",
            "ticks": ""
           }
          },
          "title": {
           "x": 0.05
          },
          "xaxis": {
           "automargin": true,
           "gridcolor": "white",
           "linecolor": "white",
           "ticks": "",
           "title": {
            "standoff": 15
           },
           "zerolinecolor": "white",
           "zerolinewidth": 2
          },
          "yaxis": {
           "automargin": true,
           "gridcolor": "white",
           "linecolor": "white",
           "ticks": "",
           "title": {
            "standoff": 15
           },
           "zerolinecolor": "white",
           "zerolinewidth": 2
          }
         }
        },
        "title": {
         "text": "Multiple Variables over Time"
        },
        "width": 1000,
        "xaxis": {
         "anchor": "y",
         "domain": [
          0,
          1
         ],
         "matches": "x11",
         "showticklabels": false,
         "title": {
          "text": "Measured At"
         }
        },
        "xaxis10": {
         "anchor": "y10",
         "domain": [
          0,
          1
         ],
         "matches": "x11",
         "showticklabels": false,
         "title": {
          "text": "Measured At"
         }
        },
        "xaxis11": {
         "anchor": "y11",
         "domain": [
          0,
          1
         ],
         "title": {
          "text": "Measured At"
         }
        },
        "xaxis2": {
         "anchor": "y2",
         "domain": [
          0,
          1
         ],
         "matches": "x11",
         "showticklabels": false,
         "title": {
          "text": "Measured At"
         }
        },
        "xaxis3": {
         "anchor": "y3",
         "domain": [
          0,
          1
         ],
         "matches": "x11",
         "showticklabels": false,
         "title": {
          "text": "Measured At"
         }
        },
        "xaxis4": {
         "anchor": "y4",
         "domain": [
          0,
          1
         ],
         "matches": "x11",
         "showticklabels": false,
         "title": {
          "text": "Measured At"
         }
        },
        "xaxis5": {
         "anchor": "y5",
         "domain": [
          0,
          1
         ],
         "matches": "x11",
         "showticklabels": false,
         "title": {
          "text": "Measured At"
         }
        },
        "xaxis6": {
         "anchor": "y6",
         "domain": [
          0,
          1
         ],
         "matches": "x11",
         "showticklabels": false,
         "title": {
          "text": "Measured At"
         }
        },
        "xaxis7": {
         "anchor": "y7",
         "domain": [
          0,
          1
         ],
         "matches": "x11",
         "showticklabels": false,
         "title": {
          "text": "Measured At"
         }
        },
        "xaxis8": {
         "anchor": "y8",
         "domain": [
          0,
          1
         ],
         "matches": "x11",
         "showticklabels": false,
         "title": {
          "text": "Measured At"
         }
        },
        "xaxis9": {
         "anchor": "y9",
         "domain": [
          0,
          1
         ],
         "matches": "x11",
         "showticklabels": false,
         "title": {
          "text": "Measured At"
         }
        },
        "yaxis": {
         "anchor": "x",
         "domain": [
          0.9504132231404958,
          0.9999999999999999
         ],
         "title": {
          "text": "Value"
         }
        },
        "yaxis10": {
         "anchor": "x10",
         "domain": [
          0.09504132231404958,
          0.1446280991735537
         ],
         "title": {
          "text": "Value"
         }
        },
        "yaxis11": {
         "anchor": "x11",
         "domain": [
          0,
          0.04958677685950413
         ],
         "title": {
          "text": "Value"
         }
        },
        "yaxis2": {
         "anchor": "x2",
         "domain": [
          0.8553719008264462,
          0.9049586776859503
         ],
         "title": {
          "text": "Value"
         }
        },
        "yaxis3": {
         "anchor": "x3",
         "domain": [
          0.7603305785123966,
          0.8099173553719007
         ],
         "title": {
          "text": "Value"
         }
        },
        "yaxis4": {
         "anchor": "x4",
         "domain": [
          0.665289256198347,
          0.7148760330578511
         ],
         "title": {
          "text": "Value"
         }
        },
        "yaxis5": {
         "anchor": "x5",
         "domain": [
          0.5702479338842974,
          0.6198347107438015
         ],
         "title": {
          "text": "Value"
         }
        },
        "yaxis6": {
         "anchor": "x6",
         "domain": [
          0.4752066115702479,
          0.524793388429752
         ],
         "title": {
          "text": "Value"
         }
        },
        "yaxis7": {
         "anchor": "x7",
         "domain": [
          0.3801652892561983,
          0.42975206611570244
         ],
         "title": {
          "text": "Value"
         }
        },
        "yaxis8": {
         "anchor": "x8",
         "domain": [
          0.2851239669421487,
          0.33471074380165283
         ],
         "title": {
          "text": "Value"
         }
        },
        "yaxis9": {
         "anchor": "x9",
         "domain": [
          0.19008264462809915,
          0.23966942148760328
         ],
         "title": {
          "text": "Value"
         }
        }
       }
      },
      "text/html": [
       "<div>                            <div id=\"83ef5167-2e04-40a2-ae00-dbd7f0fdfa1d\" class=\"plotly-graph-div\" style=\"height:4400px; width:1000px;\"></div>            <script type=\"text/javascript\">                require([\"plotly\"], function(Plotly) {                    window.PLOTLYENV=window.PLOTLYENV || {};                                    if (document.getElementById(\"83ef5167-2e04-40a2-ae00-dbd7f0fdfa1d\")) {                    Plotly.newPlot(                        \"83ef5167-2e04-40a2-ae00-dbd7f0fdfa1d\",                        [{\"mode\":\"lines\",\"name\":\"info.name\",\"x\":[\"2023-08-01T13:46:37+09:00\",\"2023-08-01T13:46:55+09:00\",\"2023-08-01T13:47:11+09:00\",\"2023-08-01T13:47:24+09:00\",\"2023-08-01T13:49:50+09:00\",\"2023-08-01T13:50:05+09:00\",\"2023-08-01T13:50:14+09:00\",\"2023-08-01T13:50:38+09:00\",\"2023-08-01T13:52:03+09:00\",\"2023-08-01T13:52:22+09:00\",\"2023-08-01T13:52:34+09:00\",\"2023-08-01T13:52:49+09:00\",\"2023-08-01T13:53:06+09:00\",\"2023-08-01T13:53:24+09:00\",\"2023-08-01T13:53:41+09:00\",\"2023-08-01T13:53:58+09:00\",\"2023-08-01T13:56:33+09:00\",\"2023-08-01T13:58:18+09:00\",\"2023-08-01T14:00:56+09:00\"],\"y\":[\"북태평양 연어\",\"북태평양 연어\",\"북태평양 연어\",\"북태평양 연어\",\"북태평양 연어\",\"북태평양 연어\",\"북태평양 연어\",\"북태평양 연어\",\"북태평양 연어\",\"북태평양 연어\",\"북태평양 연어\",\"북태평양 연어\",\"북태평양 연어\",\"북태평양 연어\",\"북태평양 연어\",\"북태평양 연어\",\"북태평양 연어\",\"북태평양 연어\",\"북태평양 연어\"],\"type\":\"scatter\",\"xaxis\":\"x\",\"yaxis\":\"y\"},{\"mode\":\"lines\",\"name\":\"category.age.min\",\"x\":[\"2023-08-01T13:46:37+09:00\",\"2023-08-01T13:46:55+09:00\",\"2023-08-01T13:47:11+09:00\",\"2023-08-01T13:47:24+09:00\",\"2023-08-01T13:49:50+09:00\",\"2023-08-01T13:50:05+09:00\",\"2023-08-01T13:50:14+09:00\",\"2023-08-01T13:50:38+09:00\",\"2023-08-01T13:52:03+09:00\",\"2023-08-01T13:52:22+09:00\",\"2023-08-01T13:52:34+09:00\",\"2023-08-01T13:52:49+09:00\",\"2023-08-01T13:53:06+09:00\",\"2023-08-01T13:53:24+09:00\",\"2023-08-01T13:53:41+09:00\",\"2023-08-01T13:53:58+09:00\",\"2023-08-01T13:56:33+09:00\",\"2023-08-01T13:58:18+09:00\",\"2023-08-01T14:00:56+09:00\"],\"y\":[7,7,7,7,7,7,7,7,7,7,7,7,7,7,7,7,24,24,24],\"type\":\"scatter\",\"xaxis\":\"x2\",\"yaxis\":\"y2\"},{\"mode\":\"lines\",\"name\":\"category.age.max\",\"x\":[\"2023-08-01T13:46:37+09:00\",\"2023-08-01T13:46:55+09:00\",\"2023-08-01T13:47:11+09:00\",\"2023-08-01T13:47:24+09:00\",\"2023-08-01T13:49:50+09:00\",\"2023-08-01T13:50:05+09:00\",\"2023-08-01T13:50:14+09:00\",\"2023-08-01T13:50:38+09:00\",\"2023-08-01T13:52:03+09:00\",\"2023-08-01T13:52:22+09:00\",\"2023-08-01T13:52:34+09:00\",\"2023-08-01T13:52:49+09:00\",\"2023-08-01T13:53:06+09:00\",\"2023-08-01T13:53:24+09:00\",\"2023-08-01T13:53:41+09:00\",\"2023-08-01T13:53:58+09:00\",\"2023-08-01T13:56:33+09:00\",\"2023-08-01T13:58:18+09:00\",\"2023-08-01T14:00:56+09:00\"],\"y\":[12,12,12,12,12,12,12,12,12,12,12,12,12,12,12,12,36,36,36],\"type\":\"scatter\",\"xaxis\":\"x3\",\"yaxis\":\"y3\"},{\"mode\":\"lines\",\"name\":\"farm.location.latitude\",\"x\":[\"2023-08-01T13:46:37+09:00\",\"2023-08-01T13:46:55+09:00\",\"2023-08-01T13:47:11+09:00\",\"2023-08-01T13:47:24+09:00\",\"2023-08-01T13:49:50+09:00\",\"2023-08-01T13:50:05+09:00\",\"2023-08-01T13:50:14+09:00\",\"2023-08-01T13:50:38+09:00\",\"2023-08-01T13:52:03+09:00\",\"2023-08-01T13:52:22+09:00\",\"2023-08-01T13:52:34+09:00\",\"2023-08-01T13:52:49+09:00\",\"2023-08-01T13:53:06+09:00\",\"2023-08-01T13:53:24+09:00\",\"2023-08-01T13:53:41+09:00\",\"2023-08-01T13:53:58+09:00\",\"2023-08-01T13:56:33+09:00\",\"2023-08-01T13:58:18+09:00\",\"2023-08-01T14:00:56+09:00\"],\"y\":[36.5786395,36.5786395,36.5786395,36.5786395,36.5786395,36.5786395,36.5786395,36.5786395,36.5786395,36.5786395,36.5786395,36.5786395,36.5786395,36.5786395,36.5786395,36.5786395,36.5786395,36.5786395,36.5786395],\"type\":\"scatter\",\"xaxis\":\"x4\",\"yaxis\":\"y4\"},{\"mode\":\"lines\",\"name\":\"farm.location.longitude\",\"x\":[\"2023-08-01T13:46:37+09:00\",\"2023-08-01T13:46:55+09:00\",\"2023-08-01T13:47:11+09:00\",\"2023-08-01T13:47:24+09:00\",\"2023-08-01T13:49:50+09:00\",\"2023-08-01T13:50:05+09:00\",\"2023-08-01T13:50:14+09:00\",\"2023-08-01T13:50:38+09:00\",\"2023-08-01T13:52:03+09:00\",\"2023-08-01T13:52:22+09:00\",\"2023-08-01T13:52:34+09:00\",\"2023-08-01T13:52:49+09:00\",\"2023-08-01T13:53:06+09:00\",\"2023-08-01T13:53:24+09:00\",\"2023-08-01T13:53:41+09:00\",\"2023-08-01T13:53:58+09:00\",\"2023-08-01T13:56:33+09:00\",\"2023-08-01T13:58:18+09:00\",\"2023-08-01T14:00:56+09:00\"],\"y\":[129.4140979,129.4140979,129.4140979,129.4140979,129.4140979,129.4140979,129.4140979,129.4140979,129.4140979,129.4140979,129.4140979,129.4140979,129.4140979,129.4140979,129.4140979,129.4140979,129.4140979,129.4140979,129.4140979],\"type\":\"scatter\",\"xaxis\":\"x5\",\"yaxis\":\"y5\"},{\"mode\":\"lines\",\"name\":\"tank.size.radius\",\"x\":[\"2023-08-01T13:46:37+09:00\",\"2023-08-01T13:46:55+09:00\",\"2023-08-01T13:47:11+09:00\",\"2023-08-01T13:47:24+09:00\",\"2023-08-01T13:49:50+09:00\",\"2023-08-01T13:50:05+09:00\",\"2023-08-01T13:50:14+09:00\",\"2023-08-01T13:50:38+09:00\",\"2023-08-01T13:52:03+09:00\",\"2023-08-01T13:52:22+09:00\",\"2023-08-01T13:52:34+09:00\",\"2023-08-01T13:52:49+09:00\",\"2023-08-01T13:53:06+09:00\",\"2023-08-01T13:53:24+09:00\",\"2023-08-01T13:53:41+09:00\",\"2023-08-01T13:53:58+09:00\",\"2023-08-01T13:56:33+09:00\",\"2023-08-01T13:58:18+09:00\",\"2023-08-01T14:00:56+09:00\"],\"y\":[520,520,520,520,520,520,520,520,520,520,520,520,520,520,520,520,520,520,520],\"type\":\"scatter\",\"xaxis\":\"x6\",\"yaxis\":\"y6\"},{\"mode\":\"lines\",\"name\":\"tank.size.height\",\"x\":[\"2023-08-01T13:46:37+09:00\",\"2023-08-01T13:46:55+09:00\",\"2023-08-01T13:47:11+09:00\",\"2023-08-01T13:47:24+09:00\",\"2023-08-01T13:49:50+09:00\",\"2023-08-01T13:50:05+09:00\",\"2023-08-01T13:50:14+09:00\",\"2023-08-01T13:50:38+09:00\",\"2023-08-01T13:52:03+09:00\",\"2023-08-01T13:52:22+09:00\",\"2023-08-01T13:52:34+09:00\",\"2023-08-01T13:52:49+09:00\",\"2023-08-01T13:53:06+09:00\",\"2023-08-01T13:53:24+09:00\",\"2023-08-01T13:53:41+09:00\",\"2023-08-01T13:53:58+09:00\",\"2023-08-01T13:56:33+09:00\",\"2023-08-01T13:58:18+09:00\",\"2023-08-01T14:00:56+09:00\"],\"y\":[120,120,120,120,120,120,120,120,120,120,120,120,120,120,120,120,120,120,120],\"type\":\"scatter\",\"xaxis\":\"x7\",\"yaxis\":\"y7\"},{\"mode\":\"lines\",\"name\":\"biomass.size.fork_length\",\"x\":[\"2023-08-01T13:46:37+09:00\",\"2023-08-01T13:46:55+09:00\",\"2023-08-01T13:47:11+09:00\",\"2023-08-01T13:47:24+09:00\",\"2023-08-01T13:49:50+09:00\",\"2023-08-01T13:50:05+09:00\",\"2023-08-01T13:50:14+09:00\",\"2023-08-01T13:50:38+09:00\",\"2023-08-01T13:52:03+09:00\",\"2023-08-01T13:52:22+09:00\",\"2023-08-01T13:52:34+09:00\",\"2023-08-01T13:52:49+09:00\",\"2023-08-01T13:53:06+09:00\",\"2023-08-01T13:53:24+09:00\",\"2023-08-01T13:53:41+09:00\",\"2023-08-01T13:53:58+09:00\",\"2023-08-01T13:56:33+09:00\",\"2023-08-01T13:58:18+09:00\",\"2023-08-01T14:00:56+09:00\"],\"y\":[159,170,165,170,170,170,174,190,166,165,171,191,174,176,150,165,389,425,369],\"type\":\"scatter\",\"xaxis\":\"x8\",\"yaxis\":\"y8\"},{\"mode\":\"lines\",\"name\":\"biomass.size.total_length\",\"x\":[\"2023-08-01T13:46:37+09:00\",\"2023-08-01T13:46:55+09:00\",\"2023-08-01T13:47:11+09:00\",\"2023-08-01T13:47:24+09:00\",\"2023-08-01T13:49:50+09:00\",\"2023-08-01T13:50:05+09:00\",\"2023-08-01T13:50:14+09:00\",\"2023-08-01T13:50:38+09:00\",\"2023-08-01T13:52:03+09:00\",\"2023-08-01T13:52:22+09:00\",\"2023-08-01T13:52:34+09:00\",\"2023-08-01T13:52:49+09:00\",\"2023-08-01T13:53:06+09:00\",\"2023-08-01T13:53:24+09:00\",\"2023-08-01T13:53:41+09:00\",\"2023-08-01T13:53:58+09:00\",\"2023-08-01T13:56:33+09:00\",\"2023-08-01T13:58:18+09:00\",\"2023-08-01T14:00:56+09:00\"],\"y\":[169,185,180,185,185,185,188,200,176,180,182,204,184,190,158,179,405,441,379],\"type\":\"scatter\",\"xaxis\":\"x9\",\"yaxis\":\"y9\"},{\"mode\":\"lines\",\"name\":\"biomass.size.body_depth\",\"x\":[\"2023-08-01T13:46:37+09:00\",\"2023-08-01T13:46:55+09:00\",\"2023-08-01T13:47:11+09:00\",\"2023-08-01T13:47:24+09:00\",\"2023-08-01T13:49:50+09:00\",\"2023-08-01T13:50:05+09:00\",\"2023-08-01T13:50:14+09:00\",\"2023-08-01T13:50:38+09:00\",\"2023-08-01T13:52:03+09:00\",\"2023-08-01T13:52:22+09:00\",\"2023-08-01T13:52:34+09:00\",\"2023-08-01T13:52:49+09:00\",\"2023-08-01T13:53:06+09:00\",\"2023-08-01T13:53:24+09:00\",\"2023-08-01T13:53:41+09:00\",\"2023-08-01T13:53:58+09:00\",\"2023-08-01T13:56:33+09:00\",\"2023-08-01T13:58:18+09:00\",\"2023-08-01T14:00:56+09:00\"],\"y\":[34,33,35,38,38,38,41,37,33,32,32,38,39,41,29,35,84,97,73],\"type\":\"scatter\",\"xaxis\":\"x10\",\"yaxis\":\"y10\"},{\"mode\":\"lines\",\"name\":\"biomass.weight.value\",\"x\":[\"2023-08-01T13:46:37+09:00\",\"2023-08-01T13:46:55+09:00\",\"2023-08-01T13:47:11+09:00\",\"2023-08-01T13:47:24+09:00\",\"2023-08-01T13:49:50+09:00\",\"2023-08-01T13:50:05+09:00\",\"2023-08-01T13:50:14+09:00\",\"2023-08-01T13:50:38+09:00\",\"2023-08-01T13:52:03+09:00\",\"2023-08-01T13:52:22+09:00\",\"2023-08-01T13:52:34+09:00\",\"2023-08-01T13:52:49+09:00\",\"2023-08-01T13:53:06+09:00\",\"2023-08-01T13:53:24+09:00\",\"2023-08-01T13:53:41+09:00\",\"2023-08-01T13:53:58+09:00\",\"2023-08-01T13:56:33+09:00\",\"2023-08-01T13:58:18+09:00\",\"2023-08-01T14:00:56+09:00\"],\"y\":[84,130,143,112,112,112,122,129,122,136,136,168,155,163,125,150,556,861,564],\"type\":\"scatter\",\"xaxis\":\"x11\",\"yaxis\":\"y11\"}],                        {\"template\":{\"data\":{\"histogram2dcontour\":[{\"type\":\"histogram2dcontour\",\"colorbar\":{\"outlinewidth\":0,\"ticks\":\"\"},\"colorscale\":[[0.0,\"#0d0887\"],[0.1111111111111111,\"#46039f\"],[0.2222222222222222,\"#7201a8\"],[0.3333333333333333,\"#9c179e\"],[0.4444444444444444,\"#bd3786\"],[0.5555555555555556,\"#d8576b\"],[0.6666666666666666,\"#ed7953\"],[0.7777777777777778,\"#fb9f3a\"],[0.8888888888888888,\"#fdca26\"],[1.0,\"#f0f921\"]]}],\"choropleth\":[{\"type\":\"choropleth\",\"colorbar\":{\"outlinewidth\":0,\"ticks\":\"\"}}],\"histogram2d\":[{\"type\":\"histogram2d\",\"colorbar\":{\"outlinewidth\":0,\"ticks\":\"\"},\"colorscale\":[[0.0,\"#0d0887\"],[0.1111111111111111,\"#46039f\"],[0.2222222222222222,\"#7201a8\"],[0.3333333333333333,\"#9c179e\"],[0.4444444444444444,\"#bd3786\"],[0.5555555555555556,\"#d8576b\"],[0.6666666666666666,\"#ed7953\"],[0.7777777777777778,\"#fb9f3a\"],[0.8888888888888888,\"#fdca26\"],[1.0,\"#f0f921\"]]}],\"heatmap\":[{\"type\":\"heatmap\",\"colorbar\":{\"outlinewidth\":0,\"ticks\":\"\"},\"colorscale\":[[0.0,\"#0d0887\"],[0.1111111111111111,\"#46039f\"],[0.2222222222222222,\"#7201a8\"],[0.3333333333333333,\"#9c179e\"],[0.4444444444444444,\"#bd3786\"],[0.5555555555555556,\"#d8576b\"],[0.6666666666666666,\"#ed7953\"],[0.7777777777777778,\"#fb9f3a\"],[0.8888888888888888,\"#fdca26\"],[1.0,\"#f0f921\"]]}],\"heatmapgl\":[{\"type\":\"heatmapgl\",\"colorbar\":{\"outlinewidth\":0,\"ticks\":\"\"},\"colorscale\":[[0.0,\"#0d0887\"],[0.1111111111111111,\"#46039f\"],[0.2222222222222222,\"#7201a8\"],[0.3333333333333333,\"#9c179e\"],[0.4444444444444444,\"#bd3786\"],[0.5555555555555556,\"#d8576b\"],[0.6666666666666666,\"#ed7953\"],[0.7777777777777778,\"#fb9f3a\"],[0.8888888888888888,\"#fdca26\"],[1.0,\"#f0f921\"]]}],\"contourcarpet\":[{\"type\":\"contourcarpet\",\"colorbar\":{\"outlinewidth\":0,\"ticks\":\"\"}}],\"contour\":[{\"type\":\"contour\",\"colorbar\":{\"outlinewidth\":0,\"ticks\":\"\"},\"colorscale\":[[0.0,\"#0d0887\"],[0.1111111111111111,\"#46039f\"],[0.2222222222222222,\"#7201a8\"],[0.3333333333333333,\"#9c179e\"],[0.4444444444444444,\"#bd3786\"],[0.5555555555555556,\"#d8576b\"],[0.6666666666666666,\"#ed7953\"],[0.7777777777777778,\"#fb9f3a\"],[0.8888888888888888,\"#fdca26\"],[1.0,\"#f0f921\"]]}],\"surface\":[{\"type\":\"surface\",\"colorbar\":{\"outlinewidth\":0,\"ticks\":\"\"},\"colorscale\":[[0.0,\"#0d0887\"],[0.1111111111111111,\"#46039f\"],[0.2222222222222222,\"#7201a8\"],[0.3333333333333333,\"#9c179e\"],[0.4444444444444444,\"#bd3786\"],[0.5555555555555556,\"#d8576b\"],[0.6666666666666666,\"#ed7953\"],[0.7777777777777778,\"#fb9f3a\"],[0.8888888888888888,\"#fdca26\"],[1.0,\"#f0f921\"]]}],\"mesh3d\":[{\"type\":\"mesh3d\",\"colorbar\":{\"outlinewidth\":0,\"ticks\":\"\"}}],\"scatter\":[{\"fillpattern\":{\"fillmode\":\"overlay\",\"size\":10,\"solidity\":0.2},\"type\":\"scatter\"}],\"parcoords\":[{\"type\":\"parcoords\",\"line\":{\"colorbar\":{\"outlinewidth\":0,\"ticks\":\"\"}}}],\"scatterpolargl\":[{\"type\":\"scatterpolargl\",\"marker\":{\"colorbar\":{\"outlinewidth\":0,\"ticks\":\"\"}}}],\"bar\":[{\"error_x\":{\"color\":\"#2a3f5f\"},\"error_y\":{\"color\":\"#2a3f5f\"},\"marker\":{\"line\":{\"color\":\"#E5ECF6\",\"width\":0.5},\"pattern\":{\"fillmode\":\"overlay\",\"size\":10,\"solidity\":0.2}},\"type\":\"bar\"}],\"scattergeo\":[{\"type\":\"scattergeo\",\"marker\":{\"colorbar\":{\"outlinewidth\":0,\"ticks\":\"\"}}}],\"scatterpolar\":[{\"type\":\"scatterpolar\",\"marker\":{\"colorbar\":{\"outlinewidth\":0,\"ticks\":\"\"}}}],\"histogram\":[{\"marker\":{\"pattern\":{\"fillmode\":\"overlay\",\"size\":10,\"solidity\":0.2}},\"type\":\"histogram\"}],\"scattergl\":[{\"type\":\"scattergl\",\"marker\":{\"colorbar\":{\"outlinewidth\":0,\"ticks\":\"\"}}}],\"scatter3d\":[{\"type\":\"scatter3d\",\"line\":{\"colorbar\":{\"outlinewidth\":0,\"ticks\":\"\"}},\"marker\":{\"colorbar\":{\"outlinewidth\":0,\"ticks\":\"\"}}}],\"scattermapbox\":[{\"type\":\"scattermapbox\",\"marker\":{\"colorbar\":{\"outlinewidth\":0,\"ticks\":\"\"}}}],\"scatterternary\":[{\"type\":\"scatterternary\",\"marker\":{\"colorbar\":{\"outlinewidth\":0,\"ticks\":\"\"}}}],\"scattercarpet\":[{\"type\":\"scattercarpet\",\"marker\":{\"colorbar\":{\"outlinewidth\":0,\"ticks\":\"\"}}}],\"carpet\":[{\"aaxis\":{\"endlinecolor\":\"#2a3f5f\",\"gridcolor\":\"white\",\"linecolor\":\"white\",\"minorgridcolor\":\"white\",\"startlinecolor\":\"#2a3f5f\"},\"baxis\":{\"endlinecolor\":\"#2a3f5f\",\"gridcolor\":\"white\",\"linecolor\":\"white\",\"minorgridcolor\":\"white\",\"startlinecolor\":\"#2a3f5f\"},\"type\":\"carpet\"}],\"table\":[{\"cells\":{\"fill\":{\"color\":\"#EBF0F8\"},\"line\":{\"color\":\"white\"}},\"header\":{\"fill\":{\"color\":\"#C8D4E3\"},\"line\":{\"color\":\"white\"}},\"type\":\"table\"}],\"barpolar\":[{\"marker\":{\"line\":{\"color\":\"#E5ECF6\",\"width\":0.5},\"pattern\":{\"fillmode\":\"overlay\",\"size\":10,\"solidity\":0.2}},\"type\":\"barpolar\"}],\"pie\":[{\"automargin\":true,\"type\":\"pie\"}]},\"layout\":{\"autotypenumbers\":\"strict\",\"colorway\":[\"#636efa\",\"#EF553B\",\"#00cc96\",\"#ab63fa\",\"#FFA15A\",\"#19d3f3\",\"#FF6692\",\"#B6E880\",\"#FF97FF\",\"#FECB52\"],\"font\":{\"color\":\"#2a3f5f\"},\"hovermode\":\"closest\",\"hoverlabel\":{\"align\":\"left\"},\"paper_bgcolor\":\"white\",\"plot_bgcolor\":\"#E5ECF6\",\"polar\":{\"bgcolor\":\"#E5ECF6\",\"angularaxis\":{\"gridcolor\":\"white\",\"linecolor\":\"white\",\"ticks\":\"\"},\"radialaxis\":{\"gridcolor\":\"white\",\"linecolor\":\"white\",\"ticks\":\"\"}},\"ternary\":{\"bgcolor\":\"#E5ECF6\",\"aaxis\":{\"gridcolor\":\"white\",\"linecolor\":\"white\",\"ticks\":\"\"},\"baxis\":{\"gridcolor\":\"white\",\"linecolor\":\"white\",\"ticks\":\"\"},\"caxis\":{\"gridcolor\":\"white\",\"linecolor\":\"white\",\"ticks\":\"\"}},\"coloraxis\":{\"colorbar\":{\"outlinewidth\":0,\"ticks\":\"\"}},\"colorscale\":{\"sequential\":[[0.0,\"#0d0887\"],[0.1111111111111111,\"#46039f\"],[0.2222222222222222,\"#7201a8\"],[0.3333333333333333,\"#9c179e\"],[0.4444444444444444,\"#bd3786\"],[0.5555555555555556,\"#d8576b\"],[0.6666666666666666,\"#ed7953\"],[0.7777777777777778,\"#fb9f3a\"],[0.8888888888888888,\"#fdca26\"],[1.0,\"#f0f921\"]],\"sequentialminus\":[[0.0,\"#0d0887\"],[0.1111111111111111,\"#46039f\"],[0.2222222222222222,\"#7201a8\"],[0.3333333333333333,\"#9c179e\"],[0.4444444444444444,\"#bd3786\"],[0.5555555555555556,\"#d8576b\"],[0.6666666666666666,\"#ed7953\"],[0.7777777777777778,\"#fb9f3a\"],[0.8888888888888888,\"#fdca26\"],[1.0,\"#f0f921\"]],\"diverging\":[[0,\"#8e0152\"],[0.1,\"#c51b7d\"],[0.2,\"#de77ae\"],[0.3,\"#f1b6da\"],[0.4,\"#fde0ef\"],[0.5,\"#f7f7f7\"],[0.6,\"#e6f5d0\"],[0.7,\"#b8e186\"],[0.8,\"#7fbc41\"],[0.9,\"#4d9221\"],[1,\"#276419\"]]},\"xaxis\":{\"gridcolor\":\"white\",\"linecolor\":\"white\",\"ticks\":\"\",\"title\":{\"standoff\":15},\"zerolinecolor\":\"white\",\"automargin\":true,\"zerolinewidth\":2},\"yaxis\":{\"gridcolor\":\"white\",\"linecolor\":\"white\",\"ticks\":\"\",\"title\":{\"standoff\":15},\"zerolinecolor\":\"white\",\"automargin\":true,\"zerolinewidth\":2},\"scene\":{\"xaxis\":{\"backgroundcolor\":\"#E5ECF6\",\"gridcolor\":\"white\",\"linecolor\":\"white\",\"showbackground\":true,\"ticks\":\"\",\"zerolinecolor\":\"white\",\"gridwidth\":2},\"yaxis\":{\"backgroundcolor\":\"#E5ECF6\",\"gridcolor\":\"white\",\"linecolor\":\"white\",\"showbackground\":true,\"ticks\":\"\",\"zerolinecolor\":\"white\",\"gridwidth\":2},\"zaxis\":{\"backgroundcolor\":\"#E5ECF6\",\"gridcolor\":\"white\",\"linecolor\":\"white\",\"showbackground\":true,\"ticks\":\"\",\"zerolinecolor\":\"white\",\"gridwidth\":2}},\"shapedefaults\":{\"line\":{\"color\":\"#2a3f5f\"}},\"annotationdefaults\":{\"arrowcolor\":\"#2a3f5f\",\"arrowhead\":0,\"arrowwidth\":1},\"geo\":{\"bgcolor\":\"white\",\"landcolor\":\"#E5ECF6\",\"subunitcolor\":\"white\",\"showland\":true,\"showlakes\":true,\"lakecolor\":\"white\"},\"title\":{\"x\":0.05},\"mapbox\":{\"style\":\"light\"}}},\"xaxis\":{\"anchor\":\"y\",\"domain\":[0.0,1.0],\"matches\":\"x11\",\"showticklabels\":false,\"title\":{\"text\":\"Measured At\"}},\"yaxis\":{\"anchor\":\"x\",\"domain\":[0.9504132231404958,0.9999999999999999],\"title\":{\"text\":\"Value\"}},\"xaxis2\":{\"anchor\":\"y2\",\"domain\":[0.0,1.0],\"matches\":\"x11\",\"showticklabels\":false,\"title\":{\"text\":\"Measured At\"}},\"yaxis2\":{\"anchor\":\"x2\",\"domain\":[0.8553719008264462,0.9049586776859503],\"title\":{\"text\":\"Value\"}},\"xaxis3\":{\"anchor\":\"y3\",\"domain\":[0.0,1.0],\"matches\":\"x11\",\"showticklabels\":false,\"title\":{\"text\":\"Measured At\"}},\"yaxis3\":{\"anchor\":\"x3\",\"domain\":[0.7603305785123966,0.8099173553719007],\"title\":{\"text\":\"Value\"}},\"xaxis4\":{\"anchor\":\"y4\",\"domain\":[0.0,1.0],\"matches\":\"x11\",\"showticklabels\":false,\"title\":{\"text\":\"Measured At\"}},\"yaxis4\":{\"anchor\":\"x4\",\"domain\":[0.665289256198347,0.7148760330578511],\"title\":{\"text\":\"Value\"}},\"xaxis5\":{\"anchor\":\"y5\",\"domain\":[0.0,1.0],\"matches\":\"x11\",\"showticklabels\":false,\"title\":{\"text\":\"Measured At\"}},\"yaxis5\":{\"anchor\":\"x5\",\"domain\":[0.5702479338842974,0.6198347107438015],\"title\":{\"text\":\"Value\"}},\"xaxis6\":{\"anchor\":\"y6\",\"domain\":[0.0,1.0],\"matches\":\"x11\",\"showticklabels\":false,\"title\":{\"text\":\"Measured At\"}},\"yaxis6\":{\"anchor\":\"x6\",\"domain\":[0.4752066115702479,0.524793388429752],\"title\":{\"text\":\"Value\"}},\"xaxis7\":{\"anchor\":\"y7\",\"domain\":[0.0,1.0],\"matches\":\"x11\",\"showticklabels\":false,\"title\":{\"text\":\"Measured At\"}},\"yaxis7\":{\"anchor\":\"x7\",\"domain\":[0.3801652892561983,0.42975206611570244],\"title\":{\"text\":\"Value\"}},\"xaxis8\":{\"anchor\":\"y8\",\"domain\":[0.0,1.0],\"matches\":\"x11\",\"showticklabels\":false,\"title\":{\"text\":\"Measured At\"}},\"yaxis8\":{\"anchor\":\"x8\",\"domain\":[0.2851239669421487,0.33471074380165283],\"title\":{\"text\":\"Value\"}},\"xaxis9\":{\"anchor\":\"y9\",\"domain\":[0.0,1.0],\"matches\":\"x11\",\"showticklabels\":false,\"title\":{\"text\":\"Measured At\"}},\"yaxis9\":{\"anchor\":\"x9\",\"domain\":[0.19008264462809915,0.23966942148760328],\"title\":{\"text\":\"Value\"}},\"xaxis10\":{\"anchor\":\"y10\",\"domain\":[0.0,1.0],\"matches\":\"x11\",\"showticklabels\":false,\"title\":{\"text\":\"Measured At\"}},\"yaxis10\":{\"anchor\":\"x10\",\"domain\":[0.09504132231404958,0.1446280991735537],\"title\":{\"text\":\"Value\"}},\"xaxis11\":{\"anchor\":\"y11\",\"domain\":[0.0,1.0],\"title\":{\"text\":\"Measured At\"}},\"yaxis11\":{\"anchor\":\"x11\",\"domain\":[0.0,0.04958677685950413],\"title\":{\"text\":\"Value\"}},\"annotations\":[{\"font\":{\"size\":16},\"showarrow\":false,\"text\":\"info.name\",\"x\":0.5,\"xanchor\":\"center\",\"xref\":\"paper\",\"y\":0.9999999999999999,\"yanchor\":\"bottom\",\"yref\":\"paper\"},{\"font\":{\"size\":16},\"showarrow\":false,\"text\":\"category.age.min\",\"x\":0.5,\"xanchor\":\"center\",\"xref\":\"paper\",\"y\":0.9049586776859503,\"yanchor\":\"bottom\",\"yref\":\"paper\"},{\"font\":{\"size\":16},\"showarrow\":false,\"text\":\"category.age.max\",\"x\":0.5,\"xanchor\":\"center\",\"xref\":\"paper\",\"y\":0.8099173553719007,\"yanchor\":\"bottom\",\"yref\":\"paper\"},{\"font\":{\"size\":16},\"showarrow\":false,\"text\":\"farm.location.latitude\",\"x\":0.5,\"xanchor\":\"center\",\"xref\":\"paper\",\"y\":0.7148760330578511,\"yanchor\":\"bottom\",\"yref\":\"paper\"},{\"font\":{\"size\":16},\"showarrow\":false,\"text\":\"farm.location.longitude\",\"x\":0.5,\"xanchor\":\"center\",\"xref\":\"paper\",\"y\":0.6198347107438015,\"yanchor\":\"bottom\",\"yref\":\"paper\"},{\"font\":{\"size\":16},\"showarrow\":false,\"text\":\"tank.size.radius\",\"x\":0.5,\"xanchor\":\"center\",\"xref\":\"paper\",\"y\":0.524793388429752,\"yanchor\":\"bottom\",\"yref\":\"paper\"},{\"font\":{\"size\":16},\"showarrow\":false,\"text\":\"tank.size.height\",\"x\":0.5,\"xanchor\":\"center\",\"xref\":\"paper\",\"y\":0.42975206611570244,\"yanchor\":\"bottom\",\"yref\":\"paper\"},{\"font\":{\"size\":16},\"showarrow\":false,\"text\":\"biomass.size.fork_length\",\"x\":0.5,\"xanchor\":\"center\",\"xref\":\"paper\",\"y\":0.33471074380165283,\"yanchor\":\"bottom\",\"yref\":\"paper\"},{\"font\":{\"size\":16},\"showarrow\":false,\"text\":\"biomass.size.total_length\",\"x\":0.5,\"xanchor\":\"center\",\"xref\":\"paper\",\"y\":0.23966942148760328,\"yanchor\":\"bottom\",\"yref\":\"paper\"},{\"font\":{\"size\":16},\"showarrow\":false,\"text\":\"biomass.size.body_depth\",\"x\":0.5,\"xanchor\":\"center\",\"xref\":\"paper\",\"y\":0.1446280991735537,\"yanchor\":\"bottom\",\"yref\":\"paper\"},{\"font\":{\"size\":16},\"showarrow\":false,\"text\":\"biomass.weight.value\",\"x\":0.5,\"xanchor\":\"center\",\"xref\":\"paper\",\"y\":0.04958677685950413,\"yanchor\":\"bottom\",\"yref\":\"paper\"}],\"title\":{\"text\":\"Multiple Variables over Time\"},\"height\":4400,\"width\":1000},                        {\"responsive\": true}                    ).then(function(){\n",
       "                            \n",
       "var gd = document.getElementById('83ef5167-2e04-40a2-ae00-dbd7f0fdfa1d');\n",
       "var x = new MutationObserver(function (mutations, observer) {{\n",
       "        var display = window.getComputedStyle(gd).display;\n",
       "        if (!display || display === 'none') {{\n",
       "            console.log([gd, 'removed!']);\n",
       "            Plotly.purge(gd);\n",
       "            observer.disconnect();\n",
       "        }}\n",
       "}});\n",
       "\n",
       "// Listen for the removal of the full notebook cells\n",
       "var notebookContainer = gd.closest('#notebook-container');\n",
       "if (notebookContainer) {{\n",
       "    x.observe(notebookContainer, {childList: true});\n",
       "}}\n",
       "\n",
       "// Listen for the clearing of the current output cell\n",
       "var outputEl = gd.closest('.output');\n",
       "if (outputEl) {{\n",
       "    x.observe(outputEl, {childList: true});\n",
       "}}\n",
       "\n",
       "                        })                };                });            </script>        </div>"
      ]
     },
     "metadata": {},
     "output_type": "display_data"
    }
   ],
   "source": [
    "import plotly.graph_objects as go\n",
    "from plotly.subplots import make_subplots\n",
    "\n",
    "# 'measured_at' 열을 기준으로 내림차순으로 정렬합니다.\n",
    "final_df_sorted = final_df.sort_values(by='measured_at', ascending=True)\n",
    "\n",
    "# 모든 변수들을 리스트로 저장합니다.\n",
    "variables = [\n",
    "    'info.name',\n",
    "    'category.age.min',\n",
    "    'category.age.max',\n",
    "    'farm.location.latitude',\n",
    "    'farm.location.longitude',\n",
    "    'tank.size.radius',\n",
    "    'tank.size.height',\n",
    "    'biomass.size.fork_length',\n",
    "    'biomass.size.total_length',\n",
    "    'biomass.size.body_depth',\n",
    "    'biomass.weight.value'\n",
    "]\n",
    "\n",
    "# 각 변수에 대한 subplot을 생성합니다.\n",
    "fig = make_subplots(rows=len(variables), cols=1, shared_xaxes=True, subplot_titles=variables)\n",
    "\n",
    "# 각 변수에 대한 scatter plot을 추가합니다.\n",
    "for i, variable in enumerate(variables, start=1):\n",
    "    fig.add_trace(go.Scatter(x=final_df_sorted['measured_at'][1:], y=final_df_sorted[variable][1:], mode='lines', name=variable), row=i, col=1)\n",
    "\n",
    "# 레이아웃을 업데이트합니다.\n",
    "fig.update_layout(height=400*len(variables), width=1000, title_text=\"Multiple Variables over Time\")\n",
    "fig.update_xaxes(title_text=\"Measured At\")\n",
    "fig.update_yaxes(title_text=\"Value\")\n",
    "\n",
    "# 그래프를 출력합니다.\n",
    "fig.show()\n"
   ]
  },
  {
   "cell_type": "code",
   "execution_count": null,
   "id": "95be9299",
   "metadata": {},
   "outputs": [],
   "source": []
  }
 ],
 "metadata": {
  "kernelspec": {
   "display_name": "Python 3",
   "language": "python",
   "name": "python3"
  },
  "language_info": {
   "codemirror_mode": {
    "name": "ipython",
    "version": 3
   },
   "file_extension": ".py",
   "mimetype": "text/x-python",
   "name": "python",
   "nbconvert_exporter": "python",
   "pygments_lexer": "ipython3",
   "version": "3.8.10"
  }
 },
 "nbformat": 4,
 "nbformat_minor": 5
}
